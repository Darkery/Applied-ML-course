{
 "cells": [
  {
   "cell_type": "markdown",
   "metadata": {},
   "source": [
    "# Applied Machine Learning\n",
    "## Grid search to determine the best training parameters\n",
    "- Author: Lorien Pratt\n",
    "- Copyright: Quantellia LLC 2019.  All Rights Reserved"
   ]
  },
  {
   "cell_type": "markdown",
   "metadata": {},
   "source": [
    "Grid search does many model runs to find which one produces the best result after a few epochs (assuming that this is a good proxy for the final learning performance, which may or may not be true).\n",
    "\n",
    "Grid search explores multiple network architectures (number of layers, number of hidden units per layer) and other learning parameters. "
   ]
  },
  {
   "cell_type": "markdown",
   "metadata": {},
   "source": [
    "## Setup"
   ]
  },
  {
   "cell_type": "code",
   "execution_count": 1,
   "metadata": {},
   "outputs": [],
   "source": [
    "# Set up to be able to invoke R from inside this Python 2 notebook\n",
    "#%load_ext rpy2.ipython\n",
    "#import rpy2.rinterface"
   ]
  },
  {
   "cell_type": "markdown",
   "metadata": {},
   "source": [
    "##### Install and initialize the H2O library, which we will use to do the grid search\n",
    "Note that this will generate a lot of warnings. These are expected, and not errors but rather notifications"
   ]
  },
  {
   "cell_type": "code",
   "execution_count": 2,
   "metadata": {},
   "outputs": [
    {
     "name": "stderr",
     "output_type": "stream",
     "text": [
      "Loading required package: h2o\n",
      "\n",
      "----------------------------------------------------------------------\n",
      "\n",
      "Your next step is to start H2O:\n",
      "    > h2o.init()\n",
      "\n",
      "For H2O package documentation, ask for help:\n",
      "    > ??h2o\n",
      "\n",
      "After starting H2O, you can use the Web UI at http://localhost:54321\n",
      "For more information visit http://docs.h2o.ai\n",
      "\n",
      "----------------------------------------------------------------------\n",
      "\n",
      "\n",
      "Attaching package: ‘h2o’\n",
      "\n",
      "The following objects are masked from ‘package:stats’:\n",
      "\n",
      "    cor, sd, var\n",
      "\n",
      "The following objects are masked from ‘package:base’:\n",
      "\n",
      "    &&, %*%, %in%, ||, apply, as.factor, as.numeric, colnames,\n",
      "    colnames<-, ifelse, is.character, is.factor, is.numeric, log,\n",
      "    log10, log1p, log2, round, signif, trunc\n",
      "\n"
     ]
    },
    {
     "name": "stdout",
     "output_type": "stream",
     "text": [
      " Connection successful!\n",
      "\n",
      "R is connected to the H2O cluster: \n",
      "    H2O cluster uptime:         8 minutes 37 seconds \n",
      "    H2O cluster timezone:       Etc/UTC \n",
      "    H2O data parsing timezone:  UTC \n",
      "    H2O cluster version:        3.26.0.10 \n",
      "    H2O cluster version age:    6 days  \n",
      "    H2O cluster name:           H2O_started_from_R_jupyter_ldd243 \n",
      "    H2O cluster total nodes:    1 \n",
      "    H2O cluster total memory:   0.38 GB \n",
      "    H2O cluster total cores:    1 \n",
      "    H2O cluster allowed cores:  1 \n",
      "    H2O cluster healthy:        TRUE \n",
      "    H2O Connection ip:          localhost \n",
      "    H2O Connection port:        54321 \n",
      "    H2O Connection proxy:       NA \n",
      "    H2O Internal Security:      FALSE \n",
      "    H2O API Extensions:         Amazon S3, XGBoost, Algos, AutoML, Core V3, TargetEncoder, Core V4 \n",
      "    R Version:                  R version 3.6.1 (2019-07-05) \n",
      "\n"
     ]
    }
   ],
   "source": [
    "require(h2o)\n",
    "h2o.init()\n",
    "h2o.no_progress() # Turns off progress bars, which don't display well in Jupyter"
   ]
  },
  {
   "cell_type": "markdown",
   "metadata": {},
   "source": [
    "Set up my initials for file names"
   ]
  },
  {
   "cell_type": "code",
   "execution_count": 4,
   "metadata": {},
   "outputs": [],
   "source": [
    "my_initials<-\"jing\""
   ]
  },
  {
   "cell_type": "markdown",
   "metadata": {},
   "source": [
    "Read in the test and training files that we created in the Prepare Data lesson, and convert them to h2o's internal \"hex\" format"
   ]
  },
  {
   "cell_type": "code",
   "execution_count": 5,
   "metadata": {},
   "outputs": [
    {
     "name": "stdout",
     "output_type": "stream",
     "text": [
      "[1] \"data/jing_train_auto.csv\"\n",
      "[1] \"data/jing_test_auto.csv\"\n",
      "[1] \"data/jing_backtest_auto.csv\"\n"
     ]
    }
   ],
   "source": [
    "train_filename<-paste0(\"data/\",my_initials,\"_train_auto.csv\"); print( train_filename )\n",
    "test_filename<-paste0(\"data/\",my_initials,\"_test_auto.csv\"); print( test_filename )\n",
    "backtest_filename<-paste0(\"data/\",my_initials,\"_backtest_auto.csv\"); print( backtest_filename )"
   ]
  },
  {
   "cell_type": "markdown",
   "metadata": {},
   "source": [
    "Read in the test and training files you created in the previous step. Convert them to h2o files along the way."
   ]
  },
  {
   "cell_type": "code",
   "execution_count": 6,
   "metadata": {},
   "outputs": [],
   "source": [
    "train_hex <- h2o.importFile(train_filename, parse = TRUE, header = TRUE, \n",
    "                            sep = \"\", col.names = NULL, col.types = NULL, na.strings = NULL)\n",
    "test_hex <- h2o.importFile(test_filename, parse = TRUE, header = TRUE, \n",
    "                           sep = \"\", col.names = NULL, col.types = NULL, na.strings = NULL)"
   ]
  },
  {
   "cell_type": "markdown",
   "metadata": {},
   "source": [
    "Tell the grid search which of the columns are predictors.  First, let's look at the top of the dataset again to remind us of the structure..."
   ]
  },
  {
   "cell_type": "code",
   "execution_count": 7,
   "metadata": {},
   "outputs": [
    {
     "data": {
      "text/html": [
       "<table>\n",
       "<caption>A data.frame: 6 × 5</caption>\n",
       "<thead>\n",
       "\t<tr><th scope=col>sepal_length</th><th scope=col>sepal_width</th><th scope=col>petal_length</th><th scope=col>petal_width</th><th scope=col>class</th></tr>\n",
       "\t<tr><th scope=col>&lt;dbl&gt;</th><th scope=col>&lt;dbl&gt;</th><th scope=col>&lt;dbl&gt;</th><th scope=col>&lt;dbl&gt;</th><th scope=col>&lt;dbl&gt;</th></tr>\n",
       "</thead>\n",
       "<tbody>\n",
       "\t<tr><td>4.5</td><td>2.3</td><td>1.3</td><td>0.3</td><td>1</td></tr>\n",
       "\t<tr><td>6.3</td><td>2.7</td><td>4.9</td><td>1.8</td><td>0</td></tr>\n",
       "\t<tr><td>6.7</td><td>3.3</td><td>5.7</td><td>2.5</td><td>0</td></tr>\n",
       "\t<tr><td>6.4</td><td>2.8</td><td>5.6</td><td>2.1</td><td>0</td></tr>\n",
       "\t<tr><td>6.5</td><td>3.0</td><td>5.2</td><td>2.0</td><td>0</td></tr>\n",
       "\t<tr><td>4.7</td><td>3.2</td><td>1.3</td><td>0.2</td><td>1</td></tr>\n",
       "</tbody>\n",
       "</table>\n"
      ],
      "text/latex": [
       "A data.frame: 6 × 5\n",
       "\\begin{tabular}{r|lllll}\n",
       " sepal\\_length & sepal\\_width & petal\\_length & petal\\_width & class\\\\\n",
       " <dbl> & <dbl> & <dbl> & <dbl> & <dbl>\\\\\n",
       "\\hline\n",
       "\t 4.5 & 2.3 & 1.3 & 0.3 & 1\\\\\n",
       "\t 6.3 & 2.7 & 4.9 & 1.8 & 0\\\\\n",
       "\t 6.7 & 3.3 & 5.7 & 2.5 & 0\\\\\n",
       "\t 6.4 & 2.8 & 5.6 & 2.1 & 0\\\\\n",
       "\t 6.5 & 3.0 & 5.2 & 2.0 & 0\\\\\n",
       "\t 4.7 & 3.2 & 1.3 & 0.2 & 1\\\\\n",
       "\\end{tabular}\n"
      ],
      "text/markdown": [
       "\n",
       "A data.frame: 6 × 5\n",
       "\n",
       "| sepal_length &lt;dbl&gt; | sepal_width &lt;dbl&gt; | petal_length &lt;dbl&gt; | petal_width &lt;dbl&gt; | class &lt;dbl&gt; |\n",
       "|---|---|---|---|---|\n",
       "| 4.5 | 2.3 | 1.3 | 0.3 | 1 |\n",
       "| 6.3 | 2.7 | 4.9 | 1.8 | 0 |\n",
       "| 6.7 | 3.3 | 5.7 | 2.5 | 0 |\n",
       "| 6.4 | 2.8 | 5.6 | 2.1 | 0 |\n",
       "| 6.5 | 3.0 | 5.2 | 2.0 | 0 |\n",
       "| 4.7 | 3.2 | 1.3 | 0.2 | 1 |\n",
       "\n"
      ],
      "text/plain": [
       "  sepal_length sepal_width petal_length petal_width class\n",
       "1 4.5          2.3         1.3          0.3         1    \n",
       "2 6.3          2.7         4.9          1.8         0    \n",
       "3 6.7          3.3         5.7          2.5         0    \n",
       "4 6.4          2.8         5.6          2.1         0    \n",
       "5 6.5          3.0         5.2          2.0         0    \n",
       "6 4.7          3.2         1.3          0.2         1    "
      ]
     },
     "metadata": {},
     "output_type": "display_data"
    }
   ],
   "source": [
    "head(train_hex)"
   ]
  },
  {
   "cell_type": "markdown",
   "metadata": {},
   "source": [
    "Set the predictor columns and chec that they're the right ones"
   ]
  },
  {
   "cell_type": "code",
   "execution_count": 8,
   "metadata": {},
   "outputs": [
    {
     "data": {
      "text/html": [
       "<ol class=list-inline>\n",
       "\t<li>'sepal_length'</li>\n",
       "\t<li>'sepal_width'</li>\n",
       "\t<li>'petal_length'</li>\n",
       "\t<li>'petal_width'</li>\n",
       "\t<li>'class'</li>\n",
       "</ol>\n"
      ],
      "text/latex": [
       "\\begin{enumerate*}\n",
       "\\item 'sepal\\_length'\n",
       "\\item 'sepal\\_width'\n",
       "\\item 'petal\\_length'\n",
       "\\item 'petal\\_width'\n",
       "\\item 'class'\n",
       "\\end{enumerate*}\n"
      ],
      "text/markdown": [
       "1. 'sepal_length'\n",
       "2. 'sepal_width'\n",
       "3. 'petal_length'\n",
       "4. 'petal_width'\n",
       "5. 'class'\n",
       "\n",
       "\n"
      ],
      "text/plain": [
       "[1] \"sepal_length\" \"sepal_width\"  \"petal_length\" \"petal_width\"  \"class\"       "
      ]
     },
     "metadata": {},
     "output_type": "display_data"
    }
   ],
   "source": [
    "predictors <- c(1,2,3,4,5)\n",
    "names(train_hex)[predictors]"
   ]
  },
  {
   "cell_type": "markdown",
   "metadata": {},
   "source": [
    "Tell the model training which of the columns is the target column (in this case, the very last column, mpg)"
   ]
  },
  {
   "cell_type": "code",
   "execution_count": 9,
   "metadata": {},
   "outputs": [],
   "source": [
    "targetcol<-ncol(train_hex)"
   ]
  },
  {
   "cell_type": "markdown",
   "metadata": {},
   "source": [
    "Tell the grid search which of the columns are predictors.  First, let's loo at the top of the dataset again to remind us of the structure..."
   ]
  },
  {
   "cell_type": "markdown",
   "metadata": {},
   "source": [
    "Create a set of grid search *hyperparameters* .  These are the alternative structures we'll try to see which one\n",
    "creates the best results after running the speciied number of epochs"
   ]
  },
  {
   "cell_type": "code",
   "execution_count": 10,
   "metadata": {},
   "outputs": [],
   "source": [
    "hyper_params <- list(\n",
    "    hidden=list(1, 5, 10, c(5,5), c(10,10,10)),\n",
    "    l1=c(0, .01, .00001),\n",
    "    l2=c(0, .01, 0.001, .00001),\n",
    "    input_dropout_ratio=c(0, .01, .0001),\n",
    "    epochs=c(100)\n",
    ")"
   ]
  },
  {
   "cell_type": "markdown",
   "metadata": {},
   "source": [
    "Run the grid test with these parameters.  This can take a little while, during which there will be no feedback."
   ]
  },
  {
   "cell_type": "code",
   "execution_count": 11,
   "metadata": {},
   "outputs": [
    {
     "name": "stderr",
     "output_type": "stream",
     "text": [
      "Warning message in .verify_dataxy(params$training_frame, x, y):\n",
      "“removing response variable from the explanatory variables”"
     ]
    }
   ],
   "source": [
    "grid_result <- h2o.grid(\n",
    "    algorithm=\"deeplearning\",\n",
    "    x=predictors,\n",
    "    y=targetcol,\n",
    "    grid_id=\"grid_1\", # Can't be reused; consider incrementing on subsequent runs. TBD: try kernel restart for this instead\n",
    "    training_frame=train_hex,\n",
    "    validation_frame=test_hex,\n",
    "    quiet_mode=FALSE,\n",
    "    export_weights_and_biases=TRUE,\n",
    "    activation=\"Tanh\",\n",
    "    autoencoder=FALSE,\n",
    "    ignore_const_cols=FALSE,\n",
    "    standardize=FALSE,\n",
    "    train_samples_per_iteration=0,\n",
    "    adaptive_rate=FALSE, # Manaully tuned learning rate\n",
    "    classification_stop = -1, # Dispable automatic stopping\n",
    "    regression_stop = -1, # Disable automatic stopping\n",
    "    stopping_rounds = 0, # Don't stop automatically\n",
    "    hyper_params = hyper_params\n",
    "\n",
    ")"
   ]
  },
  {
   "cell_type": "markdown",
   "metadata": {},
   "source": [
    "Display the grid search results"
   ]
  },
  {
   "cell_type": "code",
   "execution_count": 12,
   "metadata": {},
   "outputs": [
    {
     "data": {
      "text/plain": [
       "H2O Grid Details\n",
       "================\n",
       "\n",
       "Grid ID: grid_1 \n",
       "Used hyper parameters: \n",
       "  -  epochs \n",
       "  -  hidden \n",
       "  -  input_dropout_ratio \n",
       "  -  l1 \n",
       "  -  l2 \n",
       "Number of models: 180 \n",
       "Number of failed models: 0 \n",
       "\n",
       "Hyper-Parameter Search Summary: ordered by increasing mse\n",
       "  epochs       hidden input_dropout_ratio     l1     l2        model_ids\n",
       "1  100.0       [5, 5]                0.01 1.0E-5 1.0E-5 grid_1_model_174\n",
       "2  100.0 [10, 10, 10]              1.0E-4    0.0  0.001 grid_1_model_105\n",
       "3  100.0 [10, 10, 10]              1.0E-4    0.0 1.0E-5 grid_1_model_150\n",
       "4  100.0 [10, 10, 10]                 0.0 1.0E-5 1.0E-5 grid_1_model_170\n",
       "5  100.0 [10, 10, 10]                0.01    0.0    0.0  grid_1_model_10\n",
       "                    mse\n",
       "1  9.809676176837586E-4\n",
       "2 0.0010111315694325115\n",
       "3 0.0011047155141876667\n",
       "4  0.001187502401652319\n",
       "5 0.0012007269888056446\n",
       "\n",
       "---\n",
       "    epochs hidden input_dropout_ratio     l1     l2        model_ids\n",
       "175  100.0    [1]              1.0E-4 1.0E-5  0.001 grid_1_model_131\n",
       "176  100.0    [1]              1.0E-4    0.0  0.001 grid_1_model_101\n",
       "177  100.0    [1]                 0.0 1.0E-5   0.01  grid_1_model_76\n",
       "178  100.0    [1]                0.01    0.0  0.001  grid_1_model_96\n",
       "179  100.0    [1]              1.0E-4    0.0   0.01  grid_1_model_56\n",
       "180  100.0    [1]              1.0E-4   0.01 1.0E-5 grid_1_model_161\n",
       "                    mse\n",
       "175  0.2621539702440814\n",
       "176  0.2621542590038554\n",
       "177 0.26218481695320695\n",
       "178  0.2622606491717125\n",
       "179 0.26247921747493724\n",
       "180 0.26453342097105104"
      ]
     },
     "metadata": {},
     "output_type": "display_data"
    }
   ],
   "source": [
    "h2o.getGrid(\"grid_1\", sort_by=\"mse\", decreasing=FALSE)"
   ]
  },
  {
   "cell_type": "code",
   "execution_count": null,
   "metadata": {},
   "outputs": [],
   "source": []
  }
 ],
 "metadata": {
  "kernelspec": {
   "display_name": "R",
   "language": "R",
   "name": "ir"
  },
  "language_info": {
   "codemirror_mode": "r",
   "file_extension": ".r",
   "mimetype": "text/x-r-source",
   "name": "R",
   "pygments_lexer": "r",
   "version": "3.6.1"
  }
 },
 "nbformat": 4,
 "nbformat_minor": 4
}
