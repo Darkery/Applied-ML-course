{
 "cells": [
  {
   "cell_type": "markdown",
   "metadata": {},
   "source": [
    "# Applied Machine Learning\n",
    "## Train your first machine learning model\n",
    "- Author: Lorien Pratt\n",
    "- Copyright: Quantellia LLC 2019.  All Rights Reserved"
   ]
  },
  {
   "cell_type": "markdown",
   "metadata": {},
   "source": [
    "## Setup"
   ]
  },
  {
   "cell_type": "code",
   "execution_count": 1,
   "metadata": {},
   "outputs": [],
   "source": [
    "my_initials<-\"nm\" # Set your initials to use for model and data files"
   ]
  },
  {
   "cell_type": "markdown",
   "metadata": {},
   "source": [
    "##### Install and initialize the H2O library, which we will use to do the grid search\n",
    "Note that this will generate a lot of warnings. These are expected, and not errors but rather notifications"
   ]
  },
  {
   "cell_type": "code",
   "execution_count": 2,
   "metadata": {},
   "outputs": [
    {
     "name": "stderr",
     "output_type": "stream",
     "text": [
      "Loading required package: h2o\n",
      "\n",
      "----------------------------------------------------------------------\n",
      "\n",
      "Your next step is to start H2O:\n",
      "    > h2o.init()\n",
      "\n",
      "For H2O package documentation, ask for help:\n",
      "    > ??h2o\n",
      "\n",
      "After starting H2O, you can use the Web UI at http://localhost:54321\n",
      "For more information visit http://docs.h2o.ai\n",
      "\n",
      "----------------------------------------------------------------------\n",
      "\n",
      "\n",
      "Attaching package: ‘h2o’\n",
      "\n",
      "The following objects are masked from ‘package:stats’:\n",
      "\n",
      "    cor, sd, var\n",
      "\n",
      "The following objects are masked from ‘package:base’:\n",
      "\n",
      "    &&, %*%, %in%, ||, apply, as.factor, as.numeric, colnames,\n",
      "    colnames<-, ifelse, is.character, is.factor, is.numeric, log,\n",
      "    log10, log1p, log2, round, signif, trunc\n",
      "\n"
     ]
    },
    {
     "name": "stdout",
     "output_type": "stream",
     "text": [
      " Connection successful!\n",
      "\n",
      "R is connected to the H2O cluster: \n",
      "    H2O cluster uptime:         22 hours 36 minutes \n",
      "    H2O cluster timezone:       Etc/UTC \n",
      "    H2O data parsing timezone:  UTC \n",
      "    H2O cluster version:        3.26.0.10 \n",
      "    H2O cluster version age:    6 days  \n",
      "    H2O cluster name:           H2O_started_from_R_jupyter_mcy252 \n",
      "    H2O cluster total nodes:    1 \n",
      "    H2O cluster total memory:   0.32 GB \n",
      "    H2O cluster total cores:    1 \n",
      "    H2O cluster allowed cores:  1 \n",
      "    H2O cluster healthy:        TRUE \n",
      "    H2O Connection ip:          localhost \n",
      "    H2O Connection port:        54321 \n",
      "    H2O Connection proxy:       NA \n",
      "    H2O Internal Security:      FALSE \n",
      "    H2O API Extensions:         Amazon S3, XGBoost, Algos, AutoML, Core V3, TargetEncoder, Core V4 \n",
      "    R Version:                  R version 3.6.1 (2019-07-05) \n",
      "\n"
     ]
    }
   ],
   "source": [
    "require(h2o)\n",
    "h2o.init()"
   ]
  },
  {
   "cell_type": "markdown",
   "metadata": {},
   "source": [
    "Install a number of R packages we'll need to display the results"
   ]
  },
  {
   "cell_type": "code",
   "execution_count": 3,
   "metadata": {},
   "outputs": [
    {
     "name": "stderr",
     "output_type": "stream",
     "text": [
      "Loading required package: plyr\n",
      "Loading required package: pROC\n",
      "Type 'citation(\"pROC\")' for a citation.\n",
      "\n",
      "Attaching package: ‘pROC’\n",
      "\n",
      "The following object is masked from ‘package:h2o’:\n",
      "\n",
      "    var\n",
      "\n",
      "The following objects are masked from ‘package:stats’:\n",
      "\n",
      "    cov, smooth, var\n",
      "\n",
      "Loading required package: SDMTools\n",
      "Registered S3 method overwritten by 'R.oo':\n",
      "  method        from       \n",
      "  throw.default R.methodsS3\n",
      "\n",
      "Attaching package: ‘SDMTools’\n",
      "\n",
      "The following object is masked from ‘package:pROC’:\n",
      "\n",
      "    auc\n",
      "\n",
      "Loading required package: RColorBrewer\n",
      "Loading required package: gplots\n",
      "\n",
      "Attaching package: ‘gplots’\n",
      "\n",
      "The following object is masked from ‘package:stats’:\n",
      "\n",
      "    lowess\n",
      "\n"
     ]
    }
   ],
   "source": [
    "# This will generate what look like warnings, but are really notifications\n",
    "# uncomment install.packages if you are on a new instance without these packages pre-installed\n",
    "#install.packages(\"plyr\")\n",
    "#install.packages(\"pROC\")\n",
    "#install.packages(\"SDMTools\")\n",
    "#install.packages(\"RColorBrewer\")\n",
    "#install.packages(\"gplots\")\n",
    "require(plyr)\n",
    "require(pROC)\n",
    "require(SDMTools)\n",
    "require(RColorBrewer)\n",
    "require(gplots)"
   ]
  },
  {
   "cell_type": "markdown",
   "metadata": {},
   "source": [
    "Create the file names from your initials, just as we did when building the files in the first place"
   ]
  },
  {
   "cell_type": "code",
   "execution_count": 4,
   "metadata": {},
   "outputs": [
    {
     "name": "stdout",
     "output_type": "stream",
     "text": [
      "[1] \"data/nm_train_auto.csv\"\n",
      "[1] \"data/nm_test_auto.csv\"\n",
      "[1] \"data/nm_backtest_auto.csv\"\n"
     ]
    }
   ],
   "source": [
    "train_filename<-paste0(\"data/\",my_initials,\"_train_auto.csv\"); print( train_filename )\n",
    "test_filename<-paste0(\"data/\",my_initials,\"_test_auto.csv\"); print( test_filename )\n",
    "backtest_filename<-paste0(\"data/\",my_initials,\"_backtest_auto.csv\"); print( backtest_filename )"
   ]
  },
  {
   "cell_type": "markdown",
   "metadata": {},
   "source": [
    "Read in the test and training files you created in the previous step. Convert them to h2o files along the way."
   ]
  },
  {
   "cell_type": "code",
   "execution_count": 5,
   "metadata": {},
   "outputs": [
    {
     "name": "stdout",
     "output_type": "stream",
     "text": [
      "  |======================================================================| 100%\n",
      "  |======================================================================| 100%\n",
      "  |======================================================================| 100%\n"
     ]
    }
   ],
   "source": [
    "train_hex <- h2o.importFile(train_filename, parse = TRUE, header = TRUE, \n",
    "                            sep = \"\", col.names = NULL, col.types = NULL, na.strings = NULL)\n",
    "test_hex <- h2o.importFile(test_filename, parse = TRUE, header = TRUE, \n",
    "                           sep = \"\", col.names = NULL, col.types = NULL, na.strings = NULL)\n",
    "backtest_hex <- h2o.importFile(backtest_filename, parse = TRUE, header = TRUE, \n",
    "                           sep = \"\", col.names = NULL, col.types = NULL, na.strings = NULL)"
   ]
  },
  {
   "cell_type": "markdown",
   "metadata": {},
   "source": [
    "Set a number of configuration parameters for model training"
   ]
  },
  {
   "cell_type": "code",
   "execution_count": 18,
   "metadata": {},
   "outputs": [],
   "source": [
    "config_epochs=30.0\n",
    "config_hidden=c(5)\n",
    "config_input_dropout_ratio = 0.01\n",
    "config_l1=1.0E-5\n",
    "config_l2=0.01"
   ]
  },
  {
   "cell_type": "markdown",
   "metadata": {},
   "source": [
    "**Tell the model training which of the columns are predictors.**\n",
    "First, let's looK at the top of the dataset again to remind us of the structure..."
   ]
  },
  {
   "cell_type": "code",
   "execution_count": 19,
   "metadata": {},
   "outputs": [
    {
     "data": {
      "text/html": [
       "<table>\n",
       "<caption>A data.frame: 6 × 9</caption>\n",
       "<thead>\n",
       "\t<tr><th scope=col>car.name</th><th scope=col>cylinders</th><th scope=col>displacement</th><th scope=col>horsepower</th><th scope=col>weight</th><th scope=col>acceleration</th><th scope=col>model.year</th><th scope=col>origin</th><th scope=col>mpg</th></tr>\n",
       "\t<tr><th scope=col>&lt;fct&gt;</th><th scope=col>&lt;dbl&gt;</th><th scope=col>&lt;dbl&gt;</th><th scope=col>&lt;dbl&gt;</th><th scope=col>&lt;dbl&gt;</th><th scope=col>&lt;dbl&gt;</th><th scope=col>&lt;dbl&gt;</th><th scope=col>&lt;dbl&gt;</th><th scope=col>&lt;dbl&gt;</th></tr>\n",
       "</thead>\n",
       "<tbody>\n",
       "\t<tr><td>ford country squire (sw)</td><td>8</td><td>351</td><td>142</td><td>4054</td><td>14.3</td><td>79</td><td>1</td><td>15.5</td></tr>\n",
       "\t<tr><td>plymouth duster         </td><td>6</td><td>198</td><td> 95</td><td>3102</td><td>16.5</td><td>74</td><td>1</td><td>20.0</td></tr>\n",
       "\t<tr><td>saab\t99le              </td><td>4</td><td>121</td><td>115</td><td>2671</td><td>13.5</td><td>75</td><td>2</td><td>25.0</td></tr>\n",
       "\t<tr><td>amc matador (sw)        </td><td>8</td><td>304</td><td>150</td><td>3892</td><td>12.5</td><td>72</td><td>1</td><td>15.0</td></tr>\n",
       "\t<tr><td>pontiac phoenix         </td><td>4</td><td>151</td><td> 90</td><td>2735</td><td>18.0</td><td>82</td><td>1</td><td>27.0</td></tr>\n",
       "\t<tr><td>ford fairmont           </td><td>4</td><td>140</td><td> 88</td><td>2870</td><td>18.1</td><td>80</td><td>1</td><td>26.4</td></tr>\n",
       "</tbody>\n",
       "</table>\n"
      ],
      "text/latex": [
       "A data.frame: 6 × 9\n",
       "\\begin{tabular}{r|lllllllll}\n",
       " car.name & cylinders & displacement & horsepower & weight & acceleration & model.year & origin & mpg\\\\\n",
       " <fct> & <dbl> & <dbl> & <dbl> & <dbl> & <dbl> & <dbl> & <dbl> & <dbl>\\\\\n",
       "\\hline\n",
       "\t ford country squire (sw) & 8 & 351 & 142 & 4054 & 14.3 & 79 & 1 & 15.5\\\\\n",
       "\t plymouth duster          & 6 & 198 &  95 & 3102 & 16.5 & 74 & 1 & 20.0\\\\\n",
       "\t saab\t99le               & 4 & 121 & 115 & 2671 & 13.5 & 75 & 2 & 25.0\\\\\n",
       "\t amc matador (sw)         & 8 & 304 & 150 & 3892 & 12.5 & 72 & 1 & 15.0\\\\\n",
       "\t pontiac phoenix          & 4 & 151 &  90 & 2735 & 18.0 & 82 & 1 & 27.0\\\\\n",
       "\t ford fairmont            & 4 & 140 &  88 & 2870 & 18.1 & 80 & 1 & 26.4\\\\\n",
       "\\end{tabular}\n"
      ],
      "text/markdown": [
       "\n",
       "A data.frame: 6 × 9\n",
       "\n",
       "| car.name &lt;fct&gt; | cylinders &lt;dbl&gt; | displacement &lt;dbl&gt; | horsepower &lt;dbl&gt; | weight &lt;dbl&gt; | acceleration &lt;dbl&gt; | model.year &lt;dbl&gt; | origin &lt;dbl&gt; | mpg &lt;dbl&gt; |\n",
       "|---|---|---|---|---|---|---|---|---|\n",
       "| ford country squire (sw) | 8 | 351 | 142 | 4054 | 14.3 | 79 | 1 | 15.5 |\n",
       "| plymouth duster          | 6 | 198 |  95 | 3102 | 16.5 | 74 | 1 | 20.0 |\n",
       "| saab\t99le               | 4 | 121 | 115 | 2671 | 13.5 | 75 | 2 | 25.0 |\n",
       "| amc matador (sw)         | 8 | 304 | 150 | 3892 | 12.5 | 72 | 1 | 15.0 |\n",
       "| pontiac phoenix          | 4 | 151 |  90 | 2735 | 18.0 | 82 | 1 | 27.0 |\n",
       "| ford fairmont            | 4 | 140 |  88 | 2870 | 18.1 | 80 | 1 | 26.4 |\n",
       "\n"
      ],
      "text/plain": [
       "  car.name                 cylinders displacement horsepower weight\n",
       "1 ford country squire (sw) 8         351          142        4054  \n",
       "2 plymouth duster          6         198           95        3102  \n",
       "3 saab\\t99le               4         121          115        2671  \n",
       "4 amc matador (sw)         8         304          150        3892  \n",
       "5 pontiac phoenix          4         151           90        2735  \n",
       "6 ford fairmont            4         140           88        2870  \n",
       "  acceleration model.year origin mpg \n",
       "1 14.3         79         1      15.5\n",
       "2 16.5         74         1      20.0\n",
       "3 13.5         75         2      25.0\n",
       "4 12.5         72         1      15.0\n",
       "5 18.0         82         1      27.0\n",
       "6 18.1         80         1      26.4"
      ]
     },
     "metadata": {},
     "output_type": "display_data"
    }
   ],
   "source": [
    "head(train_hex)"
   ]
  },
  {
   "cell_type": "markdown",
   "metadata": {},
   "source": [
    "Set the predictor columns and check that they're the right ones"
   ]
  },
  {
   "cell_type": "code",
   "execution_count": 20,
   "metadata": {},
   "outputs": [
    {
     "data": {
      "text/html": [
       "<ol class=list-inline>\n",
       "\t<li>'cylinders'</li>\n",
       "\t<li>'displacement'</li>\n",
       "\t<li>'horsepower'</li>\n",
       "\t<li>'weight'</li>\n",
       "\t<li>'acceleration'</li>\n",
       "\t<li>'model.year'</li>\n",
       "\t<li>'origin'</li>\n",
       "</ol>\n"
      ],
      "text/latex": [
       "\\begin{enumerate*}\n",
       "\\item 'cylinders'\n",
       "\\item 'displacement'\n",
       "\\item 'horsepower'\n",
       "\\item 'weight'\n",
       "\\item 'acceleration'\n",
       "\\item 'model.year'\n",
       "\\item 'origin'\n",
       "\\end{enumerate*}\n"
      ],
      "text/markdown": [
       "1. 'cylinders'\n",
       "2. 'displacement'\n",
       "3. 'horsepower'\n",
       "4. 'weight'\n",
       "5. 'acceleration'\n",
       "6. 'model.year'\n",
       "7. 'origin'\n",
       "\n",
       "\n"
      ],
      "text/plain": [
       "[1] \"cylinders\"    \"displacement\" \"horsepower\"   \"weight\"       \"acceleration\"\n",
       "[6] \"model.year\"   \"origin\"      "
      ]
     },
     "metadata": {},
     "output_type": "display_data"
    }
   ],
   "source": [
    "predictors <- c(2,3,4,5,6,7,8)\n",
    "names(train_hex)[predictors]"
   ]
  },
  {
   "cell_type": "markdown",
   "metadata": {},
   "source": [
    "Tell the model training which of the columns is the target column (in this case, the very last column, mpg)"
   ]
  },
  {
   "cell_type": "code",
   "execution_count": 21,
   "metadata": {},
   "outputs": [
    {
     "data": {
      "text/html": [
       "'mpg'"
      ],
      "text/latex": [
       "'mpg'"
      ],
      "text/markdown": [
       "'mpg'"
      ],
      "text/plain": [
       "[1] \"mpg\""
      ]
     },
     "metadata": {},
     "output_type": "display_data"
    }
   ],
   "source": [
    "targetcol<-ncol(train_hex)\n",
    "names(train_hex)[targetcol]"
   ]
  },
  {
   "cell_type": "markdown",
   "metadata": {},
   "source": [
    "Train the model"
   ]
  },
  {
   "cell_type": "code",
   "execution_count": 22,
   "metadata": {},
   "outputs": [
    {
     "name": "stdout",
     "output_type": "stream",
     "text": [
      "  |======================================================================| 100%\n"
     ]
    }
   ],
   "source": [
    "model  <- h2o.deeplearning(\n",
    "    x = predictors,\n",
    "    y = targetcol,\n",
    "    variable_importances=TRUE,\n",
    "    model_id='model_1',\n",
    "    training_frame=train_hex,\n",
    "    validation_frame = test_hex,\n",
    "    quiet_mode=FALSE,\n",
    "    export_weights_and_biases=TRUE,\n",
    "    activation=\"Tanh\",              # Linear outputs\n",
    "    autoencoder=FALSE,\n",
    "    ignore_const_cols=F,\n",
    "    train_samples_per_iteration=0,\n",
    "    stopping_tolerance = 1e-5,\n",
    "    classification_stop = -1,       # Disable automatic stopping\n",
    "    adaptive_rate=F,                # Manaully tuned learning rate\n",
    "    reproducible=T,\n",
    "    epochs=config_epochs,\n",
    "    hidden=config_hidden,\n",
    "    input_dropout_ratio = config_input_dropout_ratio, \n",
    "    l1=config_l1,\n",
    "    l2=config_l2\n",
    "  )"
   ]
  },
  {
   "cell_type": "markdown",
   "metadata": {},
   "source": [
    "##### Plot how the error changed for the train and test set during learning. H2O calls the test set \"Validation\"."
   ]
  },
  {
   "cell_type": "code",
   "execution_count": 23,
   "metadata": {},
   "outputs": [
    {
     "data": {
      "image/png": "[encoded data removed]",
      "text/plain": [
       "Plot with title “Scoring History”"
      ]
     },
     "metadata": {},
     "output_type": "display_data"
    }
   ],
   "source": [
    "plot(model, timestep=\"epochs\", metric=\"RMSE\")"
   ]
  },
  {
   "cell_type": "markdown",
   "metadata": {},
   "source": [
    "## Model evalution"
   ]
  },
  {
   "cell_type": "markdown",
   "metadata": {},
   "source": [
    "Generate predictions for every row in the backtest set, and create two vectors: one with the truth and one with the prediction"
   ]
  },
  {
   "cell_type": "code",
   "execution_count": 24,
   "metadata": {},
   "outputs": [
    {
     "name": "stdout",
     "output_type": "stream",
     "text": [
      "  |======================================================================| 100%\n",
      " num [1:127] 23.7 24.2 34 15 34.7 14 16 26 21 26 ...\n",
      " num [1:127] 30.5 29.5 30.3 12 34 ...\n"
     ]
    }
   ],
   "source": [
    "predictions <- h2o.predict(model, backtest_hex)\n",
    "#actual_column <- as.logical(as.vector(as.numeric(backtest_hex[ ,ncol(backtest_hex)])))\n",
    "actual_column <- as.vector(as.numeric(backtest_hex[targetcol]))\n",
    "predict_column <- as.vector(predictions[ ,'predict'])\n",
    "str(actual_column)\n",
    "str(predict_column)"
   ]
  },
  {
   "cell_type": "markdown",
   "metadata": {},
   "source": [
    "Plot actuals versus predictions to get a visual sense of how well the model did"
   ]
  },
  {
   "cell_type": "code",
   "execution_count": 25,
   "metadata": {},
   "outputs": [
    {
     "data": {
      "image/png": "[encoded data removed]",
      "text/plain": [
       "plot without title"
      ]
     },
     "metadata": {},
     "output_type": "display_data"
    }
   ],
   "source": [
    "plot(actual_column,predict_column)"
   ]
  },
  {
   "cell_type": "markdown",
   "metadata": {},
   "source": [
    "Analyze the data shown above to obtain a numerical measure of the quality of the fit.  Focus: adjusted R-squared."
   ]
  },
  {
   "cell_type": "code",
   "execution_count": 26,
   "metadata": {},
   "outputs": [
    {
     "data": {
      "text/plain": [
       "\n",
       "Call:\n",
       "lm(formula = predict_column ~ actual_column)\n",
       "\n",
       "Residuals:\n",
       "     Min       1Q   Median       3Q      Max \n",
       "-10.9013  -1.7167  -0.0504   1.5742   8.1167 \n",
       "\n",
       "Coefficients:\n",
       "              Estimate Std. Error t value Pr(>|t|)    \n",
       "(Intercept)    3.08707    0.80409   3.839 0.000195 ***\n",
       "actual_column  0.85835    0.03168  27.094  < 2e-16 ***\n",
       "---\n",
       "Signif. codes:  0 ‘***’ 0.001 ‘**’ 0.01 ‘*’ 0.05 ‘.’ 0.1 ‘ ’ 1\n",
       "\n",
       "Residual standard error: 2.904 on 125 degrees of freedom\n",
       "Multiple R-squared:  0.8545,\tAdjusted R-squared:  0.8533 \n",
       "F-statistic: 734.1 on 1 and 125 DF,  p-value: < 2.2e-16\n"
      ]
     },
     "metadata": {},
     "output_type": "display_data"
    }
   ],
   "source": [
    "summary(lm(predict_column~actual_column))"
   ]
  },
  {
   "cell_type": "markdown",
   "metadata": {},
   "source": [
    "Extract the variable importances from the model and show them in a graph from most important to least important"
   ]
  },
  {
   "cell_type": "code",
   "execution_count": 27,
   "metadata": {},
   "outputs": [
    {
     "data": {
      "image/png": "[encoded data removed]",
      "text/plain": [
       "Plot with title “Variable Importances for auto mpg dataset”"
      ]
     },
     "metadata": {},
     "output_type": "display_data"
    }
   ],
   "source": [
    "x<-model@model\n",
    "vi<-x$variable_importances\n",
    "par(mar=c(5, 12, 5, 5))\n",
    "plotSize<-15\n",
    "cols <- colorRampPalette(brewer.pal(4,\"Dark2\"))(plotSize)\n",
    "barplot(rev(vi$percentage),las=2,main=\"Variable Importances for auto mpg dataset\",\n",
    "                    names.arg=rev(vi$variable),\n",
    "                    horiz=TRUE,cex.names=0.75,col=cols)"
   ]
  },
  {
   "cell_type": "markdown",
   "metadata": {},
   "source": [
    "###### 11. Create the ROC graph along with its AUC"
   ]
  },
  {
   "cell_type": "code",
   "execution_count": 28,
   "metadata": {},
   "outputs": [],
   "source": [
    "# Note this is a regression, not a classification problem, so ROC doesn't make sense\n",
    "# Saving the code here so you can use this for a classification model later\n",
    "# \n",
    "#rocp1 <- roc(actual_column, predict_column,\n",
    "#        percent=TRUE,\n",
    "#        plot=TRUE, auc.polygon=TRUE, max.auc.polygon=TRUE, grid=TRUE,\n",
    "#        print.auc=TRUE, show.thres=TRUE, main=\"ROC Graph: Actuals vs. Predictions\")"
   ]
  },
  {
   "cell_type": "markdown",
   "metadata": {},
   "source": [
    "##### Save your trained model. We'll use it later for inference. "
   ]
  },
  {
   "cell_type": "code",
   "execution_count": 29,
   "metadata": {},
   "outputs": [
    {
     "data": {
      "text/html": [
       "'/home/jupyter/Applied ML course/models/nm_auto_model/model_1'"
      ],
      "text/latex": [
       "'/home/jupyter/Applied ML course/models/nm\\_auto\\_model/model\\_1'"
      ],
      "text/markdown": [
       "'/home/jupyter/Applied ML course/models/nm_auto_model/model_1'"
      ],
      "text/plain": [
       "[1] \"/home/jupyter/Applied ML course/models/nm_auto_model/model_1\""
      ]
     },
     "metadata": {},
     "output_type": "display_data"
    }
   ],
   "source": [
    "model_filename<-paste0(\"models/\",my_initials,\"_auto_model\")\n",
    "h2o.saveModel(model, model_filename, force=T)"
   ]
  },
  {
   "cell_type": "code",
   "execution_count": null,
   "metadata": {},
   "outputs": [],
   "source": []
  }
 ],
 "metadata": {
  "kernelspec": {
   "display_name": "R",
   "language": "R",
   "name": "ir"
  },
  "language_info": {
   "codemirror_mode": "r",
   "file_extension": ".r",
   "mimetype": "text/x-r-source",
   "name": "R",
   "pygments_lexer": "r",
   "version": "3.6.1"
  }
 },
 "nbformat": 4,
 "nbformat_minor": 4
}
