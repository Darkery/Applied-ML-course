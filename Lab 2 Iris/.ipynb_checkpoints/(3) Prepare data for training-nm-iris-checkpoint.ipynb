{
 "cells": [
  {
   "cell_type": "markdown",
   "metadata": {},
   "source": [
    "# Applied Machine Learning\n",
    "## Preparing machine learning data for training\n",
    "- Author: Lorien Pratt\n",
    "- Copyright: Quantellia LLC 2019.  All Rights Reserved"
   ]
  },
  {
   "cell_type": "markdown",
   "metadata": {},
   "source": [
    "The purpose of this notebook is to prepare data for training for machine learning by splitting it into train, test, and backtest.  We start with a single data file, split it into these three pieces, and write it back to disk\n",
    "\n",
    "See https://archive.ics.uci.edu/ml/datasets/iris+mpg for information about the data set used in this demonstration.  It is built for a regression task, to estimate the miles per gallon of a car from its characteristics.  A good attribute description can be found at https://vincentarelbundock.github.io/Rdatasets/doc/ISLR/iris.html"
   ]
  },
  {
   "cell_type": "markdown",
   "metadata": {},
   "source": [
    "### Setup"
   ]
  },
  {
   "cell_type": "code",
   "execution_count": 1,
   "metadata": {},
   "outputs": [],
   "source": [
    "# Create a variable to distinguish my data and model files from others'\n",
    "# Note that this is done inside of R, not Python, using the   construct which allows me to place\n",
    "# R code on a single line\n",
    "my_initials<-\"jing\""
   ]
  },
  {
   "cell_type": "markdown",
   "metadata": {},
   "source": [
    "### Get the input file with all of the training data in it \n",
    "This is the iris.MPG data, obtained the UCI repository.  I made a couple of small changes: a) rearranged the columns so the target was on the right and the label was on the left, and b) changed ? (missing data indicator) to just empty fields\n",
    "\n",
    "Note that this uses the *%%R* construct, which supports multi-line R code.  Also note that %  must be in the first row of the cell; you can't have a comment there or anything else."
   ]
  },
  {
   "cell_type": "code",
   "execution_count": 2,
   "metadata": {},
   "outputs": [
    {
     "name": "stderr",
     "output_type": "stream",
     "text": [
      "Warning message in file(file, \"rt\"):\n",
      "“cannot open file 'data/iris.csv': No such file or directory”"
     ]
    },
    {
     "ename": "ERROR",
     "evalue": "Error in file(file, \"rt\"): cannot open the connection\n",
     "output_type": "error",
     "traceback": [
      "Error in file(file, \"rt\"): cannot open the connection\nTraceback:\n",
      "1. read.csv(\"data/iris.csv\", header = T)",
      "2. read.table(file = file, header = header, sep = sep, quote = quote, \n .     dec = dec, fill = fill, comment.char = comment.char, ...)",
      "3. file(file, \"rt\")"
     ]
    }
   ],
   "source": [
    "iris <- read.csv(\"data/iris.csv\", header=T)\n",
    "nrow(iris)\n",
    "ncol(iris)\n",
    "head(iris)"
   ]
  },
  {
   "cell_type": "markdown",
   "metadata": {},
   "source": [
    "The data is in this format, with prediction columns to the left, and the target column is the rightmost one"
   ]
  },
  {
   "cell_type": "markdown",
   "metadata": {},
   "source": [
    "<img src=\"img/target_column.png\" style=\"width:200px;float:left;\">"
   ]
  },
  {
   "cell_type": "markdown",
   "metadata": {},
   "source": [
    "Examine various columns of the data to determine their values and range. (This was used to build the UI.)"
   ]
  },
  {
   "cell_type": "code",
   "execution_count": 3,
   "metadata": {},
   "outputs": [
    {
     "name": "stdout",
     "output_type": "stream",
     "text": [
      "Length  Class   Mode \n",
      "     0   NULL   NULL \n",
      "Length  Class   Mode \n",
      "     0   NULL   NULL \n",
      "Length  Class   Mode \n",
      "     0   NULL   NULL \n",
      "Length  Class   Mode \n",
      "     0   NULL   NULL \n",
      "Length  Class   Mode \n",
      "     0   NULL   NULL \n"
     ]
    }
   ],
   "source": [
    "print(summary(iris$target))\n",
    "# Analysis for purpose of sliders for inference input:\n",
    "print(summary(iris$sepal_length)) # we'll call this 3-8 on an integer range\n",
    "print(summary(iris$sepal_width)) # we'll call this 0 - 500 on an integer range\n",
    "print(summary(iris$petal_length)) # we'll call this 0 - 500 on an integer range\n",
    "print(summary(iris$petal_width)) # we'll call this 1000 - 10000 on an integer range\n",
    "#print(summary(iris$acceleration)) # we'll call this 0-100 on a float range\n",
    "#print(summary(iris$model.year)) # we'll call this 60-90 on an integer range\n",
    "#print(summary(iris$origin)) # we'll call this 1,2,3 on an integer range"
   ]
  },
  {
   "cell_type": "markdown",
   "metadata": {},
   "source": [
    "## Split the dataset in preparation for machine learning\n",
    "We need to train the machine learning model and then test it on new data. This is called backtesting. And during training, ML needs a training file and a testing file.\n",
    "\n",
    "So we need to split the input file into three files.\n",
    "\n",
    "<img src=\"img/split_files.png\" style=\"width:500px;float:left;\">"
   ]
  },
  {
   "cell_type": "markdown",
   "metadata": {},
   "source": [
    "First sort the dataset randomly so if the data has any sorting to it, that's lost in the train/test/backtest split"
   ]
  },
  {
   "cell_type": "code",
   "execution_count": 4,
   "metadata": {},
   "outputs": [],
   "source": [
    "iris_random <- iris[sample(nrow(iris)),]"
   ]
  },
  {
   "cell_type": "markdown",
   "metadata": {},
   "source": [
    "Split the file into a training set (50% of the total), a test file (20% of the total), and a backtest (30% of the total). Use R construct *sample* to create the three splits of the right proportions"
   ]
  },
  {
   "cell_type": "code",
   "execution_count": 5,
   "metadata": {},
   "outputs": [],
   "source": [
    "set.seed(7) # Do this so we can reproduce these results by using the same seed next time if we wish\n",
    "sample_set <- sample(1:3,size=nrow(iris_random),replace=TRUE,prob=c(0.5,0.2,0.3))\n",
    "train <- iris_random[sample_set==1,]\n",
    "test <- iris_random[sample_set==2,]\n",
    "backtest <- iris_random[sample_set==3,]"
   ]
  },
  {
   "cell_type": "markdown",
   "metadata": {},
   "source": [
    "Look at each file's number of rows and first 5 rows to check that it looks right"
   ]
  },
  {
   "cell_type": "code",
   "execution_count": 6,
   "metadata": {},
   "outputs": [
    {
     "name": "stdout",
     "output_type": "stream",
     "text": [
      "[1] \"Number of rows in the training file: 72\"\n",
      "    Sepal.Length Sepal.Width Petal.Length Petal.Width    Species\n",
      "129          6.4         2.8          5.6         2.1  virginica\n",
      "94           5.0         2.3          3.3         1.0 versicolor\n",
      "96           5.7         3.0          4.2         1.2 versicolor\n"
     ]
    }
   ],
   "source": [
    "print(paste('Number of rows in the training file:', nrow(train)))  # Note that paste0 can't handle a space at the end\n",
    "print(head(train,3))"
   ]
  },
  {
   "cell_type": "code",
   "execution_count": 7,
   "metadata": {},
   "outputs": [
    {
     "name": "stdout",
     "output_type": "stream",
     "text": [
      "[1] \"Number of rows in the testing file: 28\"\n",
      "    Sepal.Length Sepal.Width Petal.Length Petal.Width    Species\n",
      "109          6.7         2.5          5.8         1.8  virginica\n",
      "87           6.7         3.1          4.7         1.5 versicolor\n",
      "60           5.2         2.7          3.9         1.4 versicolor\n"
     ]
    }
   ],
   "source": [
    "print(paste('Number of rows in the testing file:', nrow(test)))  # Note that paste0 can't handle a space at the end\n",
    "print(head(test,3))"
   ]
  },
  {
   "cell_type": "code",
   "execution_count": 8,
   "metadata": {},
   "outputs": [
    {
     "name": "stdout",
     "output_type": "stream",
     "text": [
      "[1] \"Number of rows in the backtesting file: 50\"\n",
      "   Sepal.Length Sepal.Width Petal.Length Petal.Width    Species\n",
      "72          6.1         2.8          4.0         1.3 versicolor\n",
      "43          4.4         3.2          1.3         0.2     setosa\n",
      "77          6.8         2.8          4.8         1.4 versicolor\n"
     ]
    }
   ],
   "source": [
    "print(paste('Number of rows in the backtesting file:', nrow(backtest)))  \n",
    "print(head(backtest,3))"
   ]
  },
  {
   "cell_type": "markdown",
   "metadata": {},
   "source": [
    "Save the files in the data directory. Uses your initials to distinguish each one"
   ]
  },
  {
   "cell_type": "code",
   "execution_count": 9,
   "metadata": {},
   "outputs": [
    {
     "name": "stdout",
     "output_type": "stream",
     "text": [
      "[1] \"data/nm_train_iris.csv\"\n",
      "[1] \"data/nm_test_iris.csv\"\n",
      "[1] \"data/nm_backtest_iris.csv\"\n"
     ]
    }
   ],
   "source": [
    "train_filename<-paste0(\"data/\",my_initials,\"_train_iris.csv\"); print( train_filename )\n",
    "test_filename<-paste0(\"data/\",my_initials,\"_test_iris.csv\"); print( test_filename )\n",
    "backtest_filename<-paste0(\"data/\",my_initials,\"_backtest_iris.csv\"); print( backtest_filename )"
   ]
  },
  {
   "cell_type": "markdown",
   "metadata": {},
   "source": [
    "Save the three files in the data directory"
   ]
  },
  {
   "cell_type": "code",
   "execution_count": 10,
   "metadata": {},
   "outputs": [],
   "source": [
    "write.csv(train, file = train_filename, row.names=FALSE)\n",
    "write.csv(test, file = test_filename, row.names=FALSE)\n",
    "write.csv(backtest, file = backtest_filename, row.names=FALSE)"
   ]
  },
  {
   "cell_type": "code",
   "execution_count": null,
   "metadata": {},
   "outputs": [],
   "source": []
  }
 ],
 "metadata": {
  "kernelspec": {
   "display_name": "R",
   "language": "R",
   "name": "ir"
  },
  "language_info": {
   "codemirror_mode": "r",
   "file_extension": ".r",
   "mimetype": "text/x-r-source",
   "name": "R",
   "pygments_lexer": "r",
   "version": "3.6.1"
  }
 },
 "nbformat": 4,
 "nbformat_minor": 4
}
