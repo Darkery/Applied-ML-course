{
 "cells": [
  {
   "cell_type": "markdown",
   "metadata": {},
   "source": [
    "# Applied Machine Learning\n",
    "## Classification model testing\n",
    "- Author: Lorien Pratt\n",
    "- Copyright: Quantellia LLC 2019.  All Rights Reserved"
   ]
  },
  {
   "cell_type": "markdown",
   "metadata": {},
   "source": [
    "This notebook tests a classification model against ground truth on a backtesting data set"
   ]
  },
  {
   "cell_type": "markdown",
   "metadata": {},
   "source": [
    "## Setup\n"
   ]
  },
  {
   "cell_type": "code",
   "execution_count": 1,
   "metadata": {},
   "outputs": [],
   "source": [
    "# Create a variable to distinguish my data and model files from others'\n",
    "# Note that this is done inside of R, not Python, using the   construct which allows me to place\n",
    "# R code on a single line\n",
    "my_initials<-\"jing\""
   ]
  },
  {
   "cell_type": "code",
   "execution_count": 2,
   "metadata": {},
   "outputs": [],
   "source": [
    "# Run the following line of code if you get an incompatible versions error from H2o\n",
    "#install.packages(\"h2o\",\n",
    "#                 type=\"source\",\n",
    "#                 repos=(c(\"http://h2o-release.s3.amazonaws.com/h2o/latest_stable_R\")))"
   ]
  },
  {
   "cell_type": "markdown",
   "metadata": {},
   "source": [
    "###### 11. Create the ROC graph along with its AUC (to be used later when we do a classification model)"
   ]
  },
  {
   "cell_type": "code",
   "execution_count": 3,
   "metadata": {},
   "outputs": [
    {
     "name": "stderr",
     "output_type": "stream",
     "text": [
      "Loading required package: h2o\n",
      "\n",
      "----------------------------------------------------------------------\n",
      "\n",
      "Your next step is to start H2O:\n",
      "    > h2o.init()\n",
      "\n",
      "For H2O package documentation, ask for help:\n",
      "    > ??h2o\n",
      "\n",
      "After starting H2O, you can use the Web UI at http://localhost:54321\n",
      "For more information visit http://docs.h2o.ai\n",
      "\n",
      "----------------------------------------------------------------------\n",
      "\n",
      "\n",
      "Attaching package: ‘h2o’\n",
      "\n",
      "The following objects are masked from ‘package:stats’:\n",
      "\n",
      "    cor, sd, var\n",
      "\n",
      "The following objects are masked from ‘package:base’:\n",
      "\n",
      "    &&, %*%, %in%, ||, apply, as.factor, as.numeric, colnames,\n",
      "    colnames<-, ifelse, is.character, is.factor, is.numeric, log,\n",
      "    log10, log1p, log2, round, signif, trunc\n",
      "\n"
     ]
    },
    {
     "name": "stdout",
     "output_type": "stream",
     "text": [
      " Connection successful!\n",
      "\n",
      "R is connected to the H2O cluster: \n",
      "    H2O cluster uptime:         28 minutes 47 seconds \n",
      "    H2O cluster timezone:       Etc/UTC \n",
      "    H2O data parsing timezone:  UTC \n",
      "    H2O cluster version:        3.26.0.10 \n",
      "    H2O cluster version age:    6 days  \n",
      "    H2O cluster name:           H2O_started_from_R_jupyter_ldd243 \n",
      "    H2O cluster total nodes:    1 \n",
      "    H2O cluster total memory:   0.34 GB \n",
      "    H2O cluster total cores:    1 \n",
      "    H2O cluster allowed cores:  1 \n",
      "    H2O cluster healthy:        TRUE \n",
      "    H2O Connection ip:          localhost \n",
      "    H2O Connection port:        54321 \n",
      "    H2O Connection proxy:       NA \n",
      "    H2O Internal Security:      FALSE \n",
      "    H2O API Extensions:         Amazon S3, XGBoost, Algos, AutoML, Core V3, TargetEncoder, Core V4 \n",
      "    R Version:                  R version 3.6.1 (2019-07-05) \n",
      "\n"
     ]
    }
   ],
   "source": [
    "require(h2o)\n",
    "h2o.init()"
   ]
  },
  {
   "cell_type": "markdown",
   "metadata": {},
   "source": [
    "Install a number of R packages we'll need to display the results"
   ]
  },
  {
   "cell_type": "code",
   "execution_count": 4,
   "metadata": {},
   "outputs": [
    {
     "name": "stderr",
     "output_type": "stream",
     "text": [
      "Loading required package: plyr\n",
      "Loading required package: pROC\n",
      "Type 'citation(\"pROC\")' for a citation.\n",
      "\n",
      "Attaching package: ‘pROC’\n",
      "\n",
      "The following object is masked from ‘package:h2o’:\n",
      "\n",
      "    var\n",
      "\n",
      "The following objects are masked from ‘package:stats’:\n",
      "\n",
      "    cov, smooth, var\n",
      "\n",
      "Loading required package: SDMTools\n",
      "Registered S3 method overwritten by 'R.oo':\n",
      "  method        from       \n",
      "  throw.default R.methodsS3\n",
      "\n",
      "Attaching package: ‘SDMTools’\n",
      "\n",
      "The following object is masked from ‘package:pROC’:\n",
      "\n",
      "    auc\n",
      "\n",
      "Loading required package: RColorBrewer\n",
      "Loading required package: gplots\n",
      "\n",
      "Attaching package: ‘gplots’\n",
      "\n",
      "The following object is masked from ‘package:stats’:\n",
      "\n",
      "    lowess\n",
      "\n"
     ]
    }
   ],
   "source": [
    "# This will generate what look like warnings, but are really notifications\n",
    "# uncomment install.packages if you are on a new instance without these packages pre-installed\n",
    "#install.packages(\"plyr\")\n",
    "#install.packages(\"pROC\")\n",
    "#install.packages(\"SDMTools\")\n",
    "#install.packages(\"RColorBrewer\")\n",
    "#install.packages(\"ggplot\")\n",
    "require(plyr)\n",
    "require(pROC)\n",
    "require(SDMTools)\n",
    "require(RColorBrewer)\n",
    "require(gplots)"
   ]
  },
  {
   "cell_type": "markdown",
   "metadata": {},
   "source": [
    "## Read the model"
   ]
  },
  {
   "cell_type": "markdown",
   "metadata": {},
   "source": [
    "Create the file names from your initials, just as we did when building the files in the first place"
   ]
  },
  {
   "cell_type": "code",
   "execution_count": 5,
   "metadata": {},
   "outputs": [
    {
     "name": "stdout",
     "output_type": "stream",
     "text": [
      "[1] \"data/jing_train_iris.csv\"\n",
      "[1] \"data/jing_test_iris.csv\"\n",
      "[1] \"data/jing_backtest_iris.csv\"\n"
     ]
    }
   ],
   "source": [
    "train_filename<-paste0(\"/home/jupyter/Applied ML course/Lab 2 Iris/data/\",my_initials,\"_train_iris.csv\"); print( train_filename )\n",
    "test_filename<-paste0(\"/home/jupyter/Applied ML course/Lab 2 Iris/data/\",my_initials,\"_test_iris.csv\"); print( test_filename )\n",
    "backtest_filename<-paste0(\"/home/jupyter/Applied ML course/Lab 2 Iris/data/\",my_initials,\"_backtest_iris.csv\"); print( backtest_filename )"
   ]
  },
  {
   "cell_type": "markdown",
   "metadata": {},
   "source": [
    "Read in the backtest file. Convert it to an h2o file along the way."
   ]
  },
  {
   "cell_type": "markdown",
   "metadata": {},
   "source": [
    "## Read the backtesting dataset"
   ]
  },
  {
   "cell_type": "code",
   "execution_count": 6,
   "metadata": {},
   "outputs": [
    {
     "name": "stdout",
     "output_type": "stream",
     "text": [
      "\n",
      "ERROR: Unexpected HTTP Status code: 404 Not Found (url = http://localhost:54321/3/ImportFiles?path=data%2Fjing_backtest_iris.csv&pattern=)\n",
      "\n",
      "water.exceptions.H2ONotFoundArgumentException\n",
      " [1] \"water.exceptions.H2ONotFoundArgumentException: File data/jing_backtest_iris.csv does not exist\"                     \n",
      " [2] \"    water.persist.PersistNFS.importFiles(PersistNFS.java:136)\"                                                      \n",
      " [3] \"    water.persist.PersistManager.importFiles(PersistManager.java:374)\"                                              \n",
      " [4] \"    water.api.ImportFilesHandler.importFiles(ImportFilesHandler.java:25)\"                                           \n",
      " [5] \"    sun.reflect.NativeMethodAccessorImpl.invoke0(Native Method)\"                                                    \n",
      " [6] \"    sun.reflect.NativeMethodAccessorImpl.invoke(NativeMethodAccessorImpl.java:62)\"                                  \n",
      " [7] \"    sun.reflect.DelegatingMethodAccessorImpl.invoke(DelegatingMethodAccessorImpl.java:43)\"                          \n",
      " [8] \"    java.lang.reflect.Method.invoke(Method.java:498)\"                                                               \n",
      " [9] \"    water.api.Handler.handle(Handler.java:60)\"                                                                      \n",
      "[10] \"    water.api.RequestServer.serve(RequestServer.java:471)\"                                                          \n",
      "[11] \"    water.api.RequestServer.doGeneric(RequestServer.java:301)\"                                                      \n",
      "[12] \"    water.api.RequestServer.doGet(RequestServer.java:225)\"                                                          \n",
      "[13] \"    javax.servlet.http.HttpServlet.service(HttpServlet.java:735)\"                                                   \n",
      "[14] \"    javax.servlet.http.HttpServlet.service(HttpServlet.java:848)\"                                                   \n",
      "[15] \"    org.eclipse.jetty.servlet.ServletHolder.handle(ServletHolder.java:684)\"                                         \n",
      "[16] \"    org.eclipse.jetty.servlet.ServletHandler.doHandle(ServletHandler.java:501)\"                                     \n",
      "[17] \"    org.eclipse.jetty.server.handler.ContextHandler.doHandle(ContextHandler.java:1086)\"                             \n",
      "[18] \"    org.eclipse.jetty.servlet.ServletHandler.doScope(ServletHandler.java:427)\"                                      \n",
      "[19] \"    org.eclipse.jetty.server.handler.ContextHandler.doScope(ContextHandler.java:1020)\"                              \n",
      "[20] \"    org.eclipse.jetty.server.handler.ScopedHandler.handle(ScopedHandler.java:135)\"                                  \n",
      "[21] \"    org.eclipse.jetty.server.handler.HandlerCollection.handle(HandlerCollection.java:154)\"                          \n",
      "[22] \"    org.eclipse.jetty.server.handler.HandlerWrapper.handle(HandlerWrapper.java:116)\"                                \n",
      "[23] \"    water.webserver.jetty8.Jetty8ServerAdapter$LoginHandler.handle(Jetty8ServerAdapter.java:119)\"                   \n",
      "[24] \"    org.eclipse.jetty.server.handler.HandlerCollection.handle(HandlerCollection.java:154)\"                          \n",
      "[25] \"    org.eclipse.jetty.server.handler.HandlerWrapper.handle(HandlerWrapper.java:116)\"                                \n",
      "[26] \"    org.eclipse.jetty.server.Server.handle(Server.java:370)\"                                                        \n",
      "[27] \"    org.eclipse.jetty.server.AbstractHttpConnection.handleRequest(AbstractHttpConnection.java:494)\"                 \n",
      "[28] \"    org.eclipse.jetty.server.BlockingHttpConnection.handleRequest(BlockingHttpConnection.java:53)\"                  \n",
      "[29] \"    org.eclipse.jetty.server.AbstractHttpConnection.headerComplete(AbstractHttpConnection.java:973)\"                \n",
      "[30] \"    org.eclipse.jetty.server.AbstractHttpConnection$RequestHandler.headerComplete(AbstractHttpConnection.java:1035)\"\n",
      "[31] \"    org.eclipse.jetty.http.HttpParser.parseNext(HttpParser.java:641)\"                                               \n",
      "[32] \"    org.eclipse.jetty.http.HttpParser.parseAvailable(HttpParser.java:231)\"                                          \n",
      "[33] \"    org.eclipse.jetty.server.BlockingHttpConnection.handle(BlockingHttpConnection.java:72)\"                         \n",
      "[34] \"    org.eclipse.jetty.server.bio.SocketConnector$ConnectorEndPoint.run(SocketConnector.java:264)\"                   \n",
      "[35] \"    org.eclipse.jetty.util.thread.QueuedThreadPool.runJob(QueuedThreadPool.java:608)\"                               \n",
      "[36] \"    org.eclipse.jetty.util.thread.QueuedThreadPool$3.run(QueuedThreadPool.java:543)\"                                \n",
      "[37] \"    java.lang.Thread.run(Thread.java:748)\"                                                                          \n",
      "\n"
     ]
    },
    {
     "ename": "ERROR",
     "evalue": "Error in .h2o.doSafeREST(h2oRestApiVersion = h2oRestApiVersion, urlSuffix = page, : \n\nERROR MESSAGE:\n\nFile data/jing_backtest_iris.csv does not exist\n\n\n",
     "output_type": "error",
     "traceback": [
      "Error in .h2o.doSafeREST(h2oRestApiVersion = h2oRestApiVersion, urlSuffix = page, : \n\nERROR MESSAGE:\n\nFile data/jing_backtest_iris.csv does not exist\n\n\nTraceback:\n",
      "1. h2o.importFile(backtest_filename, parse = TRUE, header = TRUE, \n .     sep = \"\", col.names = NULL, col.types = NULL, na.strings = NULL)",
      "2. h2o.importFolder(path, pattern = \"\", destination_frame = destination_frame, \n .     parse, header, sep, col.names, col.types, na.strings = na.strings, \n .     decrypt_tool = decrypt_tool, skipped_columns = skipped_columns, \n .     custom_non_data_line_markers = custom_non_data_line_markers)",
      "3. .h2o.__remoteSend(.h2o.__IMPORT, path = path, pattern = pattern)",
      "4. .h2o.doSafeREST(h2oRestApiVersion = h2oRestApiVersion, urlSuffix = page, \n .     parms = .params, method = method)",
      "5. stop(msg)"
     ]
    }
   ],
   "source": [
    "#train_hex <- h2o.importFile(train_filename, parse = TRUE, header = TRUE, \n",
    "#                            sep = \"\", col.names = NULL, col.types = NULL, na.strings = NULL)\n",
    "#test_hex <- h2o.importFile(test_filename, parse = TRUE, header = TRUE, \n",
    "#                           sep = \"\", col.names = NULL, col.types = NULL, na.strings = NULL)\n",
    "backtest_hex <- h2o.importFile(backtest_filename, parse = TRUE, header = TRUE, \n",
    "                           sep = \"\", col.names = NULL, col.types = NULL, na.strings = NULL)"
   ]
  },
  {
   "cell_type": "code",
   "execution_count": 7,
   "metadata": {},
   "outputs": [
    {
     "ename": "ERROR",
     "evalue": "Error in head(backtest_hex): object 'backtest_hex' not found\n",
     "output_type": "error",
     "traceback": [
      "Error in head(backtest_hex): object 'backtest_hex' not found\nTraceback:\n",
      "1. head(backtest_hex)"
     ]
    }
   ],
   "source": [
    "head(backtest_hex)"
   ]
  },
  {
   "cell_type": "markdown",
   "metadata": {},
   "source": [
    "Set the predictor columns and check that they're the right ones"
   ]
  },
  {
   "cell_type": "code",
   "execution_count": 19,
   "metadata": {},
   "outputs": [
    {
     "data": {
      "text/html": [
       "<ol class=list-inline>\n",
       "\t<li>'sepal_length'</li>\n",
       "\t<li>'sepal_width'</li>\n",
       "\t<li>'petal_length'</li>\n",
       "\t<li>'petal_width'</li>\n",
       "</ol>\n"
      ],
      "text/latex": [
       "\\begin{enumerate*}\n",
       "\\item 'sepal\\_length'\n",
       "\\item 'sepal\\_width'\n",
       "\\item 'petal\\_length'\n",
       "\\item 'petal\\_width'\n",
       "\\end{enumerate*}\n"
      ],
      "text/markdown": [
       "1. 'sepal_length'\n",
       "2. 'sepal_width'\n",
       "3. 'petal_length'\n",
       "4. 'petal_width'\n",
       "\n",
       "\n"
      ],
      "text/plain": [
       "[1] \"sepal_length\" \"sepal_width\"  \"petal_length\" \"petal_width\" "
      ]
     },
     "metadata": {},
     "output_type": "display_data"
    }
   ],
   "source": [
    "predictors <- c(1,2,3,4)\n",
    "names(backtest_hex)[predictors]"
   ]
  },
  {
   "cell_type": "markdown",
   "metadata": {},
   "source": [
    "Tell the model training which of the columns is the target column (in this case, the very last column, mpg)"
   ]
  },
  {
   "cell_type": "code",
   "execution_count": 20,
   "metadata": {},
   "outputs": [
    {
     "data": {
      "text/html": [
       "'target'"
      ],
      "text/latex": [
       "'target'"
      ],
      "text/markdown": [
       "'target'"
      ],
      "text/plain": [
       "[1] \"target\""
      ]
     },
     "metadata": {},
     "output_type": "display_data"
    }
   ],
   "source": [
    "targetcol<-ncol(backtest_hex)\n",
    "names(backtest_hex)[targetcol]"
   ]
  },
  {
   "cell_type": "markdown",
   "metadata": {},
   "source": [
    "## Read the model"
   ]
  },
  {
   "cell_type": "code",
   "execution_count": 21,
   "metadata": {},
   "outputs": [],
   "source": [
    "model_pathname<-paste0(\"models/\",my_initials,\"_iris_model/model_1\")\n",
    "model<-h2o.loadModel(model_pathname)"
   ]
  },
  {
   "cell_type": "markdown",
   "metadata": {},
   "source": [
    "## Model evalution"
   ]
  },
  {
   "cell_type": "markdown",
   "metadata": {},
   "source": [
    "Generate predictions for every row in the backtest set, and create two vectors: one with the truth and one with the prediction"
   ]
  },
  {
   "cell_type": "markdown",
   "metadata": {},
   "source": [
    "## Score the model against the backtesting dataset"
   ]
  },
  {
   "cell_type": "code",
   "execution_count": 22,
   "metadata": {},
   "outputs": [
    {
     "name": "stdout",
     "output_type": "stream",
     "text": [
      "  |======================================================================| 100%\n",
      " int [1:50] 1 0 0 0 0 1 1 1 1 1 ...\n",
      " num [1:50] 1.00188 -0.01628 -0.02495 -0.01436 -0.00468 ...\n"
     ]
    }
   ],
   "source": [
    "predictions <- h2o.predict(model, backtest_hex)\n",
    "#actual_column <- as.logical(as.vector(as.numeric(backtest_hex[ ,ncol(backtest_hex)])))\n",
    "actual_column <- as.vector(as.numeric(backtest_hex[targetcol]))\n",
    "predict_column <- as.vector(predictions[ ,'predict'])\n",
    "str(actual_column)\n",
    "str(predict_column)"
   ]
  },
  {
   "cell_type": "markdown",
   "metadata": {},
   "source": [
    "## Compare the two vectors to generate a single 0.5-threshold Confusion Matrix (CMAT)"
   ]
  },
  {
   "cell_type": "code",
   "execution_count": 11,
   "metadata": {},
   "outputs": [
    {
     "name": "stdout",
     "output_type": "stream",
     "text": [
      "    obs\n",
      "pred  0  1\n",
      "   0 32  0\n",
      "   1  0 18\n",
      "attr(,\"class\")\n",
      "[1] \"confusion.matrix\"\n"
     ]
    }
   ],
   "source": [
    "  cm<-confusion.matrix(actual_column,predict_column, 0.5)\n",
    "  print(cm)"
   ]
  },
  {
   "cell_type": "markdown",
   "metadata": {},
   "source": [
    "## Use different thresholds to generate multiple CMATs"
   ]
  },
  {
   "cell_type": "code",
   "execution_count": 12,
   "metadata": {},
   "outputs": [
    {
     "name": "stdout",
     "output_type": "stream",
     "text": [
      "[1] \"threshold=0.001:\"\n",
      "    obs\n",
      "pred  0  1\n",
      "   0 21  0\n",
      "   1 11 18\n",
      "attr(,\"class\")\n",
      "[1] \"confusion.matrix\"\n",
      "[1] \"accuracy = 68%\"\n",
      "[1] \"threshold=0.01:\"\n",
      "    obs\n",
      "pred  0  1\n",
      "   0 24  0\n",
      "   1  8 18\n",
      "attr(,\"class\")\n",
      "[1] \"confusion.matrix\"\n",
      "[1] \"accuracy = 70%\"\n",
      "[1] \"threshold=0.2:\"\n",
      "    obs\n",
      "pred  0  1\n",
      "   0 32  0\n",
      "   1  0 18\n",
      "attr(,\"class\")\n",
      "[1] \"confusion.matrix\"\n",
      "[1] \"accuracy = 74%\"\n",
      "[1] \"threshold=0.5:\"\n",
      "    obs\n",
      "pred  0  1\n",
      "   0 32  0\n",
      "   1  0 18\n",
      "attr(,\"class\")\n",
      "[1] \"confusion.matrix\"\n",
      "[1] \"accuracy = 74%\"\n",
      "[1] \"threshold=0.9:\"\n",
      "    obs\n",
      "pred  0  1\n",
      "   0 32  1\n",
      "   1  0 17\n",
      "attr(,\"class\")\n",
      "[1] \"confusion.matrix\"\n",
      "[1] \"accuracy = 73%\"\n",
      "[1] \"threshold=0.95:\"\n",
      "    obs\n",
      "pred  0  1\n",
      "   0 32  1\n",
      "   1  0 17\n",
      "attr(,\"class\")\n",
      "[1] \"confusion.matrix\"\n",
      "[1] \"accuracy = 73%\"\n",
      "[1] \"threshold=0.99:\"\n",
      "    obs\n",
      "pred  0  1\n",
      "   0 32  2\n",
      "   1  0 16\n",
      "attr(,\"class\")\n",
      "[1] \"confusion.matrix\"\n",
      "[1] \"accuracy = 73%\"\n",
      "[1] \"threshold=0.995:\"\n",
      "    obs\n",
      "pred  0  1\n",
      "   0 32  3\n",
      "   1  0 15\n",
      "attr(,\"class\")\n",
      "[1] \"confusion.matrix\"\n",
      "[1] \"accuracy = 72%\"\n",
      "[1] \"threshold=0.999:\"\n",
      "    obs\n",
      "pred  0  1\n",
      "   0 32  3\n",
      "   1  0 15\n",
      "attr(,\"class\")\n",
      "[1] \"confusion.matrix\"\n",
      "[1] \"accuracy = 72%\"\n"
     ]
    }
   ],
   "source": [
    "for (i in c(0.001,0.01,0.2,0.5, 0.9, 0.95, 0.99,0.995,0.999)) {\n",
    "  threshold<-i\n",
    "  print(paste0(\"threshold=\",threshold,\":\"))\n",
    "  cm<-confusion.matrix(actual_column,predict_column, threshold)\n",
    "  print(cm)\n",
    "  tp<-cm[2,2]; fp<-cm[2,1]; tn<-cm[1,1]; fn<-cm[1,2]\n",
    "  #print(paste0(\"tp/fp = \",tp/fp))\n",
    "  print(paste0(\"accuracy = \",100*round((tn+tp)/(tn+tp+fn+tp),2),\"%\"))\n",
    "}"
   ]
  },
  {
   "cell_type": "markdown",
   "metadata": {},
   "source": [
    "## Compare the vectors to generate an ROC (\"Receiver Operator Charastics\") curve and to measure it's AUC (Area under the Curve)"
   ]
  },
  {
   "cell_type": "code",
   "execution_count": 13,
   "metadata": {},
   "outputs": [
    {
     "name": "stderr",
     "output_type": "stream",
     "text": [
      "Setting levels: control = 0, case = 1\n",
      "Setting direction: controls < cases\n"
     ]
    },
    {
     "data": {
      "image/png": "[encoded data removed]",
      "text/plain": [
       "Plot with title “ROC Graph”"
      ]
     },
     "metadata": {},
     "output_type": "display_data"
    }
   ],
   "source": [
    "# Use the following code for a classification problem, not regression\n",
    "# \n",
    "rocp1 <- roc(actual_column, predict_column,\n",
    "        percent=TRUE,\n",
    "        plot=TRUE, auc.polygon=TRUE, max.auc.polygon=TRUE, grid=TRUE,\n",
    "        print.auc=TRUE, show.thres=TRUE, main=\"ROC Graph\")"
   ]
  },
  {
   "cell_type": "markdown",
   "metadata": {},
   "source": [
    "## Plot actuals versus predictions to get a visual sense of how well the model did"
   ]
  },
  {
   "cell_type": "code",
   "execution_count": null,
   "metadata": {},
   "outputs": [],
   "source": [
    "plot(actual_column,predict_column)"
   ]
  },
  {
   "cell_type": "markdown",
   "metadata": {},
   "source": [
    "Extract the variable importances from the model and show them in a graph from most important to least important"
   ]
  },
  {
   "cell_type": "code",
   "execution_count": null,
   "metadata": {},
   "outputs": [],
   "source": [
    "x<-model@model\n",
    "vi<-x$variable_importances\n",
    "par(mar=c(5, 12, 5, 5))\n",
    "plotSize<-15\n",
    "cols <- colorRampPalette(brewer.pal(4,\"Dark2\"))(plotSize)\n",
    "barplot(rev(vi$percentage),las=2,main=\"Variable Importances for iris mpg dataset\",\n",
    "                    names.arg=rev(vi$variable),\n",
    "                    horiz=TRUE,cex.names=0.75,col=cols)"
   ]
  }
 ],
 "metadata": {
  "kernelspec": {
   "display_name": "R",
   "language": "R",
   "name": "ir"
  },
  "language_info": {
   "codemirror_mode": "r",
   "file_extension": ".r",
   "mimetype": "text/x-r-source",
   "name": "R",
   "pygments_lexer": "r",
   "version": "3.6.1"
  }
 },
 "nbformat": 4,
 "nbformat_minor": 4
}
