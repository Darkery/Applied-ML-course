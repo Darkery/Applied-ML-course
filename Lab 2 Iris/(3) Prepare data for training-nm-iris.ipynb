{
 "cells": [
  {
   "cell_type": "markdown",
   "metadata": {},
   "source": [
    "# Applied Machine Learning\n",
    "## Preparing machine learning data for training\n",
    "- Author: Lorien Pratt\n",
    "- Copyright: Quantellia LLC 2019.  All Rights Reserved"
   ]
  },
  {
   "cell_type": "markdown",
   "metadata": {},
   "source": [
    "The purpose of this notebook is to prepare data for training for machine learning by splitting it into train, test, and backtest.  We start with a single data file, split it into these three pieces, and write it back to disk\n",
    "\n",
    "See https://archive.ics.uci.edu/ml/datasets/iris+mpg for information about the data set used in this demonstration.  It is built for a regression task, to estimate the miles per gallon of a car from its characteristics.  A good attribute description can be found at https://vincentarelbundock.github.io/Rdatasets/doc/ISLR/iris.html"
   ]
  },
  {
   "cell_type": "markdown",
   "metadata": {},
   "source": [
    "### Setup"
   ]
  },
  {
   "cell_type": "code",
   "execution_count": 21,
   "metadata": {},
   "outputs": [],
   "source": [
    "# Create a variable to distinguish my data and model files from others'\n",
    "# Note that this is done inside of R, not Python, using the   construct which allows me to place\n",
    "# R code on a single line\n",
    "my_initials<-\"jing\""
   ]
  },
  {
   "cell_type": "markdown",
   "metadata": {},
   "source": [
    "### Get the input file with all of the training data in it \n",
    "This is the iris.MPG data, obtained the UCI repository.  I made a couple of small changes: a) rearranged the columns so the target was on the right and the label was on the left, and b) changed ? (missing data indicator) to just empty fields\n",
    "\n",
    "Note that this uses the *%%R* construct, which supports multi-line R code.  Also note that %  must be in the first row of the cell; you can't have a comment there or anything else."
   ]
  },
  {
   "cell_type": "code",
   "execution_count": 22,
   "metadata": {},
   "outputs": [
    {
     "data": {
      "text/html": [
       "150"
      ],
      "text/latex": [
       "150"
      ],
      "text/markdown": [
       "150"
      ],
      "text/plain": [
       "[1] 150"
      ]
     },
     "metadata": {},
     "output_type": "display_data"
    },
    {
     "data": {
      "text/html": [
       "5"
      ],
      "text/latex": [
       "5"
      ],
      "text/markdown": [
       "5"
      ],
      "text/plain": [
       "[1] 5"
      ]
     },
     "metadata": {},
     "output_type": "display_data"
    },
    {
     "data": {
      "text/html": [
       "<table>\n",
       "<caption>A data.frame: 6 × 5</caption>\n",
       "<thead>\n",
       "\t<tr><th scope=col>sepal_length</th><th scope=col>sepal_width</th><th scope=col>petal_length</th><th scope=col>petal_width</th><th scope=col>class</th></tr>\n",
       "\t<tr><th scope=col>&lt;dbl&gt;</th><th scope=col>&lt;dbl&gt;</th><th scope=col>&lt;dbl&gt;</th><th scope=col>&lt;dbl&gt;</th><th scope=col>&lt;int&gt;</th></tr>\n",
       "</thead>\n",
       "<tbody>\n",
       "\t<tr><td>5.1</td><td>3.5</td><td>1.4</td><td>0.2</td><td>1</td></tr>\n",
       "\t<tr><td>4.9</td><td>3.0</td><td>1.4</td><td>0.2</td><td>1</td></tr>\n",
       "\t<tr><td>4.7</td><td>3.2</td><td>1.3</td><td>0.2</td><td>1</td></tr>\n",
       "\t<tr><td>4.6</td><td>3.1</td><td>1.5</td><td>0.2</td><td>1</td></tr>\n",
       "\t<tr><td>5.0</td><td>3.6</td><td>1.4</td><td>0.2</td><td>1</td></tr>\n",
       "\t<tr><td>5.4</td><td>3.9</td><td>1.7</td><td>0.4</td><td>1</td></tr>\n",
       "</tbody>\n",
       "</table>\n"
      ],
      "text/latex": [
       "A data.frame: 6 × 5\n",
       "\\begin{tabular}{r|lllll}\n",
       " sepal\\_length & sepal\\_width & petal\\_length & petal\\_width & class\\\\\n",
       " <dbl> & <dbl> & <dbl> & <dbl> & <int>\\\\\n",
       "\\hline\n",
       "\t 5.1 & 3.5 & 1.4 & 0.2 & 1\\\\\n",
       "\t 4.9 & 3.0 & 1.4 & 0.2 & 1\\\\\n",
       "\t 4.7 & 3.2 & 1.3 & 0.2 & 1\\\\\n",
       "\t 4.6 & 3.1 & 1.5 & 0.2 & 1\\\\\n",
       "\t 5.0 & 3.6 & 1.4 & 0.2 & 1\\\\\n",
       "\t 5.4 & 3.9 & 1.7 & 0.4 & 1\\\\\n",
       "\\end{tabular}\n"
      ],
      "text/markdown": [
       "\n",
       "A data.frame: 6 × 5\n",
       "\n",
       "| sepal_length &lt;dbl&gt; | sepal_width &lt;dbl&gt; | petal_length &lt;dbl&gt; | petal_width &lt;dbl&gt; | class &lt;int&gt; |\n",
       "|---|---|---|---|---|\n",
       "| 5.1 | 3.5 | 1.4 | 0.2 | 1 |\n",
       "| 4.9 | 3.0 | 1.4 | 0.2 | 1 |\n",
       "| 4.7 | 3.2 | 1.3 | 0.2 | 1 |\n",
       "| 4.6 | 3.1 | 1.5 | 0.2 | 1 |\n",
       "| 5.0 | 3.6 | 1.4 | 0.2 | 1 |\n",
       "| 5.4 | 3.9 | 1.7 | 0.4 | 1 |\n",
       "\n"
      ],
      "text/plain": [
       "  sepal_length sepal_width petal_length petal_width class\n",
       "1 5.1          3.5         1.4          0.2         1    \n",
       "2 4.9          3.0         1.4          0.2         1    \n",
       "3 4.7          3.2         1.3          0.2         1    \n",
       "4 4.6          3.1         1.5          0.2         1    \n",
       "5 5.0          3.6         1.4          0.2         1    \n",
       "6 5.4          3.9         1.7          0.4         1    "
      ]
     },
     "metadata": {},
     "output_type": "display_data"
    }
   ],
   "source": [
    "iris <- read.csv(\"data/iris.csv\", header=T)\n",
    "nrow(iris)\n",
    "ncol(iris)\n",
    "head(iris)"
   ]
  },
  {
   "cell_type": "markdown",
   "metadata": {},
   "source": [
    "The data is in this format, with prediction columns to the left, and the target column is the rightmost one"
   ]
  },
  {
   "cell_type": "markdown",
   "metadata": {},
   "source": [
    "<img src=\"img/target_column.png\" style=\"width:200px;float:left;\">"
   ]
  },
  {
   "cell_type": "markdown",
   "metadata": {},
   "source": [
    "Examine various columns of the data to determine their values and range. (This was used to build the UI.)"
   ]
  },
  {
   "cell_type": "code",
   "execution_count": 23,
   "metadata": {},
   "outputs": [
    {
     "name": "stdout",
     "output_type": "stream",
     "text": [
      "Length  Class   Mode \n",
      "     0   NULL   NULL \n",
      "   Min. 1st Qu.  Median    Mean 3rd Qu.    Max. \n",
      "  4.300   5.100   5.800   5.843   6.400   7.900 \n",
      "   Min. 1st Qu.  Median    Mean 3rd Qu.    Max. \n",
      "  2.000   2.800   3.000   3.054   3.300   4.400 \n",
      "   Min. 1st Qu.  Median    Mean 3rd Qu.    Max. \n",
      "  1.000   1.600   4.350   3.759   5.100   6.900 \n",
      "   Min. 1st Qu.  Median    Mean 3rd Qu.    Max. \n",
      "  0.100   0.300   1.300   1.199   1.800   2.500 \n"
     ]
    }
   ],
   "source": [
    "print(summary(iris$target))\n",
    "# Analysis for purpose of sliders for inference input:\n",
    "print(summary(iris$sepal_length)) # we'll call this 3-8 on an integer range\n",
    "print(summary(iris$sepal_width)) # we'll call this 0 - 500 on an integer range\n",
    "print(summary(iris$petal_length)) # we'll call this 0 - 500 on an integer range\n",
    "print(summary(iris$petal_width)) # we'll call this 1000 - 10000 on an integer range\n",
    "#print(summary(iris$acceleration)) # we'll call this 0-100 on a float range\n",
    "#print(summary(iris$model.year)) # we'll call this 60-90 on an integer range\n",
    "#print(summary(iris$origin)) # we'll call this 1,2,3 on an integer range"
   ]
  },
  {
   "cell_type": "markdown",
   "metadata": {},
   "source": [
    "## Split the dataset in preparation for machine learning\n",
    "We need to train the machine learning model and then test it on new data. This is called backtesting. And during training, ML needs a training file and a testing file.\n",
    "\n",
    "So we need to split the input file into three files.\n",
    "\n",
    "<img src=\"img/split_files.png\" style=\"width:500px;float:left;\">"
   ]
  },
  {
   "cell_type": "markdown",
   "metadata": {},
   "source": [
    "First sort the dataset randomly so if the data has any sorting to it, that's lost in the train/test/backtest split"
   ]
  },
  {
   "cell_type": "code",
   "execution_count": 24,
   "metadata": {},
   "outputs": [],
   "source": [
    "iris_random <- iris[sample(nrow(iris)),]"
   ]
  },
  {
   "cell_type": "markdown",
   "metadata": {},
   "source": [
    "Split the file into a training set (50% of the total), a test file (20% of the total), and a backtest (30% of the total). Use R construct *sample* to create the three splits of the right proportions"
   ]
  },
  {
   "cell_type": "code",
   "execution_count": 25,
   "metadata": {},
   "outputs": [],
   "source": [
    "set.seed(7) # Do this so we can reproduce these results by using the same seed next time if we wish\n",
    "sample_set <- sample(1:3,size=nrow(iris_random),replace=TRUE,prob=c(0.5,0.2,0.3))\n",
    "train <- iris_random[sample_set==1,]\n",
    "test <- iris_random[sample_set==2,]\n",
    "backtest <- iris_random[sample_set==3,]"
   ]
  },
  {
   "cell_type": "markdown",
   "metadata": {},
   "source": [
    "Look at each file's number of rows and first 5 rows to check that it looks right"
   ]
  },
  {
   "cell_type": "code",
   "execution_count": 26,
   "metadata": {},
   "outputs": [
    {
     "name": "stdout",
     "output_type": "stream",
     "text": [
      "[1] \"Number of rows in the training file: 72\"\n",
      "    sepal_length sepal_width petal_length petal_width class\n",
      "116          6.4         3.2          5.3         2.3     0\n",
      "82           5.5         2.4          3.7         1.0     0\n",
      "8            5.0         3.4          1.5         0.2     1\n"
     ]
    }
   ],
   "source": [
    "print(paste('Number of rows in the training file:', nrow(train)))  # Note that paste0 can't handle a space at the end\n",
    "print(head(train,3))"
   ]
  },
  {
   "cell_type": "code",
   "execution_count": 27,
   "metadata": {},
   "outputs": [
    {
     "name": "stdout",
     "output_type": "stream",
     "text": [
      "[1] \"Number of rows in the testing file: 28\"\n",
      "    sepal_length sepal_width petal_length petal_width class\n",
      "87           6.7         3.1          4.7         1.5     0\n",
      "43           4.4         3.2          1.3         0.2     1\n",
      "122          5.6         2.8          4.9         2.0     0\n"
     ]
    }
   ],
   "source": [
    "print(paste('Number of rows in the testing file:', nrow(test)))  # Note that paste0 can't handle a space at the end\n",
    "print(head(test,3))"
   ]
  },
  {
   "cell_type": "code",
   "execution_count": 28,
   "metadata": {},
   "outputs": [
    {
     "name": "stdout",
     "output_type": "stream",
     "text": [
      "[1] \"Number of rows in the backtesting file: 50\"\n",
      "    sepal_length sepal_width petal_length petal_width class\n",
      "112          6.4         2.7          5.3         1.9     0\n",
      "125          6.7         3.3          5.7         2.1     0\n",
      "95           5.6         2.7          4.2         1.3     0\n"
     ]
    }
   ],
   "source": [
    "print(paste('Number of rows in the backtesting file:', nrow(backtest)))  \n",
    "print(head(backtest,3))"
   ]
  },
  {
   "cell_type": "markdown",
   "metadata": {},
   "source": [
    "Save the files in the data directory. Uses your initials to distinguish each one"
   ]
  },
  {
   "cell_type": "code",
   "execution_count": 29,
   "metadata": {},
   "outputs": [
    {
     "name": "stdout",
     "output_type": "stream",
     "text": [
      "[1] \"data/jing_train_iris.csv\"\n",
      "[1] \"data/jing_test_iris.csv\"\n",
      "[1] \"data/jing_backtest_iris.csv\"\n"
     ]
    }
   ],
   "source": [
    "train_filename<-paste0(\"data/\",my_initials,\"_train_iris.csv\"); print( train_filename )\n",
    "test_filename<-paste0(\"data/\",my_initials,\"_test_iris.csv\"); print( test_filename )\n",
    "backtest_filename<-paste0(\"data/\",my_initials,\"_backtest_iris.csv\"); print( backtest_filename )"
   ]
  },
  {
   "cell_type": "markdown",
   "metadata": {},
   "source": [
    "Save the three files in the data directory"
   ]
  },
  {
   "cell_type": "code",
   "execution_count": 30,
   "metadata": {},
   "outputs": [],
   "source": [
    "write.csv(train, file = train_filename, row.names=FALSE)\n",
    "write.csv(test, file = test_filename, row.names=FALSE)\n",
    "write.csv(backtest, file = backtest_filename, row.names=FALSE)"
   ]
  },
  {
   "cell_type": "code",
   "execution_count": null,
   "metadata": {},
   "outputs": [],
   "source": []
  }
 ],
 "metadata": {
  "kernelspec": {
   "display_name": "R",
   "language": "R",
   "name": "ir"
  },
  "language_info": {
   "codemirror_mode": "r",
   "file_extension": ".r",
   "mimetype": "text/x-r-source",
   "name": "R",
   "pygments_lexer": "r",
   "version": "3.6.1"
  }
 },
 "nbformat": 4,
 "nbformat_minor": 4
}
