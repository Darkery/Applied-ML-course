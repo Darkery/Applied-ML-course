{
 "cells": [
  {
   "cell_type": "markdown",
   "metadata": {},
   "source": [
    "# Applied Machine Learning\n",
    "## Train your first machine learning model\n",
    "- Author: Lorien Pratt\n",
    "- Copyright: Quantellia LLC 2019.  All Rights Reserved"
   ]
  },
  {
   "cell_type": "markdown",
   "metadata": {},
   "source": [
    "## Setup"
   ]
  },
  {
   "cell_type": "code",
   "execution_count": 15,
   "metadata": {},
   "outputs": [],
   "source": [
    "my_initials<-\"jing\" # Set your initials to use for model and data files"
   ]
  },
  {
   "cell_type": "markdown",
   "metadata": {},
   "source": [
    "##### Install and initialize the H2O library, which we will use to do the grid search\n",
    "Note that this will generate a lot of warnings. These are expected, and not errors but rather notifications"
   ]
  },
  {
   "cell_type": "code",
   "execution_count": 16,
   "metadata": {},
   "outputs": [
    {
     "name": "stdout",
     "output_type": "stream",
     "text": [
      " Connection successful!\n",
      "\n",
      "R is connected to the H2O cluster: \n",
      "    H2O cluster uptime:         25 minutes 55 seconds \n",
      "    H2O cluster timezone:       Etc/UTC \n",
      "    H2O data parsing timezone:  UTC \n",
      "    H2O cluster version:        3.26.0.10 \n",
      "    H2O cluster version age:    6 days  \n",
      "    H2O cluster name:           H2O_started_from_R_jupyter_ldd243 \n",
      "    H2O cluster total nodes:    1 \n",
      "    H2O cluster total memory:   0.34 GB \n",
      "    H2O cluster total cores:    1 \n",
      "    H2O cluster allowed cores:  1 \n",
      "    H2O cluster healthy:        TRUE \n",
      "    H2O Connection ip:          localhost \n",
      "    H2O Connection port:        54321 \n",
      "    H2O Connection proxy:       NA \n",
      "    H2O Internal Security:      FALSE \n",
      "    H2O API Extensions:         Amazon S3, XGBoost, Algos, AutoML, Core V3, TargetEncoder, Core V4 \n",
      "    R Version:                  R version 3.6.1 (2019-07-05) \n",
      "\n"
     ]
    }
   ],
   "source": [
    "require(h2o)\n",
    "h2o.init()"
   ]
  },
  {
   "cell_type": "markdown",
   "metadata": {},
   "source": [
    "Install a number of R packages we'll need to display the results"
   ]
  },
  {
   "cell_type": "code",
   "execution_count": 18,
   "metadata": {},
   "outputs": [
    {
     "name": "stderr",
     "output_type": "stream",
     "text": [
      "Installing package into ‘/home/jupyter/.R/library’\n",
      "(as ‘lib’ is unspecified)\n",
      "Warning message:\n",
      "“package ‘ggplot’ is not available (for R version 3.6.1)”Loading required package: ggplot\n",
      "Warning message in library(package, lib.loc = lib.loc, character.only = TRUE, logical.return = TRUE, :\n",
      "“there is no package called ‘ggplot’”"
     ]
    }
   ],
   "source": [
    "# This will generate what look like warnings, but are really notifications\n",
    "# uncomment install.packages if you are on a new instance without these packages pre-installed\n",
    "#install.packages(\"plyr\")\n",
    "#install.packages(\"pROC\")\n",
    "#install.packages(\"SDMTools\")\n",
    "#install.packages(\"RColorBrewer\")\n",
    "install.packages(\"ggplot\")\n",
    "require(plyr)\n",
    "require(pROC)\n",
    "require(SDMTools)\n",
    "require(RColorBrewer)\n",
    "require(ggplot)"
   ]
  },
  {
   "cell_type": "markdown",
   "metadata": {},
   "source": [
    "Create the file names from your initials, just as we did when building the files in the first place"
   ]
  },
  {
   "cell_type": "code",
   "execution_count": 21,
   "metadata": {},
   "outputs": [
    {
     "name": "stdout",
     "output_type": "stream",
     "text": [
      "[1] \"/home/jupyter/Applied ML course/Lab 2 Iris/data/jing_train_iris.csv\"\n",
      "[1] \"/home/jupyter/Applied ML course/Lab 2 Iris/data/jing_test_iris.csv\"\n",
      "[1] \"/home/jupyter/Applied ML course/Lab 2 Iris/data/jing_backtest_iris.csv\"\n"
     ]
    }
   ],
   "source": [
    "train_filename<-paste0(\"/home/jupyter/Applied ML course/Lab 2 Iris/data/\",my_initials,\"_train_iris.csv\"); print( train_filename )\n",
    "test_filename<-paste0(\"/home/jupyter/Applied ML course/Lab 2 Iris/data/\",my_initials,\"_test_iris.csv\"); print( test_filename )\n",
    "backtest_filename<-paste0(\"/home/jupyter/Applied ML course/Lab 2 Iris/data/\",my_initials,\"_backtest_iris.csv\"); print( backtest_filename )"
   ]
  },
  {
   "cell_type": "markdown",
   "metadata": {},
   "source": [
    "Read in the test and training files you created in the previous step. Convert them to h2o files along the way."
   ]
  },
  {
   "cell_type": "code",
   "execution_count": 22,
   "metadata": {},
   "outputs": [
    {
     "name": "stdout",
     "output_type": "stream",
     "text": [
      "  |======================================================================| 100%\n",
      "  |======================================================================| 100%\n",
      "  |======================================================================| 100%\n"
     ]
    }
   ],
   "source": [
    "train_hex <- h2o.importFile(train_filename, parse = TRUE, header = TRUE, \n",
    "                            sep = \"\", col.names = NULL, col.types = NULL, na.strings = NULL)\n",
    "test_hex <- h2o.importFile(test_filename, parse = TRUE, header = TRUE, \n",
    "                           sep = \"\", col.names = NULL, col.types = NULL, na.strings = NULL)\n",
    "backtest_hex <- h2o.importFile(backtest_filename, parse = TRUE, header = TRUE, \n",
    "                           sep = \"\", col.names = NULL, col.types = NULL, na.strings = NULL)"
   ]
  },
  {
   "cell_type": "markdown",
   "metadata": {},
   "source": [
    "Set a number of configuration parameters for model training"
   ]
  },
  {
   "cell_type": "code",
   "execution_count": 23,
   "metadata": {},
   "outputs": [],
   "source": [
    "config_epochs=10000\n",
    "config_hidden=c(5)\n",
    "config_input_dropout_ratio = 0.0\n",
    "config_l1=1.0E-5\n",
    "config_l2=0.001"
   ]
  },
  {
   "cell_type": "markdown",
   "metadata": {},
   "source": [
    "**Tell the model training which of the columns are predictors.**\n",
    "First, let's looK at the top of the dataset again to remind us of the structure..."
   ]
  },
  {
   "cell_type": "code",
   "execution_count": 24,
   "metadata": {},
   "outputs": [
    {
     "data": {
      "text/html": [
       "<table>\n",
       "<caption>A data.frame: 6 × 5</caption>\n",
       "<thead>\n",
       "\t<tr><th scope=col>sepal_length</th><th scope=col>sepal_width</th><th scope=col>petal_length</th><th scope=col>petal_width</th><th scope=col>class</th></tr>\n",
       "\t<tr><th scope=col>&lt;dbl&gt;</th><th scope=col>&lt;dbl&gt;</th><th scope=col>&lt;dbl&gt;</th><th scope=col>&lt;dbl&gt;</th><th scope=col>&lt;dbl&gt;</th></tr>\n",
       "</thead>\n",
       "<tbody>\n",
       "\t<tr><td>6.4</td><td>3.2</td><td>5.3</td><td>2.3</td><td>0</td></tr>\n",
       "\t<tr><td>5.5</td><td>2.4</td><td>3.7</td><td>1.0</td><td>0</td></tr>\n",
       "\t<tr><td>5.0</td><td>3.4</td><td>1.5</td><td>0.2</td><td>1</td></tr>\n",
       "\t<tr><td>5.5</td><td>2.4</td><td>3.8</td><td>1.1</td><td>0</td></tr>\n",
       "\t<tr><td>6.0</td><td>2.9</td><td>4.5</td><td>1.5</td><td>0</td></tr>\n",
       "\t<tr><td>6.4</td><td>2.9</td><td>4.3</td><td>1.3</td><td>0</td></tr>\n",
       "</tbody>\n",
       "</table>\n"
      ],
      "text/latex": [
       "A data.frame: 6 × 5\n",
       "\\begin{tabular}{r|lllll}\n",
       " sepal\\_length & sepal\\_width & petal\\_length & petal\\_width & class\\\\\n",
       " <dbl> & <dbl> & <dbl> & <dbl> & <dbl>\\\\\n",
       "\\hline\n",
       "\t 6.4 & 3.2 & 5.3 & 2.3 & 0\\\\\n",
       "\t 5.5 & 2.4 & 3.7 & 1.0 & 0\\\\\n",
       "\t 5.0 & 3.4 & 1.5 & 0.2 & 1\\\\\n",
       "\t 5.5 & 2.4 & 3.8 & 1.1 & 0\\\\\n",
       "\t 6.0 & 2.9 & 4.5 & 1.5 & 0\\\\\n",
       "\t 6.4 & 2.9 & 4.3 & 1.3 & 0\\\\\n",
       "\\end{tabular}\n"
      ],
      "text/markdown": [
       "\n",
       "A data.frame: 6 × 5\n",
       "\n",
       "| sepal_length &lt;dbl&gt; | sepal_width &lt;dbl&gt; | petal_length &lt;dbl&gt; | petal_width &lt;dbl&gt; | class &lt;dbl&gt; |\n",
       "|---|---|---|---|---|\n",
       "| 6.4 | 3.2 | 5.3 | 2.3 | 0 |\n",
       "| 5.5 | 2.4 | 3.7 | 1.0 | 0 |\n",
       "| 5.0 | 3.4 | 1.5 | 0.2 | 1 |\n",
       "| 5.5 | 2.4 | 3.8 | 1.1 | 0 |\n",
       "| 6.0 | 2.9 | 4.5 | 1.5 | 0 |\n",
       "| 6.4 | 2.9 | 4.3 | 1.3 | 0 |\n",
       "\n"
      ],
      "text/plain": [
       "  sepal_length sepal_width petal_length petal_width class\n",
       "1 6.4          3.2         5.3          2.3         0    \n",
       "2 5.5          2.4         3.7          1.0         0    \n",
       "3 5.0          3.4         1.5          0.2         1    \n",
       "4 5.5          2.4         3.8          1.1         0    \n",
       "5 6.0          2.9         4.5          1.5         0    \n",
       "6 6.4          2.9         4.3          1.3         0    "
      ]
     },
     "metadata": {},
     "output_type": "display_data"
    }
   ],
   "source": [
    "head(train_hex)"
   ]
  },
  {
   "cell_type": "markdown",
   "metadata": {},
   "source": [
    "Set the predictor columns and check that they're the right ones"
   ]
  },
  {
   "cell_type": "code",
   "execution_count": 25,
   "metadata": {},
   "outputs": [
    {
     "data": {
      "text/html": [
       "<ol class=list-inline>\n",
       "\t<li>'sepal_length'</li>\n",
       "\t<li>'sepal_width'</li>\n",
       "\t<li>'petal_length'</li>\n",
       "\t<li>'petal_width'</li>\n",
       "</ol>\n"
      ],
      "text/latex": [
       "\\begin{enumerate*}\n",
       "\\item 'sepal\\_length'\n",
       "\\item 'sepal\\_width'\n",
       "\\item 'petal\\_length'\n",
       "\\item 'petal\\_width'\n",
       "\\end{enumerate*}\n"
      ],
      "text/markdown": [
       "1. 'sepal_length'\n",
       "2. 'sepal_width'\n",
       "3. 'petal_length'\n",
       "4. 'petal_width'\n",
       "\n",
       "\n"
      ],
      "text/plain": [
       "[1] \"sepal_length\" \"sepal_width\"  \"petal_length\" \"petal_width\" "
      ]
     },
     "metadata": {},
     "output_type": "display_data"
    }
   ],
   "source": [
    "predictors <- c(1,2,3,4)\n",
    "names(train_hex)[predictors]"
   ]
  },
  {
   "cell_type": "markdown",
   "metadata": {},
   "source": [
    "Tell the model training which of the columns is the target column (in this case, the very last column, mpg)"
   ]
  },
  {
   "cell_type": "code",
   "execution_count": 26,
   "metadata": {},
   "outputs": [
    {
     "data": {
      "text/html": [
       "'class'"
      ],
      "text/latex": [
       "'class'"
      ],
      "text/markdown": [
       "'class'"
      ],
      "text/plain": [
       "[1] \"class\""
      ]
     },
     "metadata": {},
     "output_type": "display_data"
    }
   ],
   "source": [
    "targetcol<-ncol(train_hex)\n",
    "names(train_hex)[targetcol]"
   ]
  },
  {
   "cell_type": "markdown",
   "metadata": {},
   "source": [
    "Train the model"
   ]
  },
  {
   "cell_type": "code",
   "execution_count": 27,
   "metadata": {},
   "outputs": [
    {
     "name": "stdout",
     "output_type": "stream",
     "text": [
      "  |======================================================================| 100%\n"
     ]
    }
   ],
   "source": [
    "model  <- h2o.deeplearning(\n",
    "    x = predictors,\n",
    "    y = targetcol,\n",
    "    variable_importances=TRUE,\n",
    "    model_id='model_1',\n",
    "    training_frame=train_hex,\n",
    "    validation_frame = test_hex,\n",
    "    quiet_mode=FALSE,\n",
    "    export_weights_and_biases=TRUE,\n",
    "    activation=\"Tanh\",              # Linear outputs\n",
    "    autoencoder=FALSE,\n",
    "    ignore_const_cols=F,\n",
    "    train_samples_per_iteration=0,\n",
    "    stopping_tolerance = 1e-5,\n",
    "    classification_stop = -1,       # Disable irismatic stopping\n",
    "    adaptive_rate=F,                # Manaully tuned learning rate\n",
    "    reproducible=T,\n",
    "    epochs=config_epochs,\n",
    "    hidden=config_hidden,\n",
    "    input_dropout_ratio = config_input_dropout_ratio, \n",
    "    l1=config_l1,\n",
    "    l2=config_l2\n",
    "  )"
   ]
  },
  {
   "cell_type": "markdown",
   "metadata": {},
   "source": [
    "##### Plot how the error changed for the train and test set during learning. H2O calls the test set \"Validation\"."
   ]
  },
  {
   "cell_type": "code",
   "execution_count": 28,
   "metadata": {},
   "outputs": [
    {
     "data": {
      "image/png": "[encoded data removed]",
      "text/plain": [
       "Plot with title “Scoring History”"
      ]
     },
     "metadata": {},
     "output_type": "display_data"
    }
   ],
   "source": [
    "plot(model, timestep=\"epochs\", metric=\"RMSE\")"
   ]
  },
  {
   "cell_type": "markdown",
   "metadata": {},
   "source": [
    "## Model evalution"
   ]
  },
  {
   "cell_type": "markdown",
   "metadata": {},
   "source": [
    "Generate predictions for every row in the backtest set, and create two vectors: one with the truth and one with the prediction"
   ]
  },
  {
   "cell_type": "code",
   "execution_count": 29,
   "metadata": {},
   "outputs": [
    {
     "name": "stdout",
     "output_type": "stream",
     "text": [
      "  |======================================================================| 100%\n",
      " int [1:50] 0 0 0 0 1 0 0 0 1 0 ...\n",
      " num [1:50] 0.01121 -0.00718 -0.01863 -0.03531 0.99845 ...\n"
     ]
    }
   ],
   "source": [
    "predictions <- h2o.predict(model, backtest_hex)\n",
    "#actual_column <- as.logical(as.vector(as.numeric(backtest_hex[ ,ncol(backtest_hex)])))\n",
    "actual_column <- as.vector(as.numeric(backtest_hex[targetcol]))\n",
    "predict_column <- as.vector(predictions[ ,'predict'])\n",
    "str(actual_column)\n",
    "str(predict_column)"
   ]
  },
  {
   "cell_type": "markdown",
   "metadata": {},
   "source": [
    "Plot actuals versus predictions to get a visual sense of how well the model did"
   ]
  },
  {
   "cell_type": "code",
   "execution_count": 30,
   "metadata": {},
   "outputs": [
    {
     "data": {
      "image/png": "[encoded data removed]",
      "text/plain": [
       "plot without title"
      ]
     },
     "metadata": {},
     "output_type": "display_data"
    }
   ],
   "source": [
    "plot(actual_column,predict_column)"
   ]
  },
  {
   "cell_type": "markdown",
   "metadata": {},
   "source": [
    "Extract the variable importances from the model and show them in a graph from most important to least important"
   ]
  },
  {
   "cell_type": "code",
   "execution_count": 31,
   "metadata": {},
   "outputs": [
    {
     "data": {
      "image/png": "[encoded data removed]",
      "text/plain": [
       "Plot with title “Variable Importances for iris mpg dataset”"
      ]
     },
     "metadata": {},
     "output_type": "display_data"
    }
   ],
   "source": [
    "x<-model@model\n",
    "vi<-x$variable_importances\n",
    "par(mar=c(5, 12, 5, 5))\n",
    "plotSize<-15\n",
    "cols <- colorRampPalette(brewer.pal(4,\"Dark2\"))(plotSize)\n",
    "barplot(rev(vi$percentage),las=2,main=\"Variable Importances for iris mpg dataset\",\n",
    "                    names.arg=rev(vi$variable),\n",
    "                    horiz=TRUE,cex.names=0.75,col=cols)"
   ]
  },
  {
   "cell_type": "markdown",
   "metadata": {},
   "source": [
    "###### 11. Create the ROC graph along with its AUC (to be used later when we do a classification model)"
   ]
  },
  {
   "cell_type": "code",
   "execution_count": 32,
   "metadata": {},
   "outputs": [
    {
     "name": "stderr",
     "output_type": "stream",
     "text": [
      "Setting levels: control = 0, case = 1\n",
      "Setting direction: controls < cases\n"
     ]
    },
    {
     "data": {
      "image/png": "[encoded data removed]",
      "text/plain": [
       "Plot with title “ROC Graph: Actuals vs. Predictions”"
      ]
     },
     "metadata": {},
     "output_type": "display_data"
    }
   ],
   "source": [
    "# Note this is a regression, not a classification problem, so ROC doesn't make sense\n",
    "# Saving the code here so you can use this for a classification model later\n",
    "# \n",
    "rocp1 <- roc(actual_column, predict_column,\n",
    "        percent=TRUE,\n",
    "        plot=TRUE, auc.polygon=TRUE, max.auc.polygon=TRUE, grid=TRUE,\n",
    "        print.auc=TRUE, show.thres=TRUE, main=\"ROC Graph: Actuals vs. Predictions\")"
   ]
  },
  {
   "cell_type": "markdown",
   "metadata": {},
   "source": [
    "##### Save your trained model. We'll use it later for inference. \n",
    "Note that your initials appear in the **folder** name, not the model name."
   ]
  },
  {
   "cell_type": "code",
   "execution_count": 33,
   "metadata": {},
   "outputs": [
    {
     "data": {
      "text/html": [
       "'/home/jupyter/Applied ML course/models/jing_iris_model/model_1'"
      ],
      "text/latex": [
       "'/home/jupyter/Applied ML course/models/jing\\_iris\\_model/model\\_1'"
      ],
      "text/markdown": [
       "'/home/jupyter/Applied ML course/models/jing_iris_model/model_1'"
      ],
      "text/plain": [
       "[1] \"/home/jupyter/Applied ML course/models/jing_iris_model/model_1\""
      ]
     },
     "metadata": {},
     "output_type": "display_data"
    }
   ],
   "source": [
    "#START HERE\n",
    "model_filename<-paste0(\"models/\",my_initials,\"_iris_model\")\n",
    "h2o.saveModel(model, model_filename, force=T)"
   ]
  },
  {
   "cell_type": "code",
   "execution_count": null,
   "metadata": {},
   "outputs": [],
   "source": []
  }
 ],
 "metadata": {
  "kernelspec": {
   "display_name": "R",
   "language": "R",
   "name": "ir"
  },
  "language_info": {
   "codemirror_mode": "r",
   "file_extension": ".r",
   "mimetype": "text/x-r-source",
   "name": "R",
   "pygments_lexer": "r",
   "version": "3.6.1"
  }
 },
 "nbformat": 4,
 "nbformat_minor": 4
}
