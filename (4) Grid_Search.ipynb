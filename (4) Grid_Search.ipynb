{
 "cells": [
  {
   "cell_type": "markdown",
   "metadata": {},
   "source": [
    "# Applied Machine Learning\n",
    "## Grid search to determine the best training parameters\n",
    "- Author: Lorien Pratt\n",
    "- Copyright: Quantellia LLC 2019.  All Rights Reserved"
   ]
  },
  {
   "cell_type": "markdown",
   "metadata": {},
   "source": [
    "Grid search does many model runs to find which one produces the best result after a few epochs (assuming that this is a good proxy for the final learning performance, which may or may not be true).\n",
    "\n",
    "Grid search explores multiple network architectures (number of layers, number of hidden units per layer) and other learning parameters. "
   ]
  },
  {
   "cell_type": "markdown",
   "metadata": {},
   "source": [
    "## Setup"
   ]
  },
  {
   "cell_type": "code",
   "execution_count": 1,
   "metadata": {},
   "outputs": [],
   "source": [
    "# Set up to be able to invoke R from inside this Python 2 notebook\n",
    "#%load_ext rpy2.ipython\n",
    "#import rpy2.rinterface"
   ]
  },
  {
   "cell_type": "markdown",
   "metadata": {},
   "source": [
    "##### Install and initialize the H2O library, which we will use to do the grid search\n",
    "Note that this will generate a lot of warnings. These are expected, and not errors but rather notifications"
   ]
  },
  {
   "cell_type": "code",
   "execution_count": 2,
   "metadata": {},
   "outputs": [
    {
     "name": "stderr",
     "output_type": "stream",
     "text": [
      "Loading required package: h2o\n",
      "\n",
      "----------------------------------------------------------------------\n",
      "\n",
      "Your next step is to start H2O:\n",
      "    > h2o.init()\n",
      "\n",
      "For H2O package documentation, ask for help:\n",
      "    > ??h2o\n",
      "\n",
      "After starting H2O, you can use the Web UI at http://localhost:54321\n",
      "For more information visit http://docs.h2o.ai\n",
      "\n",
      "----------------------------------------------------------------------\n",
      "\n",
      "\n",
      "Attaching package: ‘h2o’\n",
      "\n",
      "The following objects are masked from ‘package:stats’:\n",
      "\n",
      "    cor, sd, var\n",
      "\n",
      "The following objects are masked from ‘package:base’:\n",
      "\n",
      "    &&, %*%, %in%, ||, apply, as.factor, as.numeric, colnames,\n",
      "    colnames<-, ifelse, is.character, is.factor, is.numeric, log,\n",
      "    log10, log1p, log2, round, signif, trunc\n",
      "\n"
     ]
    },
    {
     "name": "stdout",
     "output_type": "stream",
     "text": [
      " Connection successful!\n",
      "\n",
      "R is connected to the H2O cluster: \n",
      "    H2O cluster uptime:         22 hours 21 minutes \n",
      "    H2O cluster timezone:       Etc/UTC \n",
      "    H2O data parsing timezone:  UTC \n",
      "    H2O cluster version:        3.26.0.10 \n",
      "    H2O cluster version age:    6 days  \n",
      "    H2O cluster name:           H2O_started_from_R_jupyter_mcy252 \n",
      "    H2O cluster total nodes:    1 \n",
      "    H2O cluster total memory:   0.36 GB \n",
      "    H2O cluster total cores:    1 \n",
      "    H2O cluster allowed cores:  1 \n",
      "    H2O cluster healthy:        TRUE \n",
      "    H2O Connection ip:          localhost \n",
      "    H2O Connection port:        54321 \n",
      "    H2O Connection proxy:       NA \n",
      "    H2O Internal Security:      FALSE \n",
      "    H2O API Extensions:         Amazon S3, XGBoost, Algos, AutoML, Core V3, TargetEncoder, Core V4 \n",
      "    R Version:                  R version 3.6.1 (2019-07-05) \n",
      "\n"
     ]
    }
   ],
   "source": [
    "require(h2o)\n",
    "h2o.init()\n",
    "h2o.no_progress() # Turns off progress bars, which don't display well in Jupyter"
   ]
  },
  {
   "cell_type": "markdown",
   "metadata": {},
   "source": [
    "Set up my initials for file names"
   ]
  },
  {
   "cell_type": "code",
   "execution_count": 3,
   "metadata": {},
   "outputs": [],
   "source": [
    "my_initials<-\"nm\""
   ]
  },
  {
   "cell_type": "markdown",
   "metadata": {},
   "source": [
    "Read in the test and training files that we created in the Prepare Data lesson, and convert them to h2o's internal \"hex\" format"
   ]
  },
  {
   "cell_type": "code",
   "execution_count": 4,
   "metadata": {},
   "outputs": [
    {
     "name": "stdout",
     "output_type": "stream",
     "text": [
      "[1] \"data/nm_train_auto.csv\"\n",
      "[1] \"data/nm_test_auto.csv\"\n",
      "[1] \"data/nm_backtest_auto.csv\"\n"
     ]
    }
   ],
   "source": [
    "train_filename<-paste0(\"data/\",my_initials,\"_train_auto.csv\"); print( train_filename )\n",
    "test_filename<-paste0(\"data/\",my_initials,\"_test_auto.csv\"); print( test_filename )\n",
    "backtest_filename<-paste0(\"data/\",my_initials,\"_backtest_auto.csv\"); print( backtest_filename )"
   ]
  },
  {
   "cell_type": "markdown",
   "metadata": {},
   "source": [
    "Read in the test and training files you created in the previous step. Convert them to h2o files along the way."
   ]
  },
  {
   "cell_type": "code",
   "execution_count": 5,
   "metadata": {},
   "outputs": [],
   "source": [
    "train_hex <- h2o.importFile(train_filename, parse = TRUE, header = TRUE, \n",
    "                            sep = \"\", col.names = NULL, col.types = NULL, na.strings = NULL)\n",
    "test_hex <- h2o.importFile(test_filename, parse = TRUE, header = TRUE, \n",
    "                           sep = \"\", col.names = NULL, col.types = NULL, na.strings = NULL)"
   ]
  },
  {
   "cell_type": "markdown",
   "metadata": {},
   "source": [
    "Tell the grid search which of the columns are predictors.  First, let's look at the top of the dataset again to remind us of the structure..."
   ]
  },
  {
   "cell_type": "code",
   "execution_count": 6,
   "metadata": {},
   "outputs": [
    {
     "data": {
      "text/html": [
       "<table>\n",
       "<caption>A data.frame: 6 × 9</caption>\n",
       "<thead>\n",
       "\t<tr><th scope=col>car.name</th><th scope=col>cylinders</th><th scope=col>displacement</th><th scope=col>horsepower</th><th scope=col>weight</th><th scope=col>acceleration</th><th scope=col>model.year</th><th scope=col>origin</th><th scope=col>mpg</th></tr>\n",
       "\t<tr><th scope=col>&lt;fct&gt;</th><th scope=col>&lt;dbl&gt;</th><th scope=col>&lt;dbl&gt;</th><th scope=col>&lt;dbl&gt;</th><th scope=col>&lt;dbl&gt;</th><th scope=col>&lt;dbl&gt;</th><th scope=col>&lt;dbl&gt;</th><th scope=col>&lt;dbl&gt;</th><th scope=col>&lt;dbl&gt;</th></tr>\n",
       "</thead>\n",
       "<tbody>\n",
       "\t<tr><td>ford country squire (sw)</td><td>8</td><td>351</td><td>142</td><td>4054</td><td>14.3</td><td>79</td><td>1</td><td>15.5</td></tr>\n",
       "\t<tr><td>plymouth duster         </td><td>6</td><td>198</td><td> 95</td><td>3102</td><td>16.5</td><td>74</td><td>1</td><td>20.0</td></tr>\n",
       "\t<tr><td>saab\t99le              </td><td>4</td><td>121</td><td>115</td><td>2671</td><td>13.5</td><td>75</td><td>2</td><td>25.0</td></tr>\n",
       "\t<tr><td>amc matador (sw)        </td><td>8</td><td>304</td><td>150</td><td>3892</td><td>12.5</td><td>72</td><td>1</td><td>15.0</td></tr>\n",
       "\t<tr><td>pontiac phoenix         </td><td>4</td><td>151</td><td> 90</td><td>2735</td><td>18.0</td><td>82</td><td>1</td><td>27.0</td></tr>\n",
       "\t<tr><td>ford fairmont           </td><td>4</td><td>140</td><td> 88</td><td>2870</td><td>18.1</td><td>80</td><td>1</td><td>26.4</td></tr>\n",
       "</tbody>\n",
       "</table>\n"
      ],
      "text/latex": [
       "A data.frame: 6 × 9\n",
       "\\begin{tabular}{r|lllllllll}\n",
       " car.name & cylinders & displacement & horsepower & weight & acceleration & model.year & origin & mpg\\\\\n",
       " <fct> & <dbl> & <dbl> & <dbl> & <dbl> & <dbl> & <dbl> & <dbl> & <dbl>\\\\\n",
       "\\hline\n",
       "\t ford country squire (sw) & 8 & 351 & 142 & 4054 & 14.3 & 79 & 1 & 15.5\\\\\n",
       "\t plymouth duster          & 6 & 198 &  95 & 3102 & 16.5 & 74 & 1 & 20.0\\\\\n",
       "\t saab\t99le               & 4 & 121 & 115 & 2671 & 13.5 & 75 & 2 & 25.0\\\\\n",
       "\t amc matador (sw)         & 8 & 304 & 150 & 3892 & 12.5 & 72 & 1 & 15.0\\\\\n",
       "\t pontiac phoenix          & 4 & 151 &  90 & 2735 & 18.0 & 82 & 1 & 27.0\\\\\n",
       "\t ford fairmont            & 4 & 140 &  88 & 2870 & 18.1 & 80 & 1 & 26.4\\\\\n",
       "\\end{tabular}\n"
      ],
      "text/markdown": [
       "\n",
       "A data.frame: 6 × 9\n",
       "\n",
       "| car.name &lt;fct&gt; | cylinders &lt;dbl&gt; | displacement &lt;dbl&gt; | horsepower &lt;dbl&gt; | weight &lt;dbl&gt; | acceleration &lt;dbl&gt; | model.year &lt;dbl&gt; | origin &lt;dbl&gt; | mpg &lt;dbl&gt; |\n",
       "|---|---|---|---|---|---|---|---|---|\n",
       "| ford country squire (sw) | 8 | 351 | 142 | 4054 | 14.3 | 79 | 1 | 15.5 |\n",
       "| plymouth duster          | 6 | 198 |  95 | 3102 | 16.5 | 74 | 1 | 20.0 |\n",
       "| saab\t99le               | 4 | 121 | 115 | 2671 | 13.5 | 75 | 2 | 25.0 |\n",
       "| amc matador (sw)         | 8 | 304 | 150 | 3892 | 12.5 | 72 | 1 | 15.0 |\n",
       "| pontiac phoenix          | 4 | 151 |  90 | 2735 | 18.0 | 82 | 1 | 27.0 |\n",
       "| ford fairmont            | 4 | 140 |  88 | 2870 | 18.1 | 80 | 1 | 26.4 |\n",
       "\n"
      ],
      "text/plain": [
       "  car.name                 cylinders displacement horsepower weight\n",
       "1 ford country squire (sw) 8         351          142        4054  \n",
       "2 plymouth duster          6         198           95        3102  \n",
       "3 saab\\t99le               4         121          115        2671  \n",
       "4 amc matador (sw)         8         304          150        3892  \n",
       "5 pontiac phoenix          4         151           90        2735  \n",
       "6 ford fairmont            4         140           88        2870  \n",
       "  acceleration model.year origin mpg \n",
       "1 14.3         79         1      15.5\n",
       "2 16.5         74         1      20.0\n",
       "3 13.5         75         2      25.0\n",
       "4 12.5         72         1      15.0\n",
       "5 18.0         82         1      27.0\n",
       "6 18.1         80         1      26.4"
      ]
     },
     "metadata": {},
     "output_type": "display_data"
    }
   ],
   "source": [
    "head(train_hex)"
   ]
  },
  {
   "cell_type": "markdown",
   "metadata": {},
   "source": [
    "Set the predictor columns and chec that they're the right ones"
   ]
  },
  {
   "cell_type": "code",
   "execution_count": 7,
   "metadata": {},
   "outputs": [
    {
     "data": {
      "text/html": [
       "<ol class=list-inline>\n",
       "\t<li>'cylinders'</li>\n",
       "\t<li>'displacement'</li>\n",
       "\t<li>'horsepower'</li>\n",
       "\t<li>'weight'</li>\n",
       "\t<li>'acceleration'</li>\n",
       "\t<li>'model.year'</li>\n",
       "\t<li>'origin'</li>\n",
       "</ol>\n"
      ],
      "text/latex": [
       "\\begin{enumerate*}\n",
       "\\item 'cylinders'\n",
       "\\item 'displacement'\n",
       "\\item 'horsepower'\n",
       "\\item 'weight'\n",
       "\\item 'acceleration'\n",
       "\\item 'model.year'\n",
       "\\item 'origin'\n",
       "\\end{enumerate*}\n"
      ],
      "text/markdown": [
       "1. 'cylinders'\n",
       "2. 'displacement'\n",
       "3. 'horsepower'\n",
       "4. 'weight'\n",
       "5. 'acceleration'\n",
       "6. 'model.year'\n",
       "7. 'origin'\n",
       "\n",
       "\n"
      ],
      "text/plain": [
       "[1] \"cylinders\"    \"displacement\" \"horsepower\"   \"weight\"       \"acceleration\"\n",
       "[6] \"model.year\"   \"origin\"      "
      ]
     },
     "metadata": {},
     "output_type": "display_data"
    }
   ],
   "source": [
    "predictors <- c(2,3,4,5,6,7,8)\n",
    "names(train_hex)[predictors]"
   ]
  },
  {
   "cell_type": "markdown",
   "metadata": {},
   "source": [
    "Tell the model training which of the columns is the target column (in this case, the very last column, mpg)"
   ]
  },
  {
   "cell_type": "code",
   "execution_count": 8,
   "metadata": {},
   "outputs": [],
   "source": [
    "targetcol<-ncol(train_hex)"
   ]
  },
  {
   "cell_type": "markdown",
   "metadata": {},
   "source": [
    "Tell the grid search which of the columns are predictors.  First, let's loo at the top of the dataset again to remind us of the structure..."
   ]
  },
  {
   "cell_type": "markdown",
   "metadata": {},
   "source": [
    "Create a set of grid search *hyperparameters* .  These are the alternative structures we'll try to see which one\n",
    "creates the best results after running the speciied number of epochs"
   ]
  },
  {
   "cell_type": "code",
   "execution_count": 9,
   "metadata": {},
   "outputs": [],
   "source": [
    "hyper_params <- list(\n",
    "    hidden=list(1, 5, 10, c(5,5), c(10,10,10)),\n",
    "    l1=c(0, .01, .00001),\n",
    "    l2=c(0, .01, 0.001, .00001),\n",
    "    input_dropout_ratio=c(0, .01, .0001),\n",
    "    epochs=c(100)\n",
    ")"
   ]
  },
  {
   "cell_type": "markdown",
   "metadata": {},
   "source": [
    "Run the grid test with these parameters.  This can take a little while, during which there will be no feedback."
   ]
  },
  {
   "cell_type": "code",
   "execution_count": 10,
   "metadata": {},
   "outputs": [
    {
     "name": "stdout",
     "output_type": "stream",
     "text": [
      "\n",
      "ERROR: Unexpected HTTP Status code: 412 Precondition Failed (url = http://localhost:54321/99/Grid/deeplearning)\n",
      "\n",
      "water.exceptions.H2OIllegalArgumentException\n",
      " [1] \"water.exceptions.H2OIllegalArgumentException: Illegal argument: training_frame of function: grid: Cannot append new models to a grid with different training input\"\n",
      " [2] \"    hex.grid.GridSearch.start(GridSearch.java:106)\"                                                                                                                \n",
      " [3] \"    hex.grid.GridSearch.startGridSearch(GridSearch.java:447)\"                                                                                                      \n",
      " [4] \"    hex.grid.GridSearch.startGridSearch(GridSearch.java:389)\"                                                                                                      \n",
      " [5] \"    water.api.GridSearchHandler.handle(GridSearchHandler.java:103)\"                                                                                                \n",
      " [6] \"    water.api.GridSearchHandler.handle(GridSearchHandler.java:36)\"                                                                                                 \n",
      " [7] \"    water.api.RequestServer.serve(RequestServer.java:471)\"                                                                                                         \n",
      " [8] \"    water.api.RequestServer.doGeneric(RequestServer.java:301)\"                                                                                                     \n",
      " [9] \"    water.api.RequestServer.doPost(RequestServer.java:227)\"                                                                                                        \n",
      "[10] \"    javax.servlet.http.HttpServlet.service(HttpServlet.java:755)\"                                                                                                  \n",
      "[11] \"    javax.servlet.http.HttpServlet.service(HttpServlet.java:848)\"                                                                                                  \n",
      "[12] \"    org.eclipse.jetty.servlet.ServletHolder.handle(ServletHolder.java:684)\"                                                                                        \n",
      "[13] \"    org.eclipse.jetty.servlet.ServletHandler.doHandle(ServletHandler.java:501)\"                                                                                    \n",
      "[14] \"    org.eclipse.jetty.server.handler.ContextHandler.doHandle(ContextHandler.java:1086)\"                                                                            \n",
      "[15] \"    org.eclipse.jetty.servlet.ServletHandler.doScope(ServletHandler.java:427)\"                                                                                     \n",
      "[16] \"    org.eclipse.jetty.server.handler.ContextHandler.doScope(ContextHandler.java:1020)\"                                                                             \n",
      "[17] \"    org.eclipse.jetty.server.handler.ScopedHandler.handle(ScopedHandler.java:135)\"                                                                                 \n",
      "[18] \"    org.eclipse.jetty.server.handler.HandlerCollection.handle(HandlerCollection.java:154)\"                                                                         \n",
      "[19] \"    org.eclipse.jetty.server.handler.HandlerWrapper.handle(HandlerWrapper.java:116)\"                                                                               \n",
      "[20] \"    water.webserver.jetty8.Jetty8ServerAdapter$LoginHandler.handle(Jetty8ServerAdapter.java:119)\"                                                                  \n",
      "[21] \"    org.eclipse.jetty.server.handler.HandlerCollection.handle(HandlerCollection.java:154)\"                                                                         \n",
      "[22] \"    org.eclipse.jetty.server.handler.HandlerWrapper.handle(HandlerWrapper.java:116)\"                                                                               \n",
      "[23] \"    org.eclipse.jetty.server.Server.handle(Server.java:370)\"                                                                                                       \n",
      "[24] \"    org.eclipse.jetty.server.AbstractHttpConnection.handleRequest(AbstractHttpConnection.java:494)\"                                                                \n",
      "[25] \"    org.eclipse.jetty.server.BlockingHttpConnection.handleRequest(BlockingHttpConnection.java:53)\"                                                                 \n",
      "[26] \"    org.eclipse.jetty.server.AbstractHttpConnection.content(AbstractHttpConnection.java:984)\"                                                                      \n",
      "[27] \"    org.eclipse.jetty.server.AbstractHttpConnection$RequestHandler.content(AbstractHttpConnection.java:1045)\"                                                      \n",
      "[28] \"    org.eclipse.jetty.http.HttpParser.parseNext(HttpParser.java:861)\"                                                                                              \n",
      "[29] \"    org.eclipse.jetty.http.HttpParser.parseAvailable(HttpParser.java:236)\"                                                                                         \n",
      "[30] \"    org.eclipse.jetty.server.BlockingHttpConnection.handle(BlockingHttpConnection.java:72)\"                                                                        \n",
      "[31] \"    org.eclipse.jetty.server.bio.SocketConnector$ConnectorEndPoint.run(SocketConnector.java:264)\"                                                                  \n",
      "[32] \"    org.eclipse.jetty.util.thread.QueuedThreadPool.runJob(QueuedThreadPool.java:608)\"                                                                              \n",
      "[33] \"    org.eclipse.jetty.util.thread.QueuedThreadPool$3.run(QueuedThreadPool.java:543)\"                                                                               \n",
      "[34] \"    java.lang.Thread.run(Thread.java:748)\"                                                                                                                         \n",
      "\n"
     ]
    },
    {
     "ename": "ERROR",
     "evalue": "Error in .h2o.doSafeREST(h2oRestApiVersion = h2oRestApiVersion, urlSuffix = page, : \n\nERROR MESSAGE:\n\nIllegal argument: training_frame of function: grid: Cannot append new models to a grid with different training input\n\n\n",
     "output_type": "error",
     "traceback": [
      "Error in .h2o.doSafeREST(h2oRestApiVersion = h2oRestApiVersion, urlSuffix = page, : \n\nERROR MESSAGE:\n\nIllegal argument: training_frame of function: grid: Cannot append new models to a grid with different training input\n\n\nTraceback:\n",
      "1. h2o.grid(algorithm = \"deeplearning\", x = predictors, y = targetcol, \n .     grid_id = \"grid_1\", training_frame = train_hex, validation_frame = test_hex, \n .     quiet_mode = FALSE, export_weights_and_biases = TRUE, activation = \"Tanh\", \n .     autoencoder = FALSE, ignore_const_cols = FALSE, standardize = FALSE, \n .     train_samples_per_iteration = 0, adaptive_rate = FALSE, classification_stop = -1, \n .     regression_stop = -1, stopping_rounds = 0, hyper_params = hyper_params)",
      "2. .h2o.__remoteSend(.h2o.__GRID(algorithm), h2oRestApiVersion = 99, \n .     .params = params, method = \"POST\")",
      "3. .h2o.doSafeREST(h2oRestApiVersion = h2oRestApiVersion, urlSuffix = page, \n .     parms = .params, method = method)",
      "4. stop(msg)"
     ]
    }
   ],
   "source": [
    "grid_result <- h2o.grid(\n",
    "    algorithm=\"deeplearning\",\n",
    "    x=predictors,\n",
    "    y=targetcol,\n",
    "    grid_id=\"grid_1\", # Can't be reused; consider incrementing on subsequent runs. TBD: try kernel restart for this instead\n",
    "    training_frame=train_hex,\n",
    "    validation_frame=test_hex,\n",
    "    quiet_mode=FALSE,\n",
    "    export_weights_and_biases=TRUE,\n",
    "    activation=\"Tanh\",\n",
    "    autoencoder=FALSE,\n",
    "    ignore_const_cols=FALSE,\n",
    "    standardize=FALSE,\n",
    "    train_samples_per_iteration=0,\n",
    "    adaptive_rate=FALSE, # Manaully tuned learning rate\n",
    "    classification_stop = -1, # Dispable automatic stopping\n",
    "    regression_stop = -1, # Disable automatic stopping\n",
    "    stopping_rounds = 0, # Don't stop automatically\n",
    "    hyper_params = hyper_params\n",
    "\n",
    ")"
   ]
  },
  {
   "cell_type": "markdown",
   "metadata": {},
   "source": [
    "Display the grid search results"
   ]
  },
  {
   "cell_type": "code",
   "execution_count": null,
   "metadata": {},
   "outputs": [],
   "source": [
    "h2o.getGrid(\"grid_1\", sort_by=\"mse\", decreasing=FALSE)"
   ]
  },
  {
   "cell_type": "code",
   "execution_count": null,
   "metadata": {},
   "outputs": [],
   "source": []
  }
 ],
 "metadata": {
  "kernelspec": {
   "display_name": "R",
   "language": "R",
   "name": "ir"
  },
  "language_info": {
   "codemirror_mode": "r",
   "file_extension": ".r",
   "mimetype": "text/x-r-source",
   "name": "R",
   "pygments_lexer": "r",
   "version": "3.6.1"
  }
 },
 "nbformat": 4,
 "nbformat_minor": 4
}
