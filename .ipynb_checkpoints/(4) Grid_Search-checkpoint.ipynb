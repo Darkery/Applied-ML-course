{
 "cells": [
  {
   "cell_type": "markdown",
   "metadata": {},
   "source": [
    "# Applied Machine Learning\n",
    "## Grid search to determine the best training parameters\n",
    "- Author: Lorien Pratt\n",
    "- Copyright: Quantellia LLC 2019.  All Rights Reserved"
   ]
  },
  {
   "cell_type": "markdown",
   "metadata": {},
   "source": [
    "Grid search does many model runs to find which one produces the best result after a few epochs (assuming that this is a good proxy for the final learning performance, which may or may not be true).\n",
    "\n",
    "Grid search explores multiple network architectures (number of layers, number of hidden units per layer) and other learning parameters. "
   ]
  },
  {
   "cell_type": "markdown",
   "metadata": {},
   "source": [
    "## Setup"
   ]
  },
  {
   "cell_type": "code",
   "execution_count": 1,
   "metadata": {},
   "outputs": [],
   "source": [
    "# Set up to be able to invoke R from inside this Python 2 notebook\n",
    "#%load_ext rpy2.ipython\n",
    "#import rpy2.rinterface"
   ]
  },
  {
   "cell_type": "markdown",
   "metadata": {},
   "source": [
    "##### Install and initialize the H2O library, which we will use to do the grid search\n",
    "Note that this will generate a lot of warnings. These are expected, and not errors but rather notifications"
   ]
  },
  {
   "cell_type": "code",
   "execution_count": 2,
   "metadata": {},
   "outputs": [
    {
     "name": "stderr",
     "output_type": "stream",
     "text": [
      "Loading required package: h2o\n",
      "\n",
      "----------------------------------------------------------------------\n",
      "\n",
      "Your next step is to start H2O:\n",
      "    > h2o.init()\n",
      "\n",
      "For H2O package documentation, ask for help:\n",
      "    > ??h2o\n",
      "\n",
      "After starting H2O, you can use the Web UI at http://localhost:54321\n",
      "For more information visit http://docs.h2o.ai\n",
      "\n",
      "----------------------------------------------------------------------\n",
      "\n",
      "\n",
      "Attaching package: ‘h2o’\n",
      "\n",
      "The following objects are masked from ‘package:stats’:\n",
      "\n",
      "    cor, sd, var\n",
      "\n",
      "The following objects are masked from ‘package:base’:\n",
      "\n",
      "    &&, %*%, %in%, ||, apply, as.factor, as.numeric, colnames,\n",
      "    colnames<-, ifelse, is.character, is.factor, is.numeric, log,\n",
      "    log10, log1p, log2, round, signif, trunc\n",
      "\n"
     ]
    },
    {
     "name": "stdout",
     "output_type": "stream",
     "text": [
      "\n",
      "H2O is not running yet, starting it now...\n",
      "\n",
      "Note:  In case of errors look at the following log files:\n",
      "    /tmp/Rtmpu07leL/h2o_jupyter_started_from_r.out\n",
      "    /tmp/Rtmpu07leL/h2o_jupyter_started_from_r.err\n",
      "\n",
      "\n",
      "Starting H2O JVM and connecting: ...... Connection successful!\n",
      "\n",
      "R is connected to the H2O cluster: \n",
      "    H2O cluster uptime:         6 seconds 824 milliseconds \n",
      "    H2O cluster timezone:       Etc/UTC \n",
      "    H2O data parsing timezone:  UTC \n",
      "    H2O cluster version:        3.26.0.2 \n",
      "    H2O cluster version age:    3 months and 13 days !!! \n",
      "    H2O cluster name:           H2O_started_from_R_jupyter_jsz210 \n",
      "    H2O cluster total nodes:    1 \n",
      "    H2O cluster total memory:   0.40 GB \n",
      "    H2O cluster total cores:    1 \n",
      "    H2O cluster allowed cores:  1 \n",
      "    H2O cluster healthy:        TRUE \n",
      "    H2O Connection ip:          localhost \n",
      "    H2O Connection port:        54321 \n",
      "    H2O Connection proxy:       NA \n",
      "    H2O Internal Security:      FALSE \n",
      "    H2O API Extensions:         Amazon S3, XGBoost, Algos, AutoML, Core V3, Core V4 \n",
      "    R Version:                  R version 3.6.1 (2019-07-05) \n"
     ]
    },
    {
     "name": "stderr",
     "output_type": "stream",
     "text": [
      "Warning message in h2o.clusterInfo():\n",
      "“\n",
      "Your H2O cluster version is too old (3 months and 13 days)!\n",
      "Please download and install the latest version from http://h2o.ai/download/”"
     ]
    },
    {
     "name": "stdout",
     "output_type": "stream",
     "text": [
      "\n"
     ]
    }
   ],
   "source": [
    "require(h2o)\n",
    "h2o.init()\n",
    "h2o.no_progress() # Turns off progress bars, which don't display well in Jupyter"
   ]
  },
  {
   "cell_type": "markdown",
   "metadata": {},
   "source": [
    "Set up my initials for file names"
   ]
  },
  {
   "cell_type": "code",
   "execution_count": 3,
   "metadata": {},
   "outputs": [],
   "source": [
    "my_initials<-\"nm\""
   ]
  },
  {
   "cell_type": "markdown",
   "metadata": {},
   "source": [
    "Read in the test and training files that we created in the Prepare Data lesson, and convert them to h2o's internal \"hex\" format"
   ]
  },
  {
   "cell_type": "code",
   "execution_count": 4,
   "metadata": {},
   "outputs": [
    {
     "name": "stdout",
     "output_type": "stream",
     "text": [
      "[1] \"data/nm_train_auto.csv\"\n",
      "[1] \"data/nm_test_auto.csv\"\n",
      "[1] \"data/nm_backtest_auto.csv\"\n"
     ]
    }
   ],
   "source": [
    "train_filename<-paste0(\"data/\",my_initials,\"_train_auto.csv\"); print( train_filename )\n",
    "test_filename<-paste0(\"data/\",my_initials,\"_test_auto.csv\"); print( test_filename )\n",
    "backtest_filename<-paste0(\"data/\",my_initials,\"_backtest_auto.csv\"); print( backtest_filename )"
   ]
  },
  {
   "cell_type": "markdown",
   "metadata": {},
   "source": [
    "Read in the test and training files you created in the previous step. Convert them to h2o files along the way."
   ]
  },
  {
   "cell_type": "code",
   "execution_count": 5,
   "metadata": {},
   "outputs": [],
   "source": [
    "train_hex <- h2o.importFile(train_filename, parse = TRUE, header = TRUE, \n",
    "                            sep = \"\", col.names = NULL, col.types = NULL, na.strings = NULL)\n",
    "test_hex <- h2o.importFile(test_filename, parse = TRUE, header = TRUE, \n",
    "                           sep = \"\", col.names = NULL, col.types = NULL, na.strings = NULL)"
   ]
  },
  {
   "cell_type": "markdown",
   "metadata": {},
   "source": [
    "Tell the grid search which of the columns are predictors.  First, let's look at the top of the dataset again to remind us of the structure..."
   ]
  },
  {
   "cell_type": "code",
   "execution_count": 6,
   "metadata": {},
   "outputs": [
    {
     "data": {
      "text/html": [
       "<table>\n",
       "<caption>A data.frame: 6 × 9</caption>\n",
       "<thead>\n",
       "\t<tr><th scope=col>car.name</th><th scope=col>cylinders</th><th scope=col>displacement</th><th scope=col>horsepower</th><th scope=col>weight</th><th scope=col>acceleration</th><th scope=col>model.year</th><th scope=col>origin</th><th scope=col>mpg</th></tr>\n",
       "\t<tr><th scope=col>&lt;fct&gt;</th><th scope=col>&lt;dbl&gt;</th><th scope=col>&lt;dbl&gt;</th><th scope=col>&lt;dbl&gt;</th><th scope=col>&lt;dbl&gt;</th><th scope=col>&lt;dbl&gt;</th><th scope=col>&lt;dbl&gt;</th><th scope=col>&lt;dbl&gt;</th><th scope=col>&lt;dbl&gt;</th></tr>\n",
       "</thead>\n",
       "<tbody>\n",
       "\t<tr><td>chevrolet chevelle malibu classic</td><td>6</td><td>250</td><td>100</td><td>3781</td><td>17.0</td><td>74</td><td>1</td><td>16.0</td></tr>\n",
       "\t<tr><td>ford fairmont futura             </td><td>4</td><td>140</td><td> 92</td><td>2865</td><td>16.4</td><td>82</td><td>1</td><td>24.0</td></tr>\n",
       "\t<tr><td>buick estate wagon (sw)          </td><td>8</td><td>350</td><td>155</td><td>4360</td><td>14.9</td><td>79</td><td>1</td><td>16.9</td></tr>\n",
       "\t<tr><td>renault\t18i                     </td><td>4</td><td>100</td><td>NaN</td><td>2320</td><td>15.8</td><td>81</td><td>2</td><td>34.5</td></tr>\n",
       "\t<tr><td>oldsmobile cutlass salon brougham</td><td>8</td><td>260</td><td> 90</td><td>3420</td><td>22.2</td><td>79</td><td>1</td><td>23.9</td></tr>\n",
       "\t<tr><td>honda civic                      </td><td>4</td><td> 91</td><td> 67</td><td>1965</td><td>15.0</td><td>82</td><td>3</td><td>38.0</td></tr>\n",
       "</tbody>\n",
       "</table>\n"
      ],
      "text/latex": [
       "A data.frame: 6 × 9\n",
       "\\begin{tabular}{r|lllllllll}\n",
       " car.name & cylinders & displacement & horsepower & weight & acceleration & model.year & origin & mpg\\\\\n",
       " <fct> & <dbl> & <dbl> & <dbl> & <dbl> & <dbl> & <dbl> & <dbl> & <dbl>\\\\\n",
       "\\hline\n",
       "\t chevrolet chevelle malibu classic & 6 & 250 & 100 & 3781 & 17.0 & 74 & 1 & 16.0\\\\\n",
       "\t ford fairmont futura              & 4 & 140 &  92 & 2865 & 16.4 & 82 & 1 & 24.0\\\\\n",
       "\t buick estate wagon (sw)           & 8 & 350 & 155 & 4360 & 14.9 & 79 & 1 & 16.9\\\\\n",
       "\t renault\t18i                      & 4 & 100 & NaN & 2320 & 15.8 & 81 & 2 & 34.5\\\\\n",
       "\t oldsmobile cutlass salon brougham & 8 & 260 &  90 & 3420 & 22.2 & 79 & 1 & 23.9\\\\\n",
       "\t honda civic                       & 4 &  91 &  67 & 1965 & 15.0 & 82 & 3 & 38.0\\\\\n",
       "\\end{tabular}\n"
      ],
      "text/markdown": [
       "\n",
       "A data.frame: 6 × 9\n",
       "\n",
       "| car.name &lt;fct&gt; | cylinders &lt;dbl&gt; | displacement &lt;dbl&gt; | horsepower &lt;dbl&gt; | weight &lt;dbl&gt; | acceleration &lt;dbl&gt; | model.year &lt;dbl&gt; | origin &lt;dbl&gt; | mpg &lt;dbl&gt; |\n",
       "|---|---|---|---|---|---|---|---|---|\n",
       "| chevrolet chevelle malibu classic | 6 | 250 | 100 | 3781 | 17.0 | 74 | 1 | 16.0 |\n",
       "| ford fairmont futura              | 4 | 140 |  92 | 2865 | 16.4 | 82 | 1 | 24.0 |\n",
       "| buick estate wagon (sw)           | 8 | 350 | 155 | 4360 | 14.9 | 79 | 1 | 16.9 |\n",
       "| renault\t18i                      | 4 | 100 | NaN | 2320 | 15.8 | 81 | 2 | 34.5 |\n",
       "| oldsmobile cutlass salon brougham | 8 | 260 |  90 | 3420 | 22.2 | 79 | 1 | 23.9 |\n",
       "| honda civic                       | 4 |  91 |  67 | 1965 | 15.0 | 82 | 3 | 38.0 |\n",
       "\n"
      ],
      "text/plain": [
       "  car.name                          cylinders displacement horsepower weight\n",
       "1 chevrolet chevelle malibu classic 6         250          100        3781  \n",
       "2 ford fairmont futura              4         140           92        2865  \n",
       "3 buick estate wagon (sw)           8         350          155        4360  \n",
       "4 renault\\t18i                      4         100          NaN        2320  \n",
       "5 oldsmobile cutlass salon brougham 8         260           90        3420  \n",
       "6 honda civic                       4          91           67        1965  \n",
       "  acceleration model.year origin mpg \n",
       "1 17.0         74         1      16.0\n",
       "2 16.4         82         1      24.0\n",
       "3 14.9         79         1      16.9\n",
       "4 15.8         81         2      34.5\n",
       "5 22.2         79         1      23.9\n",
       "6 15.0         82         3      38.0"
      ]
     },
     "metadata": {},
     "output_type": "display_data"
    }
   ],
   "source": [
    "head(train_hex)"
   ]
  },
  {
   "cell_type": "markdown",
   "metadata": {},
   "source": [
    "Set the predictor columns and chec that they're the right ones"
   ]
  },
  {
   "cell_type": "code",
   "execution_count": 7,
   "metadata": {},
   "outputs": [
    {
     "data": {
      "text/html": [
       "<ol class=list-inline>\n",
       "\t<li>'cylinders'</li>\n",
       "\t<li>'displacement'</li>\n",
       "\t<li>'horsepower'</li>\n",
       "\t<li>'weight'</li>\n",
       "\t<li>'acceleration'</li>\n",
       "\t<li>'model.year'</li>\n",
       "\t<li>'origin'</li>\n",
       "</ol>\n"
      ],
      "text/latex": [
       "\\begin{enumerate*}\n",
       "\\item 'cylinders'\n",
       "\\item 'displacement'\n",
       "\\item 'horsepower'\n",
       "\\item 'weight'\n",
       "\\item 'acceleration'\n",
       "\\item 'model.year'\n",
       "\\item 'origin'\n",
       "\\end{enumerate*}\n"
      ],
      "text/markdown": [
       "1. 'cylinders'\n",
       "2. 'displacement'\n",
       "3. 'horsepower'\n",
       "4. 'weight'\n",
       "5. 'acceleration'\n",
       "6. 'model.year'\n",
       "7. 'origin'\n",
       "\n",
       "\n"
      ],
      "text/plain": [
       "[1] \"cylinders\"    \"displacement\" \"horsepower\"   \"weight\"       \"acceleration\"\n",
       "[6] \"model.year\"   \"origin\"      "
      ]
     },
     "metadata": {},
     "output_type": "display_data"
    }
   ],
   "source": [
    "predictors <- c(2,3,4,5,6,7,8)\n",
    "names(train_hex)[predictors]"
   ]
  },
  {
   "cell_type": "markdown",
   "metadata": {},
   "source": [
    "Tell the model training which of the columns is the target column (in this case, the very last column, mpg)"
   ]
  },
  {
   "cell_type": "code",
   "execution_count": 8,
   "metadata": {},
   "outputs": [],
   "source": [
    "targetcol<-ncol(train_hex)"
   ]
  },
  {
   "cell_type": "markdown",
   "metadata": {},
   "source": [
    "Tell the grid search which of the columns are predictors.  First, let's loo at the top of the dataset again to remind us of the structure..."
   ]
  },
  {
   "cell_type": "markdown",
   "metadata": {},
   "source": [
    "Create a set of grid search *hyperparameters* .  These are the alternative structures we'll try to see which one\n",
    "creates the best results after running the speciied number of epochs"
   ]
  },
  {
   "cell_type": "code",
   "execution_count": 10,
   "metadata": {},
   "outputs": [],
   "source": [
    "hyper_params <- list(\n",
    "    hidden=list(1, 5, 10, c(5,5), c(10,10,10)),\n",
    "    l1=c(0, .01, .00001),\n",
    "    l2=c(0, .01, 0.001, .00001),\n",
    "    input_dropout_ratio=c(0, .01, .0001),\n",
    "    epochs=c(100)\n",
    ")"
   ]
  },
  {
   "cell_type": "markdown",
   "metadata": {},
   "source": [
    "Run the grid test with these parameters.  This can take a little while, during which there will be no feedback."
   ]
  },
  {
   "cell_type": "code",
   "execution_count": 11,
   "metadata": {},
   "outputs": [],
   "source": [
    "grid_result <- h2o.grid(\n",
    "    algorithm=\"deeplearning\",\n",
    "    x=predictors,\n",
    "    y=targetcol,\n",
    "    grid_id=\"grid_2\", # Can't be reused; consider incrementing on subsequent runs. TBD: try kernel restart for this instead\n",
    "    training_frame=train_hex,\n",
    "    validation_frame=test_hex,\n",
    "    quiet_mode=FALSE,\n",
    "    export_weights_and_biases=TRUE,\n",
    "    activation=\"Tanh\",\n",
    "    autoencoder=FALSE,\n",
    "    ignore_const_cols=FALSE,\n",
    "    standardize=FALSE,\n",
    "    train_samples_per_iteration=0,\n",
    "    adaptive_rate=FALSE, # Manaully tuned learning rate\n",
    "    classification_stop = -1, # Dispable automatic stopping\n",
    "    regression_stop = -1, # Disable automatic stopping\n",
    "    stopping_rounds = 0, # Don't stop automatically\n",
    "    hyper_params = hyper_params\n",
    "\n",
    ")"
   ]
  },
  {
   "cell_type": "markdown",
   "metadata": {},
   "source": [
    "Display the grid search results"
   ]
  },
  {
   "cell_type": "code",
   "execution_count": 12,
   "metadata": {},
   "outputs": [
    {
     "data": {
      "text/plain": [
       "H2O Grid Details\n",
       "================\n",
       "\n",
       "Grid ID: grid_2 \n",
       "Used hyper parameters: \n",
       "  -  epochs \n",
       "  -  hidden \n",
       "  -  input_dropout_ratio \n",
       "  -  l1 \n",
       "  -  l2 \n",
       "Number of models: 180 \n",
       "Number of failed models: 0 \n",
       "\n",
       "Hyper-Parameter Search Summary: ordered by increasing mse\n",
       "  epochs hidden input_dropout_ratio     l1     l2        model_ids\n",
       "1  100.0   [10]                0.01   0.01   0.01  grid_2_model_68\n",
       "2  100.0    [5]                0.01   0.01 1.0E-5 grid_2_model_157\n",
       "3  100.0   [10]                0.01 1.0E-5    0.0  grid_2_model_38\n",
       "4  100.0    [5]                0.01   0.01    0.0  grid_2_model_22\n",
       "5  100.0    [1]                0.01    0.0    0.0   grid_2_model_6\n",
       "                 mse\n",
       "1 62.802616122276596\n",
       "2  62.84713366035052\n",
       "3 62.915313564508594\n",
       "4 62.931462814460644\n",
       "5  63.00756317437499\n",
       "\n",
       "---\n",
       "    epochs hidden input_dropout_ratio   l1     l2        model_ids\n",
       "175  100.0    [5]                0.01 0.01   0.01  grid_2_model_67\n",
       "176  100.0    [5]              1.0E-4 0.01   0.01  grid_2_model_72\n",
       "177  100.0    [5]                 0.0 0.01   0.01  grid_2_model_62\n",
       "178  100.0 [5, 5]              1.0E-4 0.01   0.01  grid_2_model_74\n",
       "179  100.0 [5, 5]                 0.0 0.01   0.01  grid_2_model_64\n",
       "180  100.0    [5]                0.01  0.0 1.0E-5 grid_2_model_142\n",
       "                   mse\n",
       "175  63.39400637492506\n",
       "176  63.39751751094674\n",
       "177 63.397518363676156\n",
       "178  63.40010556047677\n",
       "179  63.40014936163678\n",
       "180  63.41062201823417"
      ]
     },
     "metadata": {},
     "output_type": "display_data"
    }
   ],
   "source": [
    "h2o.getGrid(\"grid_2\", sort_by=\"mse\", decreasing=FALSE)"
   ]
  },
  {
   "cell_type": "code",
   "execution_count": null,
   "metadata": {},
   "outputs": [],
   "source": []
  }
 ],
 "metadata": {
  "kernelspec": {
   "display_name": "R",
   "language": "R",
   "name": "ir"
  },
  "language_info": {
   "codemirror_mode": "r",
   "file_extension": ".r",
   "mimetype": "text/x-r-source",
   "name": "R",
   "pygments_lexer": "r",
   "version": "3.6.1"
  }
 },
 "nbformat": 4,
 "nbformat_minor": 4
}
