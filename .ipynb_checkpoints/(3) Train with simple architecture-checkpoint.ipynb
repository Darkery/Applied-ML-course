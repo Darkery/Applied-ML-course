{
 "cells": [
  {
   "cell_type": "markdown",
   "metadata": {},
   "source": [
    "# Applied Machine Learning\n",
    "## Train your first machine learning model\n",
    "- Author: Lorien Pratt\n",
    "- Copyright: Quantellia LLC 2019.  All Rights Reserved"
   ]
  },
  {
   "cell_type": "markdown",
   "metadata": {},
   "source": [
    "## Setup"
   ]
  },
  {
   "cell_type": "code",
   "execution_count": 1,
   "metadata": {},
   "outputs": [],
   "source": [
    "my_initials<-\"nm\" # Set your initials to use for model and data files"
   ]
  },
  {
   "cell_type": "markdown",
   "metadata": {},
   "source": [
    "##### Install and initialize the H2O library, which we will use to do the grid search\n",
    "Note that this will generate a lot of warnings. These are expected, and not errors but rather notifications"
   ]
  },
  {
   "cell_type": "code",
   "execution_count": 2,
   "metadata": {},
   "outputs": [
    {
     "name": "stderr",
     "output_type": "stream",
     "text": [
      "Loading required package: h2o\n",
      "\n",
      "----------------------------------------------------------------------\n",
      "\n",
      "Your next step is to start H2O:\n",
      "    > h2o.init()\n",
      "\n",
      "For H2O package documentation, ask for help:\n",
      "    > ??h2o\n",
      "\n",
      "After starting H2O, you can use the Web UI at http://localhost:54321\n",
      "For more information visit http://docs.h2o.ai\n",
      "\n",
      "----------------------------------------------------------------------\n",
      "\n",
      "\n",
      "Attaching package: ‘h2o’\n",
      "\n",
      "The following objects are masked from ‘package:stats’:\n",
      "\n",
      "    cor, sd, var\n",
      "\n",
      "The following objects are masked from ‘package:base’:\n",
      "\n",
      "    &&, %*%, %in%, ||, apply, as.factor, as.numeric, colnames,\n",
      "    colnames<-, ifelse, is.character, is.factor, is.numeric, log,\n",
      "    log10, log1p, log2, round, signif, trunc\n",
      "\n"
     ]
    },
    {
     "name": "stdout",
     "output_type": "stream",
     "text": [
      "\n",
      "H2O is not running yet, starting it now...\n",
      "\n",
      "Note:  In case of errors look at the following log files:\n",
      "    /tmp/RtmpGzmaTN/h2o_jupyter_started_from_r.out\n",
      "    /tmp/RtmpGzmaTN/h2o_jupyter_started_from_r.err\n",
      "\n",
      "\n",
      "Starting H2O JVM and connecting: . Connection successful!\n",
      "\n",
      "R is connected to the H2O cluster: \n",
      "    H2O cluster uptime:         1 seconds 908 milliseconds \n",
      "    H2O cluster timezone:       Etc/UTC \n",
      "    H2O data parsing timezone:  UTC \n",
      "    H2O cluster version:        3.26.0.10 \n",
      "    H2O cluster version age:    3 days  \n",
      "    H2O cluster name:           H2O_started_from_R_jupyter_nlj368 \n",
      "    H2O cluster total nodes:    1 \n",
      "    H2O cluster total memory:   3.27 GB \n",
      "    H2O cluster total cores:    4 \n",
      "    H2O cluster allowed cores:  4 \n",
      "    H2O cluster healthy:        TRUE \n",
      "    H2O Connection ip:          localhost \n",
      "    H2O Connection port:        54321 \n",
      "    H2O Connection proxy:       NA \n",
      "    H2O Internal Security:      FALSE \n",
      "    H2O API Extensions:         Amazon S3, XGBoost, Algos, AutoML, Core V3, TargetEncoder, Core V4 \n",
      "    R Version:                  R version 3.6.1 (2019-07-05) \n",
      "\n"
     ]
    }
   ],
   "source": [
    "require(h2o)\n",
    "h2o.init()"
   ]
  },
  {
   "cell_type": "markdown",
   "metadata": {},
   "source": [
    "Install a number of R packages we'll need to display the results"
   ]
  },
  {
   "cell_type": "code",
   "execution_count": 8,
   "metadata": {},
   "outputs": [
    {
     "name": "stderr",
     "output_type": "stream",
     "text": [
      "Loading required package: gplots\n",
      "\n",
      "Attaching package: ‘gplots’\n",
      "\n",
      "The following object is masked from ‘package:stats’:\n",
      "\n",
      "    lowess\n",
      "\n"
     ]
    }
   ],
   "source": [
    "# This will generate what look like warnings, but are really notifications\n",
    "# uncomment install.packages if you are on a new instance without these packages pre-installed\n",
    "#install.packages(\"plyr\")\n",
    "#install.packages(\"pROC\")\n",
    "#install.packages(\"SDMTools\")\n",
    "#install.packages(\"RColorBrewer\")\n",
    "#install.packages(\"gplots\")\n",
    "require(plyr)\n",
    "require(pROC)\n",
    "require(SDMTools)\n",
    "require(RColorBrewer)\n",
    "require(gplots)"
   ]
  },
  {
   "cell_type": "markdown",
   "metadata": {},
   "source": [
    "Create the file names from your initials, just as we did when building the files in the first place"
   ]
  },
  {
   "cell_type": "code",
   "execution_count": 9,
   "metadata": {},
   "outputs": [
    {
     "name": "stdout",
     "output_type": "stream",
     "text": [
      "[1] \"data/nm_train_auto.csv\"\n",
      "[1] \"data/nm_test_auto.csv\"\n",
      "[1] \"data/nm_backtest_auto.csv\"\n"
     ]
    }
   ],
   "source": [
    "train_filename<-paste0(\"data/\",my_initials,\"_train_auto.csv\"); print( train_filename )\n",
    "test_filename<-paste0(\"data/\",my_initials,\"_test_auto.csv\"); print( test_filename )\n",
    "backtest_filename<-paste0(\"data/\",my_initials,\"_backtest_auto.csv\"); print( backtest_filename )"
   ]
  },
  {
   "cell_type": "markdown",
   "metadata": {},
   "source": [
    "Read in the test and training files you created in the previous step. Convert them to h2o files along the way."
   ]
  },
  {
   "cell_type": "code",
   "execution_count": 10,
   "metadata": {},
   "outputs": [
    {
     "name": "stdout",
     "output_type": "stream",
     "text": [
      "\n",
      "ERROR: Unexpected HTTP Status code: 404 Not Found (url = http://localhost:54321/3/ImportFiles?path=data%2Fnm_train_auto.csv&pattern=)\n",
      "\n",
      "water.exceptions.H2ONotFoundArgumentException\n",
      " [1] \"water.exceptions.H2ONotFoundArgumentException: File data/nm_train_auto.csv does not exist\"                          \n",
      " [2] \"    water.persist.PersistNFS.importFiles(PersistNFS.java:136)\"                                                      \n",
      " [3] \"    water.persist.PersistManager.importFiles(PersistManager.java:374)\"                                              \n",
      " [4] \"    water.api.ImportFilesHandler.importFiles(ImportFilesHandler.java:25)\"                                           \n",
      " [5] \"    sun.reflect.NativeMethodAccessorImpl.invoke0(Native Method)\"                                                    \n",
      " [6] \"    sun.reflect.NativeMethodAccessorImpl.invoke(NativeMethodAccessorImpl.java:62)\"                                  \n",
      " [7] \"    sun.reflect.DelegatingMethodAccessorImpl.invoke(DelegatingMethodAccessorImpl.java:43)\"                          \n",
      " [8] \"    java.lang.reflect.Method.invoke(Method.java:498)\"                                                               \n",
      " [9] \"    water.api.Handler.handle(Handler.java:60)\"                                                                      \n",
      "[10] \"    water.api.RequestServer.serve(RequestServer.java:471)\"                                                          \n",
      "[11] \"    water.api.RequestServer.doGeneric(RequestServer.java:301)\"                                                      \n",
      "[12] \"    water.api.RequestServer.doGet(RequestServer.java:225)\"                                                          \n",
      "[13] \"    javax.servlet.http.HttpServlet.service(HttpServlet.java:735)\"                                                   \n",
      "[14] \"    javax.servlet.http.HttpServlet.service(HttpServlet.java:848)\"                                                   \n",
      "[15] \"    org.eclipse.jetty.servlet.ServletHolder.handle(ServletHolder.java:684)\"                                         \n",
      "[16] \"    org.eclipse.jetty.servlet.ServletHandler.doHandle(ServletHandler.java:501)\"                                     \n",
      "[17] \"    org.eclipse.jetty.server.handler.ContextHandler.doHandle(ContextHandler.java:1086)\"                             \n",
      "[18] \"    org.eclipse.jetty.servlet.ServletHandler.doScope(ServletHandler.java:427)\"                                      \n",
      "[19] \"    org.eclipse.jetty.server.handler.ContextHandler.doScope(ContextHandler.java:1020)\"                              \n",
      "[20] \"    org.eclipse.jetty.server.handler.ScopedHandler.handle(ScopedHandler.java:135)\"                                  \n",
      "[21] \"    org.eclipse.jetty.server.handler.HandlerCollection.handle(HandlerCollection.java:154)\"                          \n",
      "[22] \"    org.eclipse.jetty.server.handler.HandlerWrapper.handle(HandlerWrapper.java:116)\"                                \n",
      "[23] \"    water.webserver.jetty8.Jetty8ServerAdapter$LoginHandler.handle(Jetty8ServerAdapter.java:119)\"                   \n",
      "[24] \"    org.eclipse.jetty.server.handler.HandlerCollection.handle(HandlerCollection.java:154)\"                          \n",
      "[25] \"    org.eclipse.jetty.server.handler.HandlerWrapper.handle(HandlerWrapper.java:116)\"                                \n",
      "[26] \"    org.eclipse.jetty.server.Server.handle(Server.java:370)\"                                                        \n",
      "[27] \"    org.eclipse.jetty.server.AbstractHttpConnection.handleRequest(AbstractHttpConnection.java:494)\"                 \n",
      "[28] \"    org.eclipse.jetty.server.BlockingHttpConnection.handleRequest(BlockingHttpConnection.java:53)\"                  \n",
      "[29] \"    org.eclipse.jetty.server.AbstractHttpConnection.headerComplete(AbstractHttpConnection.java:973)\"                \n",
      "[30] \"    org.eclipse.jetty.server.AbstractHttpConnection$RequestHandler.headerComplete(AbstractHttpConnection.java:1035)\"\n",
      "[31] \"    org.eclipse.jetty.http.HttpParser.parseNext(HttpParser.java:641)\"                                               \n",
      "[32] \"    org.eclipse.jetty.http.HttpParser.parseAvailable(HttpParser.java:231)\"                                          \n",
      "[33] \"    org.eclipse.jetty.server.BlockingHttpConnection.handle(BlockingHttpConnection.java:72)\"                         \n",
      "[34] \"    org.eclipse.jetty.server.bio.SocketConnector$ConnectorEndPoint.run(SocketConnector.java:264)\"                   \n",
      "[35] \"    org.eclipse.jetty.util.thread.QueuedThreadPool.runJob(QueuedThreadPool.java:608)\"                               \n",
      "[36] \"    org.eclipse.jetty.util.thread.QueuedThreadPool$3.run(QueuedThreadPool.java:543)\"                                \n",
      "[37] \"    java.lang.Thread.run(Thread.java:748)\"                                                                          \n",
      "\n"
     ]
    },
    {
     "ename": "ERROR",
     "evalue": "Error in .h2o.doSafeREST(h2oRestApiVersion = h2oRestApiVersion, urlSuffix = page, : \n\nERROR MESSAGE:\n\nFile data/nm_train_auto.csv does not exist\n\n\n",
     "output_type": "error",
     "traceback": [
      "Error in .h2o.doSafeREST(h2oRestApiVersion = h2oRestApiVersion, urlSuffix = page, : \n\nERROR MESSAGE:\n\nFile data/nm_train_auto.csv does not exist\n\n\nTraceback:\n",
      "1. h2o.importFile(train_filename, parse = TRUE, header = TRUE, sep = \"\", \n .     col.names = NULL, col.types = NULL, na.strings = NULL)",
      "2. h2o.importFolder(path, pattern = \"\", destination_frame = destination_frame, \n .     parse, header, sep, col.names, col.types, na.strings = na.strings, \n .     decrypt_tool = decrypt_tool, skipped_columns = skipped_columns, \n .     custom_non_data_line_markers = custom_non_data_line_markers)",
      "3. .h2o.__remoteSend(.h2o.__IMPORT, path = path, pattern = pattern)",
      "4. .h2o.doSafeREST(h2oRestApiVersion = h2oRestApiVersion, urlSuffix = page, \n .     parms = .params, method = method)",
      "5. stop(msg)"
     ]
    }
   ],
   "source": [
    "train_hex <- h2o.importFile(train_filename, parse = TRUE, header = TRUE, \n",
    "                            sep = \"\", col.names = NULL, col.types = NULL, na.strings = NULL)\n",
    "test_hex <- h2o.importFile(test_filename, parse = TRUE, header = TRUE, \n",
    "                           sep = \"\", col.names = NULL, col.types = NULL, na.strings = NULL)\n",
    "backtest_hex <- h2o.importFile(backtest_filename, parse = TRUE, header = TRUE, \n",
    "                           sep = \"\", col.names = NULL, col.types = NULL, na.strings = NULL)"
   ]
  },
  {
   "cell_type": "markdown",
   "metadata": {},
   "source": [
    "Set a number of configuration parameters for model training"
   ]
  },
  {
   "cell_type": "code",
   "execution_count": null,
   "metadata": {},
   "outputs": [],
   "source": [
    "config_epochs=10000\n",
    "config_hidden=c(5)\n",
    "config_input_dropout_ratio = 0.0\n",
    "config_l1=1.0E-5\n",
    "config_l2=0.001"
   ]
  },
  {
   "cell_type": "markdown",
   "metadata": {},
   "source": [
    "**Tell the model training which of the columns are predictors.**\n",
    "First, let's looK at the top of the dataset again to remind us of the structure..."
   ]
  },
  {
   "cell_type": "code",
   "execution_count": null,
   "metadata": {},
   "outputs": [],
   "source": [
    "head(train_hex)"
   ]
  },
  {
   "cell_type": "markdown",
   "metadata": {},
   "source": [
    "Set the predictor columns and check that they're the right ones"
   ]
  },
  {
   "cell_type": "code",
   "execution_count": null,
   "metadata": {},
   "outputs": [],
   "source": [
    "predictors <- c(2,3,4,5,6,7,8)\n",
    "names(train_hex)[predictors]"
   ]
  },
  {
   "cell_type": "markdown",
   "metadata": {},
   "source": [
    "Tell the model training which of the columns is the target column (in this case, the very last column, mpg)"
   ]
  },
  {
   "cell_type": "code",
   "execution_count": null,
   "metadata": {},
   "outputs": [],
   "source": [
    "targetcol<-ncol(train_hex)\n",
    "names(train_hex)[targetcol]"
   ]
  },
  {
   "cell_type": "markdown",
   "metadata": {},
   "source": [
    "Train the model"
   ]
  },
  {
   "cell_type": "code",
   "execution_count": null,
   "metadata": {},
   "outputs": [],
   "source": [
    "model  <- h2o.deeplearning(\n",
    "    x = predictors,\n",
    "    y = targetcol,\n",
    "    variable_importances=TRUE,\n",
    "    model_id='model_1',\n",
    "    training_frame=train_hex,\n",
    "    validation_frame = test_hex,\n",
    "    quiet_mode=FALSE,\n",
    "    export_weights_and_biases=TRUE,\n",
    "    activation=\"Tanh\",              # Linear outputs\n",
    "    autoencoder=FALSE,\n",
    "    ignore_const_cols=F,\n",
    "    train_samples_per_iteration=0,\n",
    "    stopping_tolerance = 1e-5,\n",
    "    classification_stop = -1,       # Disable automatic stopping\n",
    "    adaptive_rate=F,                # Manaully tuned learning rate\n",
    "    reproducible=T,\n",
    "    epochs=config_epochs,\n",
    "    hidden=config_hidden,\n",
    "    input_dropout_ratio = config_input_dropout_ratio, \n",
    "    l1=config_l1,\n",
    "    l2=config_l2\n",
    "  )"
   ]
  },
  {
   "cell_type": "markdown",
   "metadata": {},
   "source": [
    "##### Plot how the error changed for the train and test set during learning. H2O calls the test set \"Validation\"."
   ]
  },
  {
   "cell_type": "code",
   "execution_count": null,
   "metadata": {},
   "outputs": [],
   "source": [
    "plot(model, timestep=\"epochs\", metric=\"RMSE\")"
   ]
  },
  {
   "cell_type": "markdown",
   "metadata": {},
   "source": [
    "## Model evalution"
   ]
  },
  {
   "cell_type": "markdown",
   "metadata": {},
   "source": [
    "Generate predictions for every row in the backtest set, and create two vectors: one with the truth and one with the prediction"
   ]
  },
  {
   "cell_type": "code",
   "execution_count": null,
   "metadata": {},
   "outputs": [],
   "source": [
    "predictions <- h2o.predict(model, backtest_hex)\n",
    "#actual_column <- as.logical(as.vector(as.numeric(backtest_hex[ ,ncol(backtest_hex)])))\n",
    "actual_column <- as.vector(as.numeric(backtest_hex[targetcol]))\n",
    "predict_column <- as.vector(predictions[ ,'predict'])\n",
    "str(actual_column)\n",
    "str(predict_column)"
   ]
  },
  {
   "cell_type": "markdown",
   "metadata": {},
   "source": [
    "Plot actuals versus predictions to get a visual sense of how well the model did"
   ]
  },
  {
   "cell_type": "code",
   "execution_count": null,
   "metadata": {},
   "outputs": [],
   "source": [
    "plot(actual_column,predict_column)"
   ]
  },
  {
   "cell_type": "markdown",
   "metadata": {},
   "source": [
    "Extract the variable importances from the model and show them in a graph from most important to least important"
   ]
  },
  {
   "cell_type": "code",
   "execution_count": null,
   "metadata": {},
   "outputs": [],
   "source": [
    "x<-model@model\n",
    "vi<-x$variable_importances\n",
    "par(mar=c(5, 12, 5, 5))\n",
    "plotSize<-15\n",
    "cols <- colorRampPalette(brewer.pal(4,\"Dark2\"))(plotSize)\n",
    "barplot(rev(vi$percentage),las=2,main=\"Variable Importances for auto mpg dataset\",\n",
    "                    names.arg=rev(vi$variable),\n",
    "                    horiz=TRUE,cex.names=0.75,col=cols)"
   ]
  },
  {
   "cell_type": "markdown",
   "metadata": {},
   "source": [
    "###### 11. Create the ROC graph along with its AUC"
   ]
  },
  {
   "cell_type": "code",
   "execution_count": null,
   "metadata": {},
   "outputs": [],
   "source": [
    "# Note this is a regression, not a classification problem, so ROC doesn't make sense\n",
    "# Saving the code here so you can use this for a classification model later\n",
    "# \n",
    "#rocp1 <- roc(actual_column, predict_column,\n",
    "#        percent=TRUE,\n",
    "#        plot=TRUE, auc.polygon=TRUE, max.auc.polygon=TRUE, grid=TRUE,\n",
    "#        print.auc=TRUE, show.thres=TRUE, main=\"ROC Graph: Actuals vs. Predictions\")"
   ]
  },
  {
   "cell_type": "markdown",
   "metadata": {},
   "source": [
    "##### Save your trained model. We'll use it later for inference. "
   ]
  },
  {
   "cell_type": "code",
   "execution_count": null,
   "metadata": {},
   "outputs": [],
   "source": [
    "model_filename<-paste0(\"models/\",my_initials,\"_auto_model\")\n",
    "h2o.saveModel(model, model_filename, force=T)"
   ]
  }
 ],
 "metadata": {
  "kernelspec": {
   "display_name": "R",
   "language": "R",
   "name": "ir"
  },
  "language_info": {
   "codemirror_mode": "r",
   "file_extension": ".r",
   "mimetype": "text/x-r-source",
   "name": "R",
   "pygments_lexer": "r",
   "version": "3.6.1"
  }
 },
 "nbformat": 4,
 "nbformat_minor": 4
}
