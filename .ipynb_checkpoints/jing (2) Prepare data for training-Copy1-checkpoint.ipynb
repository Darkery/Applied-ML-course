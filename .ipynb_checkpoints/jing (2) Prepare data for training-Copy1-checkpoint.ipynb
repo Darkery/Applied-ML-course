{
 "cells": [
  {
   "cell_type": "markdown",
   "metadata": {},
   "source": [
    "# Applied Machine Learning\n",
    "## Preparing machine learning data for training\n",
    "- Author: Lorien Pratt\n",
    "- Copyright: Quantellia LLC 2019.  All Rights Reserved"
   ]
  },
  {
   "cell_type": "markdown",
   "metadata": {},
   "source": [
    "The purpose of this notebook is to prepare data for training for machine learning by splitting it into train, test, and backtest.  We start with a single data file, split it into these three pieces, and write it back to disk\n",
    "\n",
    "See https://archive.ics.uci.edu/ml/datasets/auto+mpg for information about the data set used in this demonstration.  It is built for a regression task, to estimate the miles per gallon of a car from its characteristics.  A good attribute description can be found at https://vincentarelbundock.github.io/Rdatasets/doc/ISLR/Auto.html"
   ]
  },
  {
   "cell_type": "markdown",
   "metadata": {},
   "source": [
    "### Setup"
   ]
  },
  {
   "cell_type": "code",
   "execution_count": 13,
   "metadata": {},
   "outputs": [],
   "source": [
    "# Create a variable to distinguish my data and model files from others'\n",
    "# Note that this is done inside of R, not Python, using the   construct which allows me to place\n",
    "# R code on a single line\n",
    "my_initials<-\"nm\""
   ]
  },
  {
   "cell_type": "markdown",
   "metadata": {},
   "source": [
    "### Get the input file with all of the training data in it \n",
    "This is the Auto.MPG data, obtained the UCI repository.  I made a couple of small changes: a) rearranged the columns so the target was on the right and the label was on the left, and b) changed ? (missing data indicator) to just empty fields\n",
    "\n",
    "Note that this uses the *%%R* construct, which supports multi-line R code.  Also note that %  must be in the first row of the cell; you can't have a comment there or anything else."
   ]
  },
  {
   "cell_type": "code",
   "execution_count": 14,
   "metadata": {},
   "outputs": [
    {
     "data": {
      "text/html": [
       "398"
      ],
      "text/latex": [
       "398"
      ],
      "text/markdown": [
       "398"
      ],
      "text/plain": [
       "[1] 398"
      ]
     },
     "metadata": {},
     "output_type": "display_data"
    },
    {
     "data": {
      "text/html": [
       "9"
      ],
      "text/latex": [
       "9"
      ],
      "text/markdown": [
       "9"
      ],
      "text/plain": [
       "[1] 9"
      ]
     },
     "metadata": {},
     "output_type": "display_data"
    },
    {
     "data": {
      "text/html": [
       "<table>\n",
       "<caption>A data.frame: 6 × 9</caption>\n",
       "<thead>\n",
       "\t<tr><th scope=col>car.name</th><th scope=col>cylinders</th><th scope=col>displacement</th><th scope=col>horsepower</th><th scope=col>weight</th><th scope=col>acceleration</th><th scope=col>model.year</th><th scope=col>origin</th><th scope=col>mpg</th></tr>\n",
       "\t<tr><th scope=col>&lt;fct&gt;</th><th scope=col>&lt;int&gt;</th><th scope=col>&lt;dbl&gt;</th><th scope=col>&lt;int&gt;</th><th scope=col>&lt;int&gt;</th><th scope=col>&lt;dbl&gt;</th><th scope=col>&lt;int&gt;</th><th scope=col>&lt;int&gt;</th><th scope=col>&lt;dbl&gt;</th></tr>\n",
       "</thead>\n",
       "<tbody>\n",
       "\t<tr><td>chevrolet chevelle malibu</td><td>8</td><td>307</td><td>130</td><td>3504</td><td>12.0</td><td>70</td><td>1</td><td>18</td></tr>\n",
       "\t<tr><td>buick skylark\t320       </td><td>8</td><td>350</td><td>165</td><td>3693</td><td>11.5</td><td>70</td><td>1</td><td>15</td></tr>\n",
       "\t<tr><td>plymouth satellite       </td><td>8</td><td>318</td><td>150</td><td>3436</td><td>11.0</td><td>70</td><td>1</td><td>18</td></tr>\n",
       "\t<tr><td>amc rebel sst            </td><td>8</td><td>304</td><td>150</td><td>3433</td><td>12.0</td><td>70</td><td>1</td><td>16</td></tr>\n",
       "\t<tr><td>ford torino              </td><td>8</td><td>302</td><td>140</td><td>3449</td><td>10.5</td><td>70</td><td>1</td><td>17</td></tr>\n",
       "\t<tr><td>ford galaxie\t500        </td><td>8</td><td>429</td><td>198</td><td>4341</td><td>10.0</td><td>70</td><td>1</td><td>15</td></tr>\n",
       "</tbody>\n",
       "</table>\n"
      ],
      "text/latex": [
       "A data.frame: 6 × 9\n",
       "\\begin{tabular}{r|lllllllll}\n",
       " car.name & cylinders & displacement & horsepower & weight & acceleration & model.year & origin & mpg\\\\\n",
       " <fct> & <int> & <dbl> & <int> & <int> & <dbl> & <int> & <int> & <dbl>\\\\\n",
       "\\hline\n",
       "\t chevrolet chevelle malibu & 8 & 307 & 130 & 3504 & 12.0 & 70 & 1 & 18\\\\\n",
       "\t buick skylark\t320        & 8 & 350 & 165 & 3693 & 11.5 & 70 & 1 & 15\\\\\n",
       "\t plymouth satellite        & 8 & 318 & 150 & 3436 & 11.0 & 70 & 1 & 18\\\\\n",
       "\t amc rebel sst             & 8 & 304 & 150 & 3433 & 12.0 & 70 & 1 & 16\\\\\n",
       "\t ford torino               & 8 & 302 & 140 & 3449 & 10.5 & 70 & 1 & 17\\\\\n",
       "\t ford galaxie\t500         & 8 & 429 & 198 & 4341 & 10.0 & 70 & 1 & 15\\\\\n",
       "\\end{tabular}\n"
      ],
      "text/markdown": [
       "\n",
       "A data.frame: 6 × 9\n",
       "\n",
       "| car.name &lt;fct&gt; | cylinders &lt;int&gt; | displacement &lt;dbl&gt; | horsepower &lt;int&gt; | weight &lt;int&gt; | acceleration &lt;dbl&gt; | model.year &lt;int&gt; | origin &lt;int&gt; | mpg &lt;dbl&gt; |\n",
       "|---|---|---|---|---|---|---|---|---|\n",
       "| chevrolet chevelle malibu | 8 | 307 | 130 | 3504 | 12.0 | 70 | 1 | 18 |\n",
       "| buick skylark\t320        | 8 | 350 | 165 | 3693 | 11.5 | 70 | 1 | 15 |\n",
       "| plymouth satellite        | 8 | 318 | 150 | 3436 | 11.0 | 70 | 1 | 18 |\n",
       "| amc rebel sst             | 8 | 304 | 150 | 3433 | 12.0 | 70 | 1 | 16 |\n",
       "| ford torino               | 8 | 302 | 140 | 3449 | 10.5 | 70 | 1 | 17 |\n",
       "| ford galaxie\t500         | 8 | 429 | 198 | 4341 | 10.0 | 70 | 1 | 15 |\n",
       "\n"
      ],
      "text/plain": [
       "  car.name                  cylinders displacement horsepower weight\n",
       "1 chevrolet chevelle malibu 8         307          130        3504  \n",
       "2 buick skylark\\t320        8         350          165        3693  \n",
       "3 plymouth satellite        8         318          150        3436  \n",
       "4 amc rebel sst             8         304          150        3433  \n",
       "5 ford torino               8         302          140        3449  \n",
       "6 ford galaxie\\t500         8         429          198        4341  \n",
       "  acceleration model.year origin mpg\n",
       "1 12.0         70         1      18 \n",
       "2 11.5         70         1      15 \n",
       "3 11.0         70         1      18 \n",
       "4 12.0         70         1      16 \n",
       "5 10.5         70         1      17 \n",
       "6 10.0         70         1      15 "
      ]
     },
     "metadata": {},
     "output_type": "display_data"
    }
   ],
   "source": [
    "auto <- read.csv(\"data/auto-mpg.csv\", header=T)\n",
    "nrow(auto)\n",
    "ncol(auto)\n",
    "head(auto)"
   ]
  },
  {
   "cell_type": "markdown",
   "metadata": {},
   "source": [
    "The data is in this format, with prediction columns to the left, and the target column is the rightmost one"
   ]
  },
  {
   "cell_type": "markdown",
   "metadata": {},
   "source": [
    "<img src=\"img/target_column.png\" style=\"width:200px;float:left;\">"
   ]
  },
  {
   "cell_type": "markdown",
   "metadata": {},
   "source": [
    "Examine various columns of the data to determine their values and range. (This was used to build the UI.)"
   ]
  },
  {
   "cell_type": "code",
   "execution_count": 15,
   "metadata": {},
   "outputs": [
    {
     "name": "stdout",
     "output_type": "stream",
     "text": [
      "   Min. 1st Qu.  Median    Mean 3rd Qu.    Max. \n",
      "   9.00   17.50   23.00   23.51   29.00   46.60 \n",
      "   Min. 1st Qu.  Median    Mean 3rd Qu.    Max. \n",
      "  3.000   4.000   4.000   5.455   8.000   8.000 \n",
      "   Min. 1st Qu.  Median    Mean 3rd Qu.    Max. \n",
      "   68.0   104.2   148.5   193.4   262.0   455.0 \n",
      "   Min. 1st Qu.  Median    Mean 3rd Qu.    Max.    NA's \n",
      "   46.0    75.0    93.5   104.5   126.0   230.0       6 \n",
      "   Min. 1st Qu.  Median    Mean 3rd Qu.    Max. \n",
      "   1613    2224    2804    2970    3608    5140 \n",
      "   Min. 1st Qu.  Median    Mean 3rd Qu.    Max. \n",
      "   8.00   13.82   15.50   15.57   17.18   24.80 \n",
      "   Min. 1st Qu.  Median    Mean 3rd Qu.    Max. \n",
      "  70.00   73.00   76.00   76.01   79.00   82.00 \n",
      "   Min. 1st Qu.  Median    Mean 3rd Qu.    Max. \n",
      "  1.000   1.000   1.000   1.573   2.000   3.000 \n"
     ]
    }
   ],
   "source": [
    "print(summary(auto$mpg))\n",
    "# Analysis for purpose of sliders for inference input:\n",
    "print(summary(auto$cylinders)) # we'll call this 3-8 on an integer range\n",
    "print(summary(auto$displacement)) # we'll call this 0 - 500 on an integer range\n",
    "print(summary(auto$horsepower)) # we'll call this 0 - 500 on an integer range\n",
    "print(summary(auto$weight)) # we'll call this 1000 - 10000 on an integer range\n",
    "print(summary(auto$acceleration)) # we'll call this 0-100 on a float range\n",
    "print(summary(auto$model.year)) # we'll call this 60-90 on an integer range\n",
    "print(summary(auto$origin)) # we'll call this 1,2,3 on an integer range"
   ]
  },
  {
   "cell_type": "markdown",
   "metadata": {},
   "source": [
    "## Split the dataset in preparation for machine learning\n",
    "We need to train the machine learning model and then test it on new data. This is called backtesting. And during training, ML needs a training file and a testing file.\n",
    "\n",
    "So we need to split the input file into three files.\n",
    "\n",
    "<img src=\"img/split_files.png\" style=\"width:500px;float:left;\">"
   ]
  },
  {
   "cell_type": "markdown",
   "metadata": {},
   "source": [
    "First sort the dataset randomly so if the data has any sorting to it, that's lost in the train/test/backtest split"
   ]
  },
  {
   "cell_type": "code",
   "execution_count": 16,
   "metadata": {},
   "outputs": [],
   "source": [
    "auto_random <- auto[sample(nrow(auto)),]"
   ]
  },
  {
   "cell_type": "markdown",
   "metadata": {},
   "source": [
    "Split the file into a training set (50% of the total), a test file (20% of the total), and a backtest (30% of the total). Use R construct *sample* to create the three splits of the right proportions"
   ]
  },
  {
   "cell_type": "code",
   "execution_count": 17,
   "metadata": {},
   "outputs": [],
   "source": [
    "set.seed(7) # Do this so we can reproduce these results by using the same seed next time if we wish\n",
    "sample_set <- sample(1:3,size=nrow(auto_random),replace=TRUE,prob=c(0.5,0.2,0.3))\n",
    "train <- auto_random[sample_set==1,]\n",
    "test <- auto_random[sample_set==2,]\n",
    "backtest <- auto_random[sample_set==3,]"
   ]
  },
  {
   "cell_type": "markdown",
   "metadata": {},
   "source": [
    "Look at each file's number of rows and first 5 rows to check that it looks right"
   ]
  },
  {
   "cell_type": "code",
   "execution_count": 18,
   "metadata": {},
   "outputs": [
    {
     "name": "stdout",
     "output_type": "stream",
     "text": [
      "[1] \"Number of rows in the training file: 193\"\n",
      "                    car.name cylinders displacement horsepower weight\n",
      "291 ford country squire (sw)         8          351        142   4054\n",
      "126          plymouth duster         6          198         95   3102\n",
      "181               saab\\t99le         4          121        115   2671\n",
      "    acceleration model.year origin  mpg\n",
      "291         14.3         79      1 15.5\n",
      "126         16.5         74      1 20.0\n",
      "181         13.5         75      2 25.0\n"
     ]
    }
   ],
   "source": [
    "print(paste('Number of rows in the training file:', nrow(train)))  # Note that paste0 can't handle a space at the end\n",
    "print(head(train,3))"
   ]
  },
  {
   "cell_type": "code",
   "execution_count": 19,
   "metadata": {},
   "outputs": [
    {
     "name": "stdout",
     "output_type": "stream",
     "text": [
      "[1] \"Number of rows in the testing file: 78\"\n",
      "                     car.name cylinders displacement horsepower weight\n",
      "385        honda civic (auto)         4           91         67   1965\n",
      "1   chevrolet chevelle malibu         8          307        130   3504\n",
      "119                opel manta         4          116         75   2158\n",
      "    acceleration model.year origin mpg\n",
      "385         15.7         82      3  32\n",
      "1           12.0         70      1  18\n",
      "119         15.5         73      2  24\n"
     ]
    }
   ],
   "source": [
    "print(paste('Number of rows in the testing file:', nrow(test)))  # Note that paste0 can't handle a space at the end\n",
    "print(head(test,3))"
   ]
  },
  {
   "cell_type": "code",
   "execution_count": 20,
   "metadata": {},
   "outputs": [
    {
     "name": "stdout",
     "output_type": "stream",
     "text": [
      "[1] \"Number of rows in the backtesting file: 127\"\n",
      "                      car.name cylinders displacement horsepower weight\n",
      "335              mazda rx-7 gs         3           70        100   2420\n",
      "363         datsun\\t810 maxima         6          146        120   2930\n",
      "370 chevrolet cavalier\\t2-door         4          112         88   2395\n",
      "    acceleration model.year origin  mpg\n",
      "335         12.5         80      3 23.7\n",
      "363         13.8         81      3 24.2\n",
      "370         18.0         82      1 34.0\n"
     ]
    }
   ],
   "source": [
    "print(paste('Number of rows in the backtesting file:', nrow(backtest)))  \n",
    "print(head(backtest,3))"
   ]
  },
  {
   "cell_type": "markdown",
   "metadata": {},
   "source": [
    "Save the files in the data directory. Uses your initials to distinguish each one"
   ]
  },
  {
   "cell_type": "code",
   "execution_count": 21,
   "metadata": {},
   "outputs": [
    {
     "name": "stdout",
     "output_type": "stream",
     "text": [
      "[1] \"data/nm_train_auto.csv\"\n",
      "[1] \"data/nm_test_auto.csv\"\n",
      "[1] \"data/nm_backtest_auto.csv\"\n"
     ]
    }
   ],
   "source": [
    "train_filename<-paste0(\"data/\",my_initials,\"_train_auto.csv\"); print( train_filename )\n",
    "test_filename<-paste0(\"data/\",my_initials,\"_test_auto.csv\"); print( test_filename )\n",
    "backtest_filename<-paste0(\"data/\",my_initials,\"_backtest_auto.csv\"); print( backtest_filename )"
   ]
  },
  {
   "cell_type": "markdown",
   "metadata": {},
   "source": [
    "Save the three files in the data directory"
   ]
  },
  {
   "cell_type": "code",
   "execution_count": 22,
   "metadata": {},
   "outputs": [],
   "source": [
    "write.csv(train, file = train_filename, row.names=FALSE)\n",
    "write.csv(test, file = test_filename, row.names=FALSE)\n",
    "write.csv(backtest, file = backtest_filename, row.names=FALSE)"
   ]
  }
 ],
 "metadata": {
  "kernelspec": {
   "display_name": "R",
   "language": "R",
   "name": "ir"
  },
  "language_info": {
   "codemirror_mode": "r",
   "file_extension": ".r",
   "mimetype": "text/x-r-source",
   "name": "R",
   "pygments_lexer": "r",
   "version": "3.6.1"
  }
 },
 "nbformat": 4,
 "nbformat_minor": 4
}
