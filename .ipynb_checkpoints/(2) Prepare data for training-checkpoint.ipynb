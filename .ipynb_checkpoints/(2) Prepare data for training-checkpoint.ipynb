{
 "cells": [
  {
   "cell_type": "markdown",
   "metadata": {},
   "source": [
    "# Applied Machine Learning\n",
    "## Preparing machine learning data for training\n",
    "- Author: Lorien Pratt\n",
    "- Copyright: Quantellia LLC 2019.  All Rights Reserved"
   ]
  },
  {
   "cell_type": "markdown",
   "metadata": {},
   "source": [
    "The purpose of this notebook is to prepare data for training for machine learning by splitting it into train, test, and backtest.  We start with a single data file, split it into these three pieces, and write it back to disk\n",
    "\n",
    "See https://archive.ics.uci.edu/ml/datasets/auto+mpg for information about the data set used in this demonstration.  It is built for a regression task, to estimate the miles per gallon of a car from its characteristics.  A good attribute description can be found at https://vincentarelbundock.github.io/Rdatasets/doc/ISLR/Auto.html"
   ]
  },
  {
   "cell_type": "markdown",
   "metadata": {},
   "source": [
    "### Setup"
   ]
  },
  {
   "cell_type": "code",
   "execution_count": 1,
   "metadata": {},
   "outputs": [],
   "source": [
    "# Create a variable to distinguish my data and model files from others'\n",
    "# Note that this is done inside of R, not Python, using the   construct which allows me to place\n",
    "# R code on a single line\n",
    "my_initials<-\"nm\""
   ]
  },
  {
   "cell_type": "markdown",
   "metadata": {},
   "source": [
    "### Get the input file with all of the training data in it \n",
    "This is the Auto.MPG data, obtained the UCI repository.  I made a couple of small changes: a) rearranged the columns so the target was on the right and the label was on the left, and b) changed ? (missing data indicator) to just empty fields\n",
    "\n",
    "Note that this uses the *%%R* construct, which supports multi-line R code.  Also note that %  must be in the first row of the cell; you can't have a comment there or anything else."
   ]
  },
  {
   "cell_type": "code",
   "execution_count": 2,
   "metadata": {},
   "outputs": [
    {
     "name": "stderr",
     "output_type": "stream",
     "text": [
      "Warning message in file(file, \"rt\"):\n",
      "“cannot open file 'data/auto-mpg.csv': No such file or directory”"
     ]
    },
    {
     "ename": "ERROR",
     "evalue": "Error in file(file, \"rt\"): cannot open the connection\n",
     "output_type": "error",
     "traceback": [
      "Error in file(file, \"rt\"): cannot open the connection\nTraceback:\n",
      "1. read.csv(\"data/auto-mpg.csv\", header = T)",
      "2. read.table(file = file, header = header, sep = sep, quote = quote, \n .     dec = dec, fill = fill, comment.char = comment.char, ...)",
      "3. file(file, \"rt\")"
     ]
    }
   ],
   "source": [
    "auto <- read.csv(\"data/auto-mpg.csv\", header=T)\n",
    "nrow(auto)\n",
    "ncol(auto)\n",
    "head(auto)"
   ]
  },
  {
   "cell_type": "markdown",
   "metadata": {},
   "source": [
    "The data is in this format, with prediction columns to the left, and the target column is the rightmost one"
   ]
  },
  {
   "cell_type": "markdown",
   "metadata": {},
   "source": [
    "<img src=\"img/target_column.png\" style=\"width:200px;float:left;\">"
   ]
  },
  {
   "cell_type": "markdown",
   "metadata": {},
   "source": [
    "Examine various columns of the data to determine their values and range. (This was used to build the UI.)"
   ]
  },
  {
   "cell_type": "code",
   "execution_count": 3,
   "metadata": {},
   "outputs": [
    {
     "name": "stdout",
     "output_type": "stream",
     "text": [
      "   Min. 1st Qu.  Median    Mean 3rd Qu.    Max. \n",
      "   9.00   17.50   23.00   23.51   29.00   46.60 \n",
      "   Min. 1st Qu.  Median    Mean 3rd Qu.    Max. \n",
      "  3.000   4.000   4.000   5.455   8.000   8.000 \n",
      "   Min. 1st Qu.  Median    Mean 3rd Qu.    Max. \n",
      "   68.0   104.2   148.5   193.4   262.0   455.0 \n",
      "   Min. 1st Qu.  Median    Mean 3rd Qu.    Max.    NA's \n",
      "   46.0    75.0    93.5   104.5   126.0   230.0       6 \n",
      "   Min. 1st Qu.  Median    Mean 3rd Qu.    Max. \n",
      "   1613    2224    2804    2970    3608    5140 \n",
      "   Min. 1st Qu.  Median    Mean 3rd Qu.    Max. \n",
      "   8.00   13.82   15.50   15.57   17.18   24.80 \n",
      "   Min. 1st Qu.  Median    Mean 3rd Qu.    Max. \n",
      "  70.00   73.00   76.00   76.01   79.00   82.00 \n",
      "   Min. 1st Qu.  Median    Mean 3rd Qu.    Max. \n",
      "  1.000   1.000   1.000   1.573   2.000   3.000 \n"
     ]
    }
   ],
   "source": [
    "print(summary(auto$mpg))\n",
    "# Analysis for purpose of sliders for inference input:\n",
    "print(summary(auto$cylinders)) # we'll call this 3-8 on an integer range\n",
    "print(summary(auto$displacement)) # we'll call this 0 - 500 on an integer range\n",
    "print(summary(auto$horsepower)) # we'll call this 0 - 500 on an integer range\n",
    "print(summary(auto$weight)) # we'll call this 1000 - 10000 on an integer range\n",
    "print(summary(auto$acceleration)) # we'll call this 0-100 on a float range\n",
    "print(summary(auto$model.year)) # we'll call this 60-90 on an integer range\n",
    "print(summary(auto$origin)) # we'll call this 1,2,3 on an integer range"
   ]
  },
  {
   "cell_type": "markdown",
   "metadata": {},
   "source": [
    "## Split the dataset in preparation for machine learning\n",
    "We need to train the machine learning model and then test it on new data. This is called backtesting. And during training, ML needs a training file and a testing file.\n",
    "\n",
    "So we need to split the input file into three files.\n",
    "\n",
    "<img src=\"img/split_files.png\" style=\"width:500px;float:left;\">"
   ]
  },
  {
   "cell_type": "markdown",
   "metadata": {},
   "source": [
    "First sort the dataset randomly so if the data has any sorting to it, that's lost in the train/test/backtest split"
   ]
  },
  {
   "cell_type": "code",
   "execution_count": 4,
   "metadata": {},
   "outputs": [],
   "source": [
    "auto_random <- auto[sample(nrow(auto)),]"
   ]
  },
  {
   "cell_type": "markdown",
   "metadata": {},
   "source": [
    "Split the file into a training set (50% of the total), a test file (20% of the total), and a backtest (30% of the total). Use R construct *sample* to create the three splits of the right proportions"
   ]
  },
  {
   "cell_type": "code",
   "execution_count": 5,
   "metadata": {},
   "outputs": [],
   "source": [
    "set.seed(7) # Do this so we can reproduce these results by using the same seed next time if we wish\n",
    "sample_set <- sample(1:3,size=nrow(auto_random),replace=TRUE,prob=c(0.5,0.2,0.3))\n",
    "train <- auto_random[sample_set==1,]\n",
    "test <- auto_random[sample_set==2,]\n",
    "backtest <- auto_random[sample_set==3,]"
   ]
  },
  {
   "cell_type": "markdown",
   "metadata": {},
   "source": [
    "Look at each file's number of rows and first 5 rows to check that it looks right"
   ]
  },
  {
   "cell_type": "code",
   "execution_count": 6,
   "metadata": {},
   "outputs": [
    {
     "name": "stdout",
     "output_type": "stream",
     "text": [
      "[1] \"Number of rows in the training file: 193\"\n",
      "                             car.name cylinders displacement horsepower weight\n",
      "134 chevrolet chevelle malibu classic         6          250        100   3781\n",
      "374              ford fairmont futura         4          140         92   2865\n",
      "290           buick estate wagon (sw)         8          350        155   4360\n",
      "    acceleration model.year origin  mpg\n",
      "134         17.0         74      1 16.0\n",
      "374         16.4         82      1 24.0\n",
      "290         14.9         79      1 16.9\n"
     ]
    }
   ],
   "source": [
    "print(paste('Number of rows in the training file:', nrow(train)))  # Note that paste0 can't handle a space at the end\n",
    "print(head(train,3))"
   ]
  },
  {
   "cell_type": "code",
   "execution_count": 7,
   "metadata": {},
   "outputs": [
    {
     "name": "stdout",
     "output_type": "stream",
     "text": [
      "[1] \"Number of rows in the testing file: 78\"\n",
      "                car.name cylinders displacement horsepower weight acceleration\n",
      "90  dodge coronet custom         8          318        150   3777         12.5\n",
      "357       toyota corolla         4          108         75   2350         16.8\n",
      "82      datsun\\t510 (sw)         4           97         92   2288         17.0\n",
      "    model.year origin  mpg\n",
      "90          73      1 15.0\n",
      "357         81      3 32.4\n",
      "82          72      3 28.0\n"
     ]
    }
   ],
   "source": [
    "print(paste('Number of rows in the testing file:', nrow(test)))  # Note that paste0 can't handle a space at the end\n",
    "print(head(test,3))"
   ]
  },
  {
   "cell_type": "code",
   "execution_count": 8,
   "metadata": {},
   "outputs": [
    {
     "name": "stdout",
     "output_type": "stream",
     "text": [
      "[1] \"Number of rows in the backtesting file: 127\"\n",
      "                           car.name cylinders displacement horsepower weight\n",
      "179                    peugeot\\t504         4          120         88   2957\n",
      "264 buick regal sport coupe (turbo)         6          231        165   3445\n",
      "142                        audi fox         4           98         83   2219\n",
      "    acceleration model.year origin  mpg\n",
      "179         17.0         75      2 23.0\n",
      "264         13.4         78      1 17.7\n",
      "142         16.5         74      2 29.0\n"
     ]
    }
   ],
   "source": [
    "print(paste('Number of rows in the backtesting file:', nrow(backtest)))  \n",
    "print(head(backtest,3))"
   ]
  },
  {
   "cell_type": "markdown",
   "metadata": {},
   "source": [
    "Save the files in the data directory. Uses your initials to distinguish each one"
   ]
  },
  {
   "cell_type": "code",
   "execution_count": 9,
   "metadata": {},
   "outputs": [
    {
     "name": "stdout",
     "output_type": "stream",
     "text": [
      "[1] \"data/nm_train_auto.csv\"\n",
      "[1] \"data/nm_test_auto.csv\"\n",
      "[1] \"data/nm_backtest_auto.csv\"\n"
     ]
    }
   ],
   "source": [
    "train_filename<-paste0(\"data/\",my_initials,\"_train_auto.csv\"); print( train_filename )\n",
    "test_filename<-paste0(\"data/\",my_initials,\"_test_auto.csv\"); print( test_filename )\n",
    "backtest_filename<-paste0(\"data/\",my_initials,\"_backtest_auto.csv\"); print( backtest_filename )"
   ]
  },
  {
   "cell_type": "markdown",
   "metadata": {},
   "source": [
    "Save the three files in the data directory"
   ]
  },
  {
   "cell_type": "code",
   "execution_count": 10,
   "metadata": {},
   "outputs": [],
   "source": [
    "write.csv(train, file = train_filename, row.names=FALSE)\n",
    "write.csv(test, file = test_filename, row.names=FALSE)\n",
    "write.csv(backtest, file = backtest_filename, row.names=FALSE)"
   ]
  }
 ],
 "metadata": {
  "kernelspec": {
   "display_name": "R",
   "language": "R",
   "name": "ir"
  },
  "language_info": {
   "codemirror_mode": "r",
   "file_extension": ".r",
   "mimetype": "text/x-r-source",
   "name": "R",
   "pygments_lexer": "r",
   "version": "3.6.1"
  }
 },
 "nbformat": 4,
 "nbformat_minor": 4
}
