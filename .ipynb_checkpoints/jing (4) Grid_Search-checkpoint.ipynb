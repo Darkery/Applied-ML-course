{
 "cells": [
  {
   "cell_type": "markdown",
   "metadata": {},
   "source": [
    "# Applied Machine Learning\n",
    "## Grid search to determine the best training parameters\n",
    "- Author: Lorien Pratt\n",
    "- Copyright: Quantellia LLC 2019.  All Rights Reserved"
   ]
  },
  {
   "cell_type": "markdown",
   "metadata": {},
   "source": [
    "Grid search does many model runs to find which one produces the best result after a few epochs (assuming that this is a good proxy for the final learning performance, which may or may not be true).\n",
    "\n",
    "Grid search explores multiple network architectures (number of layers, number of hidden units per layer) and other learning parameters. "
   ]
  },
  {
   "cell_type": "markdown",
   "metadata": {},
   "source": [
    "## Setup"
   ]
  },
  {
   "cell_type": "code",
   "execution_count": 12,
   "metadata": {},
   "outputs": [],
   "source": [
    "# Set up to be able to invoke R from inside this Python 2 notebook\n",
    "#%load_ext rpy2.ipython\n",
    "#import rpy2.rinterface"
   ]
  },
  {
   "cell_type": "markdown",
   "metadata": {},
   "source": [
    "##### Install and initialize the H2O library, which we will use to do the grid search\n",
    "Note that this will generate a lot of warnings. These are expected, and not errors but rather notifications"
   ]
  },
  {
   "cell_type": "code",
   "execution_count": 13,
   "metadata": {},
   "outputs": [
    {
     "name": "stdout",
     "output_type": "stream",
     "text": [
      " Connection successful!\n",
      "\n",
      "R is connected to the H2O cluster: \n",
      "    H2O cluster uptime:         23 hours 4 seconds \n",
      "    H2O cluster timezone:       Etc/UTC \n",
      "    H2O data parsing timezone:  UTC \n",
      "    H2O cluster version:        3.26.0.10 \n",
      "    H2O cluster version age:    4 days  \n",
      "    H2O cluster name:           H2O_started_from_R_jupyter_cif027 \n",
      "    H2O cluster total nodes:    1 \n",
      "    H2O cluster total memory:   3.09 GB \n",
      "    H2O cluster total cores:    4 \n",
      "    H2O cluster allowed cores:  4 \n",
      "    H2O cluster healthy:        TRUE \n",
      "    H2O Connection ip:          localhost \n",
      "    H2O Connection port:        54321 \n",
      "    H2O Connection proxy:       NA \n",
      "    H2O Internal Security:      FALSE \n",
      "    H2O API Extensions:         Amazon S3, XGBoost, Algos, AutoML, Core V3, TargetEncoder, Core V4 \n",
      "    R Version:                  R version 3.6.1 (2019-07-05) \n",
      "\n"
     ]
    }
   ],
   "source": [
    "require(h2o)\n",
    "h2o.init()\n",
    "h2o.no_progress() # Turns off progress bars, which don't display well in Jupyter"
   ]
  },
  {
   "cell_type": "markdown",
   "metadata": {},
   "source": [
    "Set up my initials for file names"
   ]
  },
  {
   "cell_type": "code",
   "execution_count": 14,
   "metadata": {},
   "outputs": [],
   "source": [
    "my_initials<-\"nm\""
   ]
  },
  {
   "cell_type": "markdown",
   "metadata": {},
   "source": [
    "Read in the test and training files that we created in the Prepare Data lesson, and convert them to h2o's internal \"hex\" format"
   ]
  },
  {
   "cell_type": "code",
   "execution_count": 15,
   "metadata": {},
   "outputs": [
    {
     "name": "stdout",
     "output_type": "stream",
     "text": [
      "[1] \"data/nm_train_auto.csv\"\n",
      "[1] \"data/nm_test_auto.csv\"\n",
      "[1] \"data/nm_backtest_auto.csv\"\n"
     ]
    }
   ],
   "source": [
    "train_filename<-paste0(\"data/\",my_initials,\"_train_auto.csv\"); print( train_filename )\n",
    "test_filename<-paste0(\"data/\",my_initials,\"_test_auto.csv\"); print( test_filename )\n",
    "backtest_filename<-paste0(\"data/\",my_initials,\"_backtest_auto.csv\"); print( backtest_filename )"
   ]
  },
  {
   "cell_type": "markdown",
   "metadata": {},
   "source": [
    "Read in the test and training files you created in the previous step. Convert them to h2o files along the way."
   ]
  },
  {
   "cell_type": "code",
   "execution_count": null,
   "metadata": {},
   "outputs": [],
   "source": [
    "train_hex <- h2o.importFile(train_filename, parse = TRUE, header = TRUE, \n",
    "                            sep = \"\", col.names = NULL, col.types = NULL, na.strings = NULL)\n",
    "test_hex <- h2o.importFile(test_filename, parse = TRUE, header = TRUE, \n",
    "                           sep = \"\", col.names = NULL, col.types = NULL, na.strings = NULL)"
   ]
  },
  {
   "cell_type": "markdown",
   "metadata": {},
   "source": [
    "Tell the grid search which of the columns are predictors.  First, let's look at the top of the dataset again to remind us of the structure..."
   ]
  },
  {
   "cell_type": "code",
   "execution_count": 6,
   "metadata": {},
   "outputs": [
    {
     "data": {
      "text/html": [
       "<table>\n",
       "<caption>A data.frame: 6 × 9</caption>\n",
       "<thead>\n",
       "\t<tr><th scope=col>car.name</th><th scope=col>cylinders</th><th scope=col>displacement</th><th scope=col>horsepower</th><th scope=col>weight</th><th scope=col>acceleration</th><th scope=col>model.year</th><th scope=col>origin</th><th scope=col>mpg</th></tr>\n",
       "\t<tr><th scope=col>&lt;fct&gt;</th><th scope=col>&lt;dbl&gt;</th><th scope=col>&lt;dbl&gt;</th><th scope=col>&lt;dbl&gt;</th><th scope=col>&lt;dbl&gt;</th><th scope=col>&lt;dbl&gt;</th><th scope=col>&lt;dbl&gt;</th><th scope=col>&lt;dbl&gt;</th><th scope=col>&lt;dbl&gt;</th></tr>\n",
       "</thead>\n",
       "<tbody>\n",
       "\t<tr><td>chevroelt chevelle malibu        </td><td>6</td><td>250</td><td>105</td><td>3897</td><td>18.5</td><td>75</td><td>1</td><td>16.0</td></tr>\n",
       "\t<tr><td>oldsmobile cutlass salon brougham</td><td>8</td><td>260</td><td> 90</td><td>3420</td><td>22.2</td><td>79</td><td>1</td><td>23.9</td></tr>\n",
       "\t<tr><td>plymouth reliant                 </td><td>4</td><td>135</td><td> 84</td><td>2385</td><td>12.9</td><td>81</td><td>1</td><td>30.0</td></tr>\n",
       "\t<tr><td>audi\t5000                       </td><td>5</td><td>131</td><td>103</td><td>2830</td><td>15.9</td><td>78</td><td>2</td><td>20.3</td></tr>\n",
       "\t<tr><td>oldsmobile omega brougham        </td><td>6</td><td>173</td><td>115</td><td>2700</td><td>12.9</td><td>79</td><td>1</td><td>26.8</td></tr>\n",
       "\t<tr><td>plymouth fury iii                </td><td>8</td><td>318</td><td>150</td><td>4096</td><td>13.0</td><td>71</td><td>1</td><td>14.0</td></tr>\n",
       "</tbody>\n",
       "</table>\n"
      ],
      "text/latex": [
       "A data.frame: 6 × 9\n",
       "\\begin{tabular}{r|lllllllll}\n",
       " car.name & cylinders & displacement & horsepower & weight & acceleration & model.year & origin & mpg\\\\\n",
       " <fct> & <dbl> & <dbl> & <dbl> & <dbl> & <dbl> & <dbl> & <dbl> & <dbl>\\\\\n",
       "\\hline\n",
       "\t chevroelt chevelle malibu         & 6 & 250 & 105 & 3897 & 18.5 & 75 & 1 & 16.0\\\\\n",
       "\t oldsmobile cutlass salon brougham & 8 & 260 &  90 & 3420 & 22.2 & 79 & 1 & 23.9\\\\\n",
       "\t plymouth reliant                  & 4 & 135 &  84 & 2385 & 12.9 & 81 & 1 & 30.0\\\\\n",
       "\t audi\t5000                        & 5 & 131 & 103 & 2830 & 15.9 & 78 & 2 & 20.3\\\\\n",
       "\t oldsmobile omega brougham         & 6 & 173 & 115 & 2700 & 12.9 & 79 & 1 & 26.8\\\\\n",
       "\t plymouth fury iii                 & 8 & 318 & 150 & 4096 & 13.0 & 71 & 1 & 14.0\\\\\n",
       "\\end{tabular}\n"
      ],
      "text/markdown": [
       "\n",
       "A data.frame: 6 × 9\n",
       "\n",
       "| car.name &lt;fct&gt; | cylinders &lt;dbl&gt; | displacement &lt;dbl&gt; | horsepower &lt;dbl&gt; | weight &lt;dbl&gt; | acceleration &lt;dbl&gt; | model.year &lt;dbl&gt; | origin &lt;dbl&gt; | mpg &lt;dbl&gt; |\n",
       "|---|---|---|---|---|---|---|---|---|\n",
       "| chevroelt chevelle malibu         | 6 | 250 | 105 | 3897 | 18.5 | 75 | 1 | 16.0 |\n",
       "| oldsmobile cutlass salon brougham | 8 | 260 |  90 | 3420 | 22.2 | 79 | 1 | 23.9 |\n",
       "| plymouth reliant                  | 4 | 135 |  84 | 2385 | 12.9 | 81 | 1 | 30.0 |\n",
       "| audi\t5000                        | 5 | 131 | 103 | 2830 | 15.9 | 78 | 2 | 20.3 |\n",
       "| oldsmobile omega brougham         | 6 | 173 | 115 | 2700 | 12.9 | 79 | 1 | 26.8 |\n",
       "| plymouth fury iii                 | 8 | 318 | 150 | 4096 | 13.0 | 71 | 1 | 14.0 |\n",
       "\n"
      ],
      "text/plain": [
       "  car.name                          cylinders displacement horsepower weight\n",
       "1 chevroelt chevelle malibu         6         250          105        3897  \n",
       "2 oldsmobile cutlass salon brougham 8         260           90        3420  \n",
       "3 plymouth reliant                  4         135           84        2385  \n",
       "4 audi\\t5000                        5         131          103        2830  \n",
       "5 oldsmobile omega brougham         6         173          115        2700  \n",
       "6 plymouth fury iii                 8         318          150        4096  \n",
       "  acceleration model.year origin mpg \n",
       "1 18.5         75         1      16.0\n",
       "2 22.2         79         1      23.9\n",
       "3 12.9         81         1      30.0\n",
       "4 15.9         78         2      20.3\n",
       "5 12.9         79         1      26.8\n",
       "6 13.0         71         1      14.0"
      ]
     },
     "metadata": {},
     "output_type": "display_data"
    }
   ],
   "source": [
    "head(train_hex)"
   ]
  },
  {
   "cell_type": "markdown",
   "metadata": {},
   "source": [
    "Set the predictor columns and chec that they're the right ones"
   ]
  },
  {
   "cell_type": "code",
   "execution_count": 7,
   "metadata": {},
   "outputs": [
    {
     "data": {
      "text/html": [
       "<ol class=list-inline>\n",
       "\t<li>'cylinders'</li>\n",
       "\t<li>'displacement'</li>\n",
       "\t<li>'horsepower'</li>\n",
       "\t<li>'weight'</li>\n",
       "\t<li>'acceleration'</li>\n",
       "\t<li>'model.year'</li>\n",
       "\t<li>'origin'</li>\n",
       "</ol>\n"
      ],
      "text/latex": [
       "\\begin{enumerate*}\n",
       "\\item 'cylinders'\n",
       "\\item 'displacement'\n",
       "\\item 'horsepower'\n",
       "\\item 'weight'\n",
       "\\item 'acceleration'\n",
       "\\item 'model.year'\n",
       "\\item 'origin'\n",
       "\\end{enumerate*}\n"
      ],
      "text/markdown": [
       "1. 'cylinders'\n",
       "2. 'displacement'\n",
       "3. 'horsepower'\n",
       "4. 'weight'\n",
       "5. 'acceleration'\n",
       "6. 'model.year'\n",
       "7. 'origin'\n",
       "\n",
       "\n"
      ],
      "text/plain": [
       "[1] \"cylinders\"    \"displacement\" \"horsepower\"   \"weight\"       \"acceleration\"\n",
       "[6] \"model.year\"   \"origin\"      "
      ]
     },
     "metadata": {},
     "output_type": "display_data"
    }
   ],
   "source": [
    "predictors <- c(2,3,4,5,6,7,8)\n",
    "names(train_hex)[predictors]"
   ]
  },
  {
   "cell_type": "markdown",
   "metadata": {},
   "source": [
    "Tell the model training which of the columns is the target column (in this case, the very last column, mpg)"
   ]
  },
  {
   "cell_type": "code",
   "execution_count": 8,
   "metadata": {},
   "outputs": [],
   "source": [
    "targetcol<-ncol(train_hex)"
   ]
  },
  {
   "cell_type": "markdown",
   "metadata": {},
   "source": [
    "Tell the grid search which of the columns are predictors.  First, let's loo at the top of the dataset again to remind us of the structure..."
   ]
  },
  {
   "cell_type": "markdown",
   "metadata": {},
   "source": [
    "Create a set of grid search *hyperparameters* .  These are the alternative structures we'll try to see which one\n",
    "creates the best results after running the speciied number of epochs"
   ]
  },
  {
   "cell_type": "code",
   "execution_count": 9,
   "metadata": {},
   "outputs": [],
   "source": [
    "hyper_params <- list(\n",
    "    hidden=list(1, 5, 10, c(5,5), c(10,10,10)),\n",
    "    l1=c(0, .01, .00001),\n",
    "    l2=c(0, .01, 0.001, .00001),\n",
    "    input_dropout_ratio=c(0, .01, .0001),\n",
    "    epochs=c(100)\n",
    ")"
   ]
  },
  {
   "cell_type": "markdown",
   "metadata": {},
   "source": [
    "Run the grid test with these parameters.  This can take a little while, during which there will be no feedback."
   ]
  },
  {
   "cell_type": "code",
   "execution_count": 10,
   "metadata": {},
   "outputs": [],
   "source": [
    "grid_result <- h2o.grid(\n",
    "    algorithm=\"deeplearning\",\n",
    "    x=predictors,\n",
    "    y=targetcol,\n",
    "    grid_id=\"grid_2\", # Can't be reused; consider incrementing on subsequent runs. TBD: try kernel restart for this instead\n",
    "    training_frame=train_hex,\n",
    "    validation_frame=test_hex,\n",
    "    quiet_mode=FALSE,\n",
    "    export_weights_and_biases=TRUE,\n",
    "    activation=\"Tanh\",\n",
    "    autoencoder=FALSE,\n",
    "    ignore_const_cols=FALSE,\n",
    "    standardize=FALSE,\n",
    "    train_samples_per_iteration=0,\n",
    "    adaptive_rate=FALSE, # Manaully tuned learning rate\n",
    "    classification_stop = -1, # Dispable automatic stopping\n",
    "    regression_stop = -1, # Disable automatic stopping\n",
    "    stopping_rounds = 0, # Don't stop automatically\n",
    "    hyper_params = hyper_params\n",
    "\n",
    ")"
   ]
  },
  {
   "cell_type": "markdown",
   "metadata": {},
   "source": [
    "Display the grid search results"
   ]
  },
  {
   "cell_type": "code",
   "execution_count": 11,
   "metadata": {},
   "outputs": [
    {
     "data": {
      "text/plain": [
       "H2O Grid Details\n",
       "================\n",
       "\n",
       "Grid ID: grid_2 \n",
       "Used hyper parameters: \n",
       "  -  epochs \n",
       "  -  hidden \n",
       "  -  input_dropout_ratio \n",
       "  -  l1 \n",
       "  -  l2 \n",
       "Number of models: 180 \n",
       "Number of failed models: 0 \n",
       "\n",
       "Hyper-Parameter Search Summary: ordered by increasing mse\n",
       "  epochs       hidden input_dropout_ratio     l1   l2       model_ids\n",
       "1  100.0 [10, 10, 10]                0.01    0.0  0.0 grid_2_model_10\n",
       "2  100.0         [10]                 0.0   0.01  0.0 grid_2_model_18\n",
       "3  100.0 [10, 10, 10]              1.0E-4   0.01  0.0 grid_2_model_30\n",
       "4  100.0       [5, 5]              1.0E-4 1.0E-5 0.01 grid_2_model_89\n",
       "5  100.0 [10, 10, 10]                 0.0   0.01 0.01 grid_2_model_65\n",
       "                 mse\n",
       "1   58.6383415372254\n",
       "2 58.887268785677044\n",
       "3 58.893496403324285\n",
       "4  58.95553127839519\n",
       "5  60.11445319547099\n",
       "\n",
       "---\n",
       "    epochs hidden input_dropout_ratio     l1     l2        model_ids\n",
       "175  100.0   [10]                0.01 1.0E-5 1.0E-5 grid_2_model_173\n",
       "176  100.0    [5]                0.01 1.0E-5   0.01  grid_2_model_82\n",
       "177  100.0    [5]                 0.0   0.01 1.0E-5 grid_2_model_152\n",
       "178  100.0 [5, 5]                0.01   0.01 1.0E-5 grid_2_model_159\n",
       "179  100.0    [5]                0.01    0.0  0.001  grid_2_model_97\n",
       "180  100.0   [10]                 0.0   0.01 1.0E-5 grid_2_model_153\n",
       "                   mse\n",
       "175   76.4180267331618\n",
       "176  77.30283396577978\n",
       "177  77.60781150140224\n",
       "178   79.3200706676975\n",
       "179  88.27824335695368\n",
       "180 103.80453577571288"
      ]
     },
     "metadata": {},
     "output_type": "display_data"
    }
   ],
   "source": [
    "h2o.getGrid(\"grid_2\", sort_by=\"mse\", decreasing=FALSE)"
   ]
  },
  {
   "cell_type": "code",
   "execution_count": null,
   "metadata": {},
   "outputs": [],
   "source": []
  }
 ],
 "metadata": {
  "kernelspec": {
   "display_name": "R",
   "language": "R",
   "name": "ir"
  },
  "language_info": {
   "codemirror_mode": "r",
   "file_extension": ".r",
   "mimetype": "text/x-r-source",
   "name": "R",
   "pygments_lexer": "r",
   "version": "3.6.1"
  }
 },
 "nbformat": 4,
 "nbformat_minor": 4
}
